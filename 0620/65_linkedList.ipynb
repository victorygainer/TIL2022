{
 "cells": [
  {
   "cell_type": "markdown",
   "id": "9bb34c80",
   "metadata": {},
   "source": [
    "<img src=\"./linkedlist.png\" width=\"900\" align=\"left\"/>"
   ]
  },
  {
   "cell_type": "code",
   "execution_count": 1,
   "id": "bd94ea68",
   "metadata": {},
   "outputs": [],
   "source": [
    "# linkedList에 저장할 데이터를 기억하는 클래스 => 노드\n",
    "class Node:\n",
    "    def __init__(self, data = None):\n",
    "        self.data = data # 실제 데이터\n",
    "        self.next = None # 다음 데이터가 저장된 위치(주소)"
   ]
  },
  {
   "cell_type": "code",
   "execution_count": null,
   "id": "bcd91ec4",
   "metadata": {},
   "outputs": [],
   "source": [
    "# linkedList 자체를 의미하는 클래스\n",
    "class LinkedList:\n",
    "    def __init__(self):\n",
    "        self.head = None # LinkedList의 시작 위치\n",
    "        self.count = 0 # LinkedList에 저장된 데이터의 개수\n",
    "        \n",
    "    # LinkedList에 데이터를 입력하는 경우는 모두 3가지가 있다.\n",
    "    # 1. LinkedList의 맨 뒤에 데이터를 추가하는 경우\n",
    "    # 2. LinkedList의 맨 앞(head 바로 다음)에 데이터를 추가하는 경우\n",
    "    # 3. LinkedList의 특정 위치(맨 앞과 맨 뒤를 제외한)에 데이터를 삽입하는 경우\n",
    "    \n",
    "    "
   ]
  }
 ],
 "metadata": {
  "kernelspec": {
   "display_name": "Python 3 (ipykernel)",
   "language": "python",
   "name": "python3"
  },
  "language_info": {
   "codemirror_mode": {
    "name": "ipython",
    "version": 3
   },
   "file_extension": ".py",
   "mimetype": "text/x-python",
   "name": "python",
   "nbconvert_exporter": "python",
   "pygments_lexer": "ipython3",
   "version": "3.10.4"
  }
 },
 "nbformat": 4,
 "nbformat_minor": 5
}
