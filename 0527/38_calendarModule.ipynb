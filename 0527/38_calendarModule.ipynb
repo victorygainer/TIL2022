{
 "cells": [
  {
   "cell_type": "code",
   "execution_count": 5,
   "id": "56fde5d9",
   "metadata": {},
   "outputs": [],
   "source": [
    "# 인수로 년을 넘겨받아 윤년, 평년을 판단해 윤년이면 True, 평년이면 False를 리턴하는 isLeapYear(year) 함수를 만든다.\n",
    "# 논리값을 기억하는 변수나 논리값을 return 하는 함수는 이름을 'is'로 시작하는 것이 관행이다.\n",
    "def isLeapYear(year):\n",
    "    # 년도가 4로 나눠 떨어지고 100으로 나눠 떨어지지 않거나 400으로 나눠 떨어지면 윤년, 그렇치 않으면 평년\n",
    "    return year % 4 == 0 and year % 100 != 0 or year % 400 == 0"
   ]
  },
  {
   "cell_type": "code",
   "execution_count": 12,
   "id": "621a7ef1",
   "metadata": {},
   "outputs": [],
   "source": [
    "# 인수로 년, 월을 넘겨받아 그 달의 마지막 날짜를 리턴하는 lastDay(year, month) 함수를 만든다.\n",
    "def lastDay(year, month):\n",
    "    # 각 달의 마지막 날짜를 기억하는 리스트를 만든다.\n",
    "    m = [31, 0, 31, 30, 31, 30, 31, 31, 30, 31, 30, 31]\n",
    "    # 인수로 넘겨받은 년도에 해당되는 2월의 마지막 날짜를 확정한다.\n",
    "    m[1] = 29 if isLeapYear(year) else 28\n",
    "    # 마지막 날짜를 리턴시킨다.\n",
    "    return m[month - 1]"
   ]
  },
  {
   "cell_type": "code",
   "execution_count": 18,
   "id": "f3ac76f9",
   "metadata": {},
   "outputs": [],
   "source": [
    "# 인수로 년, 월, 일을 넘겨받아 1년 1월 1일 부터 지난 날짜의 합계를 리턴하는 totalDay(year, month, day) 함수를 만든다.\n",
    "def totalDay(year, month, day):\n",
    "    # 인수로 넘어온 년도가 다 지나가지 않았으므로 1년 1월 1일부터 전년도 12월 31일까지 지난 날짜를 계산한다.\n",
    "    total = (year - 1) * 365 + (year - 1) // 4 - (year - 1) // 100 + (year - 1) // 400\n",
    "    # 전년도 12월 31일 까지 지난 날짜에 전달까지 지난 날짜를 더한다.\n",
    "    for i in range(1, month):\n",
    "        total += lastDay(year, i)\n",
    "    # 전달까지 지난 날짜에 일을 더해 리턴시킨다.\n",
    "    return total + day"
   ]
  },
  {
   "cell_type": "code",
   "execution_count": 21,
   "id": "93033d0d",
   "metadata": {},
   "outputs": [],
   "source": [
    "# 인수로 년, 월, 일을 넘겨받아 요일을 계산해서 숫자로 리턴하는 weekDay(year, month, day) 함수를 만든다.\n",
    "# 일요일(0), 월요일(1), 화요일(2), 수요일(3), 목요일(4), 금요일(5), 토요일(6)\n",
    "def weekDay(year, month, day):\n",
    "    return totalDay(year, month, day) % 7"
   ]
  },
  {
   "cell_type": "code",
   "execution_count": 22,
   "id": "385c16ee",
   "metadata": {},
   "outputs": [
    {
     "name": "stdout",
     "output_type": "stream",
     "text": [
      "False\n",
      "31\n",
      "738301\n",
      "4\n"
     ]
    }
   ],
   "source": [
    "# 파이썬 파일 1개만 사용할 때는 __name__ == '__main__':를 사용하나 사용하지 않으나 아무런 차이가 없다.\n",
    "# 현재 파이썬 파일이 다른 파이썬 파일에서 모듈로 import 된다면 __name__ == '__main__': 블록의 코드가 실행되지 않는다.\n",
    "if __name__ == '__main__':\n",
    "    print(isLeapYear(2022))\n",
    "    print(lastDay(2022, 5))\n",
    "    print(totalDay(2022, 5, 26))\n",
    "    print(weekDay(2022, 5, 26))"
   ]
  },
  {
   "cell_type": "code",
   "execution_count": null,
   "id": "4b56c5a1",
   "metadata": {},
   "outputs": [],
   "source": []
  }
 ],
 "metadata": {
  "kernelspec": {
   "display_name": "Python 3 (ipykernel)",
   "language": "python",
   "name": "python3"
  },
  "language_info": {
   "codemirror_mode": {
    "name": "ipython",
    "version": 3
   },
   "file_extension": ".py",
   "mimetype": "text/x-python",
   "name": "python",
   "nbconvert_exporter": "python",
   "pygments_lexer": "ipython3",
   "version": "3.10.4"
  }
 },
 "nbformat": 4,
 "nbformat_minor": 5
}
