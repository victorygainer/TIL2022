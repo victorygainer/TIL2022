{
 "cells": [
  {
   "cell_type": "markdown",
   "id": "98ceaab2",
   "metadata": {},
   "source": [
    "# 모듈 import\n",
    "사용자가 만든 파이썬 파일을 import 시켜서 사용할 수 있다.  \n",
    "import할 모듈의 이름은 반드시 문자로 시작해야 하고 현재 작성중인 소스 파일과 이름이 같으면 안된다."
   ]
  },
  {
   "cell_type": "code",
   "execution_count": 1,
   "id": "56fde5d9",
   "metadata": {},
   "outputs": [],
   "source": [
    "import calendarModule"
   ]
  },
  {
   "cell_type": "markdown",
   "id": "35ebbc16",
   "metadata": {},
   "source": [
    "import된 모듈의 함수를 실행하려면 모듈이름.함수이름() 형태로 실행해야 한다."
   ]
  },
  {
   "cell_type": "code",
   "execution_count": 3,
   "id": "385c16ee",
   "metadata": {},
   "outputs": [
    {
     "name": "stdout",
     "output_type": "stream",
     "text": [
      "달력을 출력할 년과 월을 입력하세요: 2022 5\n",
      "============================\n",
      "         2022년 5월\n",
      "============================\n",
      " 일  월  화  수  목  금  토 \n",
      "============================\n",
      "  1   2   3   4   5   6   7 \n",
      "  8   9  10  11  12  13  14 \n",
      " 15  16  17  18  19  20  21 \n",
      " 22  23  24  25  26  27  28 \n",
      " 29  30  31 \n",
      "============================\n"
     ]
    }
   ],
   "source": [
    "year, month = map(int, input('달력을 출력할 년과 월을 입력하세요: ').split())\n",
    "print('=' * 28)\n",
    "print('         {:4d}년{:2d}월'.format(year, month))\n",
    "print('=' * 28)\n",
    "print(' 일  월  화  수  목  금  토 ')\n",
    "print('=' * 28)\n",
    "\n",
    "for i in range(calendarModule.weekDay(year, month, 1)):\n",
    "    print('    ', end='')\n",
    "\n",
    "for i in range(1, calendarModule.lastDay(year, month) + 1):\n",
    "    print(' {:2d} '.format(i), end='')\n",
    "    if calendarModule.weekDay(year, month, i) == 6 and i != calendarModule.lastDay(year, month):\n",
    "        print()\n",
    "print('\\n' + '=' * 28)"
   ]
  },
  {
   "cell_type": "code",
   "execution_count": null,
   "id": "4b56c5a1",
   "metadata": {},
   "outputs": [],
   "source": []
  },
  {
   "cell_type": "code",
   "execution_count": null,
   "id": "c21536ca",
   "metadata": {},
   "outputs": [],
   "source": []
  },
  {
   "cell_type": "code",
   "execution_count": null,
   "id": "dea54cec",
   "metadata": {},
   "outputs": [],
   "source": []
  },
  {
   "cell_type": "code",
   "execution_count": null,
   "id": "63035666",
   "metadata": {},
   "outputs": [],
   "source": []
  },
  {
   "cell_type": "code",
   "execution_count": null,
   "id": "97d3cc8b",
   "metadata": {},
   "outputs": [],
   "source": []
  }
 ],
 "metadata": {
  "kernelspec": {
   "display_name": "Python 3 (ipykernel)",
   "language": "python",
   "name": "python3"
  },
  "language_info": {
   "codemirror_mode": {
    "name": "ipython",
    "version": 3
   },
   "file_extension": ".py",
   "mimetype": "text/x-python",
   "name": "python",
   "nbconvert_exporter": "python",
   "pygments_lexer": "ipython3",
   "version": "3.10.4"
  }
 },
 "nbformat": 4,
 "nbformat_minor": 5
}
