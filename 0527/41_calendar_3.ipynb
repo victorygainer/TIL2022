{
 "cells": [
  {
   "cell_type": "markdown",
   "id": "98ceaab2",
   "metadata": {},
   "source": [
    "import된 모듈의 이름이 길어서 사용하기 불편하면 'as' 예약어를 사용해서 모듈의 별명을 지정해서 사용할 수 있다.  \n",
    "모듈에 별명을 지정했으면 더 이상 원래 모듈 이름을 사용할 수 없고 별명으로 지정한 이름을 사용해야 한다."
   ]
  },
  {
   "cell_type": "code",
   "execution_count": 1,
   "id": "56fde5d9",
   "metadata": {},
   "outputs": [],
   "source": [
    "import calendarModule as cm"
   ]
  },
  {
   "cell_type": "code",
   "execution_count": 3,
   "id": "385c16ee",
   "metadata": {},
   "outputs": [
    {
     "name": "stdout",
     "output_type": "stream",
     "text": [
      "달력을 출력할 년과 월을 입력하세요: 2022 5\n",
      "============================\n",
      "         2022년 5월\n",
      "============================\n",
      " 일  월  화  수  목  금  토 \n",
      "============================\n",
      "  1   2   3   4   5   6   7 \n",
      "  8   9  10  11  12  13  14 \n",
      " 15  16  17  18  19  20  21 \n",
      " 22  23  24  25  26  27  28 \n",
      " 29  30  31 \n",
      "============================\n"
     ]
    }
   ],
   "source": [
    "year, month = map(int, input('달력을 출력할 년과 월을 입력하세요: ').split())\n",
    "print('=' * 28)\n",
    "print('         {:4d}년{:2d}월'.format(year, month))\n",
    "print('=' * 28)\n",
    "print(' 일  월  화  수  목  금  토 ')\n",
    "print('=' * 28)\n",
    "\n",
    "for i in range(cm.weekDay(year, month, 1)):\n",
    "    print('    ', end='')\n",
    "\n",
    "for i in range(1, cm.lastDay(year, month) + 1):\n",
    "    print(' {:2d} '.format(i), end='')\n",
    "    if cm.weekDay(year, month, i) == 6 and i != cm.lastDay(year, month):\n",
    "        print()\n",
    "print('\\n' + '=' * 28)"
   ]
  },
  {
   "cell_type": "code",
   "execution_count": null,
   "id": "4b56c5a1",
   "metadata": {},
   "outputs": [],
   "source": []
  },
  {
   "cell_type": "code",
   "execution_count": null,
   "id": "c21536ca",
   "metadata": {},
   "outputs": [],
   "source": []
  },
  {
   "cell_type": "code",
   "execution_count": null,
   "id": "dea54cec",
   "metadata": {},
   "outputs": [],
   "source": []
  },
  {
   "cell_type": "code",
   "execution_count": null,
   "id": "63035666",
   "metadata": {},
   "outputs": [],
   "source": []
  },
  {
   "cell_type": "code",
   "execution_count": null,
   "id": "97d3cc8b",
   "metadata": {},
   "outputs": [],
   "source": []
  }
 ],
 "metadata": {
  "kernelspec": {
   "display_name": "Python 3 (ipykernel)",
   "language": "python",
   "name": "python3"
  },
  "language_info": {
   "codemirror_mode": {
    "name": "ipython",
    "version": 3
   },
   "file_extension": ".py",
   "mimetype": "text/x-python",
   "name": "python",
   "nbconvert_exporter": "python",
   "pygments_lexer": "ipython3",
   "version": "3.10.4"
  }
 },
 "nbformat": 4,
 "nbformat_minor": 5
}
