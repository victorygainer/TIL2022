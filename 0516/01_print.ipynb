{
 "cells": [
  {
   "cell_type": "markdown",
   "id": "c2631121",
   "metadata": {},
   "source": [
    "# 유용한 단축키\n",
    "\n",
    "자동완성: tab  \n",
    "코드실행: cntl + enter => 셀 실행, shift + enter => 셀 실행 후 다음 셀로 이동  \n",
    "함수 설명 보기: shift + tab  \n",
    "현재 셀 위에 빈 셀 삽입: a  \n",
    "현재 셀 아래에 빈 셀 삽입: b  \n",
    "현재 셀 삭제: d + d  \n",
    "현재 셀 복사: c  \n",
    "현재 셀 자르기: x  \n",
    "현재 셀 아래에 복사 또는 잘라낸 셀 붙여넣기: v  \n",
    "코드 셀을 마크다운 셀로 바꾸기: m  \n",
    "마크다운 셀을 코드 셀로 바꾸기: y  \n"
   ]
  },
  {
   "cell_type": "code",
   "execution_count": 21,
   "id": "73500a8f",
   "metadata": {},
   "outputs": [
    {
     "data": {
      "image/png": "[encoded data removed]",
      "text/plain": [
       "<IPython.core.display.Image object>"
      ]
     },
     "execution_count": 21,
     "metadata": {
      "image/png": {
       "width": "255"
      }
     },
     "output_type": "execute_result"
    }
   ],
   "source": [
    "from IPython.display import Image\n",
    "Image('./pythonlogo.png', width='255')"
   ]
  },
  {
   "cell_type": "markdown",
   "id": "55316295",
   "metadata": {},
   "source": [
    "<h1>마크다운 이미지 넣기</h1>\n",
    "<img src=\"./pythonlogo.png\" width= \"255\" align=\"left\">"
   ]
  },
  {
   "cell_type": "code",
   "execution_count": 23,
   "id": "9c436650",
   "metadata": {},
   "outputs": [],
   "source": [
    "# '#'으로 시작하면 1줄 주석 => 컴파일러(번역)나 인터프리터(통역)가 번역하지 않는다. => 코드 설명"
   ]
  },
  {
   "cell_type": "code",
   "execution_count": 34,
   "id": "183c8e2d",
   "metadata": {},
   "outputs": [
    {
     "ename": "SyntaxError",
     "evalue": "invalid syntax (3287839317.py, line 7)",
     "output_type": "error",
     "traceback": [
      "\u001b[0;36m  Input \u001b[0;32mIn [34]\u001b[0;36m\u001b[0m\n\u001b[0;31m    print('제2외국어를 배운 호랑이가' + /'야옹/' + '했습니다.')\u001b[0m\n\u001b[0m                             ^\u001b[0m\n\u001b[0;31mSyntaxError\u001b[0m\u001b[0;31m:\u001b[0m invalid syntax\n"
     ]
    }
   ],
   "source": [
    "# 파이썬은 문자열 데이터를 표현할 때 큰따옴표나 작은따옴표로 묶어주면 된다. => 짝만 맞추면 된다. \n",
    "# print() 함수는 () 안의 내용을 출력하고 줄을 바꾼다. \n",
    "print('Hello Python')\n",
    "print(\"안녕 파이썬\")\n",
    "print('제2외국어를 배운 호랑이가 \"야옹\" 했습니다.')\n",
    "print(\"제2외국어를 배운 호랑이가 '어흥' 했습니다.\")\n",
    "print('제2외국어를 배운 호랑이가 /'야옹/' 했습니다.')\n",
    "print(\"제2외국어를 배운 호랑이가 /\"어흥/\" 했습니다.\")"
   ]
  },
  {
   "cell_type": "code",
   "execution_count": 40,
   "id": "946bf0e8",
   "metadata": {},
   "outputs": [
    {
     "name": "stdout",
     "output_type": "stream",
     "text": [
      "hello\n",
      "python: 안녕 파이썬\n"
     ]
    }
   ],
   "source": [
    "# print() 함수로 출력 후 줄을 변경하지 않으려면 end 옵션을 사용해야 한다. \n",
    "# end 옵션은 print() 함수로 출력한 후 출력할 내용을 지정한다. \n",
    "# end 옵션을 생략하면 '\\n'이 기본값으로 사용된다. => '\\n' => new line => 줄을 바꾼다. \n",
    "print('hello\\npython', end=': ')\n",
    "print('안녕 파이썬')"
   ]
  },
  {
   "cell_type": "code",
   "execution_count": 46,
   "id": "f2a10940",
   "metadata": {},
   "outputs": [
    {
     "name": "stdout",
     "output_type": "stream",
     "text": [
      "Hello python 안녕 파이썬\n",
      "Hello python 안녕 파이썬\n",
      "Hello python, 안녕 파이썬\n",
      "Hello python|안녕 파이썬\n"
     ]
    }
   ],
   "source": [
    "# print() 함수로 2개 이상의 데이터를 출력할 때 ','로 구분해서 출력할 수 있다.\n",
    "# print() 함수로 출력시 ','로 데이터를 구분하면 sep 옵션에서 지정한 구분자가 데이터와 데이터 사이에 출력된다.\n",
    "# sep 옵션을 생략하면 공백이 기본값으로 사용된다. \n",
    "print('Hello python', '안녕 파이썬')\n",
    "print('Hello python', '안녕 파이썬', sep=' ')\n",
    "print('Hello python', '안녕 파이썬', sep=', ')\n",
    "print('Hello python', '안녕 파이썬', sep='|')\n"
   ]
  },
  {
   "cell_type": "code",
   "execution_count": 50,
   "id": "e3fe38dd",
   "metadata": {},
   "outputs": [
    {
     "name": "stdout",
     "output_type": "stream",
     "text": [
      "13\n",
      "58\n"
     ]
    },
    {
     "ename": "TypeError",
     "evalue": "can only concatenate str (not \"int\") to str",
     "output_type": "error",
     "traceback": [
      "\u001b[0;31m---------------------------------------------------------------------------\u001b[0m",
      "\u001b[0;31mTypeError\u001b[0m                                 Traceback (most recent call last)",
      "Input \u001b[0;32mIn [50]\u001b[0m, in \u001b[0;36m<cell line: 4>\u001b[0;34m()\u001b[0m\n\u001b[1;32m      2\u001b[0m \u001b[38;5;28mprint\u001b[39m(\u001b[38;5;241m5\u001b[39m\u001b[38;5;241m+\u001b[39m\u001b[38;5;241m8\u001b[39m)\n\u001b[1;32m      3\u001b[0m \u001b[38;5;28mprint\u001b[39m(\u001b[38;5;124m'\u001b[39m\u001b[38;5;124m5\u001b[39m\u001b[38;5;124m'\u001b[39m\u001b[38;5;241m+\u001b[39m\u001b[38;5;124m'\u001b[39m\u001b[38;5;124m8\u001b[39m\u001b[38;5;124m'\u001b[39m)\n\u001b[0;32m----> 4\u001b[0m \u001b[38;5;28mprint\u001b[39m(\u001b[38;5;124;43m'\u001b[39;49m\u001b[38;5;124;43m5\u001b[39;49m\u001b[38;5;124;43m'\u001b[39;49m\u001b[38;5;241;43m+\u001b[39;49m\u001b[43m \u001b[49m\u001b[38;5;241;43m8\u001b[39;49m )\n",
      "\u001b[0;31mTypeError\u001b[0m: can only concatenate str (not \"int\") to str"
     ]
    }
   ],
   "source": [
    "# '+' 연산자를 사용하면 문자열 데이터를 연결해서 출력할 수 있다.\n",
    "print(5+8)\n",
    "print('5'+'8')\n",
    "print('5'+ 8 ) # 에러 interpreter 번역기의 특징 : 문자열 + 숫자 덧셈이 안된다.\n"
   ]
  },
  {
   "cell_type": "code",
   "execution_count": 58,
   "id": "c59dd54d",
   "metadata": {},
   "outputs": [
    {
     "name": "stdout",
     "output_type": "stream",
     "text": [
      "==========================================================================================\n"
     ]
    }
   ],
   "source": [
    "# '*' 연산자를 사용하면 지정된 문자열을 지정된 횟수만큼 반복해서 출력할 수 있다.\n",
    "print('=' * 90)"
   ]
  },
  {
   "cell_type": "markdown",
   "id": "0a277c4d",
   "metadata": {},
   "source": [
    "# '%'와 서식 문자를 사용해서 출력하기  \n",
    "\n",
    "## 서식 문자\n",
    "d(정수), f(실수), s(문자열)를 사용해서 출력 서식을 지정할 수 있고 출력 서식을 제외한 나머지 문자들은 그대로 출력된다.\n",
    "\n",
    "## 출력 서식의 형식\n",
    "%[-][0][n][.m]서식문자 => []안의 내용은 생략할 수 있다.  \n",
    "n: 전체 자리수, 전체 자리수를 지정하면 데이터가 오른쪽으로 정렬되서 출력된다.  \n",
    "-: 전체 자리수가 지정된 경우 데이터를 왼쪽으로 맞춰 출력한다.  \n",
    "0: 전체 자리수가 지정된 경우 숫자 앞의 남는 자리를 '0'으로 채워서 출력한다.  \n",
    ".m: 실수를 출력할 경우 소수점 아래 자리수를 지정한다. "
   ]
  },
  {
   "cell_type": "code",
   "execution_count": 59,
   "id": "ffe81462",
   "metadata": {},
   "outputs": [
    {
     "name": "stdout",
     "output_type": "stream",
     "text": [
      "100\n",
      "1\n",
      "10000\n"
     ]
    }
   ],
   "source": [
    "print(100)\n",
    "print(1)\n",
    "print(10000)"
   ]
  },
  {
   "cell_type": "markdown",
   "id": "5ea59e8c",
   "metadata": {},
   "source": [
    "# print('출력 서식' % 출력할 데이터) => 출력할 데이터가 1개일 경우"
   ]
  },
  {
   "cell_type": "code",
   "execution_count": 64,
   "id": "18b7eb7d",
   "metadata": {},
   "outputs": [
    {
     "name": "stdout",
     "output_type": "stream",
     "text": [
      "  100\n",
      "    1\n",
      "1    \n",
      "00001\n",
      "10000\n"
     ]
    }
   ],
   "source": [
    "print('%5d' % 100)\n",
    "print('%5d' % 1)\n",
    "print('%-5d' % 1)\n",
    "print('%05d' % 1)\n",
    "print('%5d' % 10000)"
   ]
  },
  {
   "cell_type": "code",
   "execution_count": 65,
   "id": "d812fbf6",
   "metadata": {},
   "outputs": [
    {
     "name": "stdout",
     "output_type": "stream",
     "text": [
      "abc\n",
      "a\n",
      "abcde\n"
     ]
    }
   ],
   "source": [
    "print('abc')\n",
    "print('a')\n",
    "print('abcde')"
   ]
  },
  {
   "cell_type": "code",
   "execution_count": 73,
   "id": "862a5346",
   "metadata": {},
   "outputs": [
    {
     "name": "stdout",
     "output_type": "stream",
     "text": [
      "  abc\n",
      "    a\n",
      "abcde\n",
      "a    \n",
      "    a\n",
      "abcde\n"
     ]
    }
   ],
   "source": [
    "print('%5s' % 'abc')\n",
    "print('%5s' % 'a')\n",
    "print('%5s' % 'abcde')\n",
    "print('%-5s' % 'a')\n",
    "print('%05s' % 'a') # 자바는 에러, 파이썬은 무시\n",
    "print('%5s' % 'abcde')"
   ]
  },
  {
   "cell_type": "code",
   "execution_count": 78,
   "id": "f88dc704",
   "metadata": {},
   "outputs": [
    {
     "name": "stdout",
     "output_type": "stream",
     "text": [
      "123.45\n",
      "123.46\n",
      "123.40\n"
     ]
    }
   ],
   "source": [
    "print('%6.2f' % 123.45)\n",
    "print('%6.2f' % 123.456) # 소수점 아래 숫자는 잘리는 자리에서 반올림해 출력한다. 실제 데이터는 변하지 않는다.  \n",
    "print('%6.2f' % 123.4) # 남는 자리는 '0'을 채워서 출력한다."
   ]
  },
  {
   "cell_type": "code",
   "execution_count": 93,
   "id": "79dd5253",
   "metadata": {},
   "outputs": [
    {
     "name": "stdout",
     "output_type": "stream",
     "text": [
      "5 + 3 = 8\n",
      "5 - 3 = 2\n",
      "5 * 3 = 15\n",
      "5 / 3 = 1\n",
      "5 / 3 = 1.666667\n",
      "5 // 3 = 1\n",
      "5 // 3 = 1.000000\n",
      "5 % 3 = 2\n",
      "2의 10승 = 1024\n",
      "루트 2 = 1.414214\n",
      "2의 10승 = 1024\n",
      "루트 2 = 1.414214\n"
     ]
    }
   ],
   "source": [
    "# '%'를 사용한 출력 서식에 맞춰 출력할 데이터가 2건 이상이라면 출력할 데이터를 반드시 ()로 묶어야 한다. \n",
    "print('%d + %d = %d' % (5, 3, 5 + 3)) # 덧셈\n",
    "print('%d - %d = %d' % (5, 3, 5 - 3)) # 뺄셈\n",
    "print('%d * %d = %d' % (5, 3, 5 * 3)) # 곱셈\n",
    "# 파이썬은 '/' 연산자로 나눗셈을 하면 소수점 아래까지 계산된다.\n",
    "# '/' 연산자는 결과가 실수로 나오지만 출력 서식이 '%d'(정수)로 지정되서 정수만 출력된다. \n",
    "print('%d / %d = %d' % (5, 3, 5 / 3)) # 나눗셈 => 결과가 실수\n",
    "print('%d / %d = %f' % (5, 3, 5 / 3)) \n",
    "# '//' 연산자는 나눗셈을 하면 몫만 계산된다.\n",
    "print('%d // %d = %d' % (5, 3, 5 // 3)) # 나눗셈 => 결과가 정수\n",
    "print('%d // %d = %f' % (5, 3, 5 // 3))\n",
    "# 출력 서식을 지정할 때 '%' 문자 자체를 출력하려면 연속해서 2개를 써야한다.\n",
    "print('%d %% %d = %d' % (5, 3, 5 % 3)) # 나머지\n",
    "print('%d의 %d승 = %d' % (2, 10, 2 ** 10)) # 거듭제곱 \n",
    "print('루트 %d = %f' % (2, 2 ** 0.5)) # 제곱근\n",
    "import math\n",
    "print('%d의 %d승 = %d' % (2, 10, math.pow(2, 10))) # 거듭제곱 메소드\n",
    "print('루트 %d = %f' % (2, math.sqrt(2))) # 제곱근 메소드"
   ]
  },
  {
   "cell_type": "markdown",
   "id": "783dc777",
   "metadata": {},
   "source": [
    "# 산술 연산자 우선순위\n",
    "(&nbsp;&nbsp;&nbsp;) → ** → *, /, //, % → +, -"
   ]
  },
  {
   "cell_type": "code",
   "execution_count": 104,
   "id": "f4bdc151",
   "metadata": {
    "scrolled": true
   },
   "outputs": [
    {
     "name": "stdout",
     "output_type": "stream",
     "text": [
      "5 + 3 = 8\n",
      "5 + 3 = 8\n",
      "5 - 3 = 2\n",
      "5 * 3 = 15\n",
      "5 / 3 = 1.6666666666666667\n",
      "5 // 3 = 1\n",
      "5 % 3 = 2\n",
      "2의 10승 = 1024\n",
      "루트 2 = 1.4142135623730951\n"
     ]
    }
   ],
   "source": [
    "print('%d + %d = %d' % (5, 3, 5 + 3)) \n",
    "\n",
    "# '%'로 서식을 지정할 때는 %d, %f, %s 위치에 데이터가 대입되서 출력되었지만 {}를 사용하면 {}에 # 데이터가 대입되서 출력된다.\n",
    "print('{} + {} = {}'.format(5, 3, 5 + 3))\n",
    "print('{} - {} = {}'.format(5, 3, 5 - 3))\n",
    "print('{} * {} = {}'.format(5, 3, 5 * 3))\n",
    "print('{} / {} = {}'.format(5, 3, 5 / 3))\n",
    "print('{} // {} = {}'.format(5, 3, 5 // 3))\n",
    "print('{} % {} = {}'.format(5, 3, 5 % 3))\n",
    "print('{}의 {}승 = {}'.format(2, 10, 2 ** 10))\n",
    "print('루트 {} = {}'.format(2, 2 ** 0.5)_\n",
    "\n"
   ]
  },
  {
   "cell_type": "markdown",
   "id": "9da18700",
   "metadata": {},
   "source": [
    "format() 메소드와 출력할 데이터의 인덱스(일련번호)를 사용해 출력하기 => 인덱스는 0부터 시작된다.  "
   ]
  },
  {
   "cell_type": "code",
   "execution_count": 108,
   "id": "de394e91",
   "metadata": {},
   "outputs": [
    {
     "name": "stdout",
     "output_type": "stream",
     "text": [
      "홍길동 바보\n",
      "홍길동\n",
      "홍길동 바보\n",
      "바보 홍길동\n",
      "바보 홍길동 바보\n"
     ]
    }
   ],
   "source": [
    "print('{} {}'.format('홍길동', '바보'))\n",
    "# 인덱스를 지정하지 않은 상태에서 아래와 같이 {}가 출력할 데이터보다 많으면 에러가 발생된다.\n",
    "# print('{} {} {}'.format('홍길동', '바보')) #에러\n",
    "# {}가 모자라면 에러는 발생되지 않고 출력되며 남는 데이터가 무시된다.\n",
    "print('{}'.format('홍길동', '바보'))\n",
    "print('{0} {1}'.format('홍길동', '바보'))\n",
    "print('{1} {0}'.format('홍길동', '바보'))\n",
    "# {}에 출력할 데이터의 인덱스를 지정하면 데이터와 {}의 개수가 다르더라도 인덱스 범위만 벗어나지 않으면 정상 출력된다.\n",
    "print('{1} {0} {1}'.format('홍길동', '바보'))\n",
    "# print('{0} {1} {2}'.format('홍길동', '바보')) # 에러\n",
    "# {}에 인덱스를 부분적으로 지정하면 에러가 발생된다.\n",
    "# print('{} {0} {1}.format('홍길동, '바보')) # 에러"
   ]
  },
  {
   "cell_type": "markdown",
   "id": "b9d50021",
   "metadata": {},
   "source": [
    "## 출력 서식과 format() 메소드로 출력할 데이터의 서식을 지정해 출력하기   \n",
    "## {인덱스:출력서식} => 인덱스는 생략할 수 있고 출력 서식에 '%'를 사용하지 않는다. "
   ]
  },
  {
   "cell_type": "code",
   "execution_count": 120,
   "id": "b943d679",
   "metadata": {},
   "outputs": [
    {
     "name": "stdout",
     "output_type": "stream",
     "text": [
      "        멜론는(은)   15000원 입니다.\n",
      "멜론는(은) 15000원 입니다.\n",
      "멜론는(은) 15000원 입니다.\n",
      "멜론        는(은)   15000원 입니다.\n",
      "멜론        는(은)   15000원 입니다.\n",
      "멜론        는(은)  15,000원 입니다.\n",
      "멜론        는(은) 12.346%원 입니다.\n"
     ]
    }
   ],
   "source": [
    "print('%10s는(은) %7d원 입니다.' % ('멜론', 15000))\n",
    "print('{}는(은) {}원 입니다.'.format('멜론', 15000))\n",
    "print('{0}는(은) {1}원 입니다.'.format('멜론', 15000))\n",
    "print('{0:10s}는(은) {1:7d}원 입니다.'.format('멜론', 15000))\n",
    "print('{:10s}는(은) {:7d}원 입니다.'.format('멜론', 15000))\n",
    "print('{:10s}는(은) {:7,d}원 입니다.'.format('멜론', 15000)) # 천 단위 ',' 넣기\n",
    "print('{:10s}는(은) {:7.3%}원 입니다.'.format('멜론', 0.1234567)) # 백분율, 자동으로 100을 곱한다."
   ]
  },
  {
   "cell_type": "code",
   "execution_count": 121,
   "id": "0065f62b",
   "metadata": {},
   "outputs": [
    {
     "name": "stdout",
     "output_type": "stream",
     "text": [
      "홍길동님은 20살 입니다.\n"
     ]
    }
   ],
   "source": [
    "#f접두어를 사용한 출력 => 파이썬 3.6에서 등장 \n",
    "name = '홍길동'\n",
    "age = 20 \n",
    "print(f'{name}님은 {age}살 입니다.')"
   ]
  },
  {
   "cell_type": "code",
   "execution_count": null,
   "id": "52ba357f",
   "metadata": {},
   "outputs": [],
   "source": []
  }
 ],
 "metadata": {
  "kernelspec": {
   "display_name": "Python 3 (ipykernel)",
   "language": "python",
   "name": "python3"
  },
  "language_info": {
   "codemirror_mode": {
    "name": "ipython",
    "version": 3
   },
   "file_extension": ".py",
   "mimetype": "text/x-python",
   "name": "python",
   "nbconvert_exporter": "python",
   "pygments_lexer": "ipython3",
   "version": "3.10.4"
  }
 },
 "nbformat": 4,
 "nbformat_minor": 5
}
