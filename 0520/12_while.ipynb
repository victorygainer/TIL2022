{
 "cells": [
  {
   "cell_type": "markdown",
   "id": "40bb2cf6",
   "metadata": {},
   "source": [
    "# while"
   ]
  },
  {
   "cell_type": "markdown",
   "id": "a88545cd",
   "metadata": {},
   "source": [
    "while은 조건이 참인동안 반복하고 조건이 거짓이되는 순간 반복이 종료된다.  \n",
    "while의 최조 진입 조건이 거짓이면 while 블록을 한번도 실행하지 않는다.  \n",
    "for는 반복 횟수를 알고있는 경우 사용하고 while은 반복을 하기는 해야겠는데 몇 번 반복해야하는지 모를 때 사용한다.  \n",
    "***\n",
    "while 조건식:  \n",
    "    조건이 참일 경우 실행할 문장  \n",
    "    ...  "
   ]
  },
  {
   "cell_type": "code",
   "execution_count": 4,
   "id": "a0111bc7",
   "metadata": {},
   "outputs": [
    {
     "name": "stdout",
     "output_type": "stream",
     "text": [
      "55\n"
     ]
    }
   ],
   "source": [
    "# 1 ~ 10의 합계\"\n",
    "# 변수는 선언시 반드시 초기화시켜야 한다.\n",
    "i = 0 # 1 ~ 10까지 1씩 증가시키는 변수\n",
    "total = 0 # 1 ~ 10까지의 합계를 기억 할 변수\n",
    "while i < 10:  \n",
    "    i += 1 \n",
    "    total += i\n",
    "# =========== while i < 10\n",
    "print(total)"
   ]
  },
  {
   "cell_type": "code",
   "execution_count": 15,
   "id": "d81857b8",
   "metadata": {},
   "outputs": [
    {
     "ename": "KeyboardInterrupt",
     "evalue": "",
     "output_type": "error",
     "traceback": [
      "\u001b[0;31m---------------------------------------------------------------------------\u001b[0m",
      "\u001b[0;31mKeyboardInterrupt\u001b[0m                         Traceback (most recent call last)",
      "Input \u001b[0;32mIn [15]\u001b[0m, in \u001b[0;36m<cell line: 5>\u001b[0;34m()\u001b[0m\n\u001b[1;32m      6\u001b[0m     i \u001b[38;5;241m+\u001b[39m \u001b[38;5;241m1\u001b[39m\n\u001b[1;32m      7\u001b[0m     total \u001b[38;5;241m+\u001b[39m\u001b[38;5;241m=\u001b[39m i\n\u001b[0;32m----> 8\u001b[0m     \u001b[38;5;28;01mif\u001b[39;00m i \u001b[38;5;241m==\u001b[39m \u001b[38;5;241m10\u001b[39m:\n\u001b[1;32m      9\u001b[0m         \u001b[38;5;28;01mbreak\u001b[39;00m\n\u001b[1;32m     10\u001b[0m     \u001b[38;5;66;03m#if i ======= 10\u001b[39;00m\n\u001b[1;32m     11\u001b[0m \u001b[38;5;66;03m# ======== while True\u001b[39;00m\n",
      "\u001b[0;31mKeyboardInterrupt\u001b[0m: "
     ]
    }
   ],
   "source": [
    "i = 0\n",
    "total = 0\n",
    "# 의도적으로 무한 루프를 발생시키려면 조건을 항상 참이되도록 하면된다. \n",
    "# 의도적으로 발생시킨 무한 루프는 반드시 break를 이용해서 무한루프를 탈출시키는 처리를 해야한다. \n",
    "while True: # 의도한 무한 루프\n",
    "    i + 1\n",
    "    total += i\n",
    "    if i == 10:\n",
    "        break\n",
    "    #if i ======= 10\n",
    "# ======== while True\n",
    "print(total)"
   ]
  },
  {
   "cell_type": "code",
   "execution_count": 7,
   "id": "443c6e6a",
   "metadata": {},
   "outputs": [
    {
     "name": "stdout",
     "output_type": "stream",
     "text": [
      "1\n",
      "3\n",
      "5\n",
      "7\n",
      "9\n"
     ]
    }
   ],
   "source": [
    "# break 명령은 반복 범위에 남아있는 문장들을 실행하지않고 반복을 탈출하고 continue 명령은 반복 범위에 남아있는 문장들을 실행하지 않고\n",
    "# 다음 반복을 실행한다. \n",
    "i = 0\n",
    "while i < 10:\n",
    "    i += 1 \n",
    "    if i % 2 == 0:\n",
    "        continue\n",
    "    # ===== if i % 2 == 0\n",
    "    print(i)"
   ]
  },
  {
   "cell_type": "code",
   "execution_count": 45,
   "id": "196bb5ae",
   "metadata": {
    "scrolled": true
   },
   "outputs": [
    {
     "name": "stdout",
     "output_type": "stream",
     "text": [
      "===================================\n",
      " 1.입력  2.보기  3.수정  4.삭제  5.종료 \n",
      "===================================\n",
      "1~5 숫자 중 하나를 선택해 주세요: 0\n",
      "메뉴는 1~5 사이의 값만 입력해야 합니다.\n",
      "===================================\n",
      " 1.입력  2.보기  3.수정  4.삭제  5.종료 \n",
      "===================================\n",
      "1~5 숫자 중 하나를 선택해 주세요: 0\n",
      "메뉴는 1~5 사이의 값만 입력해야 합니다.\n",
      "===================================\n",
      " 1.입력  2.보기  3.수정  4.삭제  5.종료 \n",
      "===================================\n",
      "1~5 숫자 중 하나를 선택해 주세요: 0\n",
      "메뉴는 1~5 사이의 값만 입력해야 합니다.\n",
      "===================================\n",
      " 1.입력  2.보기  3.수정  4.삭제  5.종료 \n",
      "===================================\n",
      "1~5 숫자 중 하나를 선택해 주세요: 0\n",
      "메뉴는 1~5 사이의 값만 입력해야 합니다.\n",
      "===================================\n",
      " 1.입력  2.보기  3.수정  4.삭제  5.종료 \n",
      "===================================\n",
      "1~5 숫자 중 하나를 선택해 주세요: 0\n",
      "메뉴는 1~5 사이의 값만 입력해야 합니다.\n",
      "===================================\n",
      " 1.입력  2.보기  3.수정  4.삭제  5.종료 \n",
      "===================================\n",
      "1~5 숫자 중 하나를 선택해 주세요: 0\n",
      "메뉴는 1~5 사이의 값만 입력해야 합니다.\n",
      "===================================\n",
      " 1.입력  2.보기  3.수정  4.삭제  5.종료 \n",
      "===================================\n",
      "1~5 숫자 중 하나를 선택해 주세요: 0\n",
      "메뉴는 1~5 사이의 값만 입력해야 합니다.\n",
      "===================================\n",
      " 1.입력  2.보기  3.수정  4.삭제  5.종료 \n",
      "===================================\n",
      "1~5 숫자 중 하나를 선택해 주세요: 5\n",
      "프로그램을 종료합니다.\n"
     ]
    }
   ],
   "source": [
    "menu = 0   \n",
    "while menu != 5:  \n",
    "    while True: # 의도한 무한 루프\n",
    "        print('=' * 35)\n",
    "        print(' 1.입력  2.보기  3.수정  4.삭제  5.종료 ')\n",
    "        print('=' * 35)\n",
    "        menu = int(input('1~5 숫자 중 하나를 선택해 주세요: '))\n",
    "\n",
    "        #if number == 1 or 2 or 3 or 4 or 5 :\n",
    "        #if 1<= number <= 5:\n",
    "        if menu >= 1 and menu <= 5: \n",
    "            break\n",
    "        else:\n",
    "            print('메뉴는 1~5 사이의 값만 입력해야 합니다.')\n",
    "        #if======= 10\n",
    "    # ======== while\n",
    "\n",
    "    # 여기까지 넘어왔으면 menu에는 1~5 사이의 정수가 입력된 것이다.\n",
    "    if menu == 1:\n",
    "        print('입력작업')\n",
    "    elif menu == 2:\n",
    "        print('보기작업')\n",
    "    elif menu == 3:\n",
    "        print('수정작업')\n",
    "    elif menu == 4:\n",
    "        print('삭제작업')\n",
    "# ========  while menu != 5:   \n",
    "print('프로그램을 종료합니다.')"
   ]
  },
  {
   "cell_type": "code",
   "execution_count": null,
   "id": "07e3b539",
   "metadata": {},
   "outputs": [],
   "source": []
  },
  {
   "cell_type": "code",
   "execution_count": null,
   "id": "53aae424",
   "metadata": {},
   "outputs": [],
   "source": []
  }
 ],
 "metadata": {
  "kernelspec": {
   "display_name": "Python 3 (ipykernel)",
   "language": "python",
   "name": "python3"
  },
  "language_info": {
   "codemirror_mode": {
    "name": "ipython",
    "version": 3
   },
   "file_extension": ".py",
   "mimetype": "text/x-python",
   "name": "python",
   "nbconvert_exporter": "python",
   "pygments_lexer": "ipython3",
   "version": "3.10.4"
  }
 },
 "nbformat": 4,
 "nbformat_minor": 5
}
