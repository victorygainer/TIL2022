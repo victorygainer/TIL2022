{
 "cells": [
  {
   "cell_type": "code",
   "execution_count": null,
   "id": "b29dfc60",
   "metadata": {},
   "outputs": [],
   "source": [
    "import random\n",
    "lotto = set()\n",
    "# 1등 번호\n",
    "while True: \n",
    "    number = random.randint(1,45)\n",
    "    print(number)\n",
    "    # 리스트는 중복을 확인하는 if가 필요했지만 set은 중복 데이터를 허용하지 않기 때문에 if가 필요없다.\n",
    "    lotto.add(number)\n",
    "    # set에 중복되지 않는 숫자가 6개 저장되면 무한 루프를 탈출시킨다.\n",
    "    if len(lotto) == 6:\n",
    "        break\n",
    "    # ===== if\n",
    "# ===== while\n",
    "print('1등 번호: {}'.format(lotto))"
   ]
  }
 ],
 "metadata": {
  "kernelspec": {
   "display_name": "Python 3 (ipykernel)",
   "language": "python",
   "name": "python3"
  },
  "language_info": {
   "codemirror_mode": {
    "name": "ipython",
    "version": 3
   },
   "file_extension": ".py",
   "mimetype": "text/x-python",
   "name": "python",
   "nbconvert_exporter": "python",
   "pygments_lexer": "ipython3",
   "version": "3.10.4"
  }
 },
 "nbformat": 4,
 "nbformat_minor": 5
}
