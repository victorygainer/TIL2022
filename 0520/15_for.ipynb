{
 "cells": [
  {
   "cell_type": "markdown",
   "id": "427b57c1",
   "metadata": {},
   "source": [
    "# for  \n",
    "제어 변수에 리스트, 튜플, 딕셔너리, set에 저장된 데이터가 처음부터 마지막까지 차례대로 대입되며 반복한다.  \n",
    "***\n",
    "for 변수 in 리스트(튜플, 딕셔너리, set):  \n",
    "&nbsp;&nbsp;&nbsp;&nbsp;반복할 문장  \n",
    "&nbsp;&nbsp;&nbsp;&nbsp;..."
   ]
  },
  {
   "cell_type": "markdown",
   "id": "8a263634",
   "metadata": {},
   "source": [
    "# range(&nbsp;) 함수  \n",
    "range() 함수는 지정한 초기치, 최종치, 증가치에 따른 숫자 리스트를 만든다.  \n",
    "***\n",
    "형식  \n",
    "range([초기치, ]최종치[, 증가치])  \n",
    "초기치와 증가치는 생략할 수 있고 초기치가 생략되면 0이 증가치가 생략되면 1이 기본값으로 사용된다.  \n",
    "즉, range(0, 10, 1)과 range(10)은 같은 표현이다.  \n"
   ]
  },
  {
   "cell_type": "code",
   "execution_count": 18,
   "id": "7e85fa06",
   "metadata": {},
   "outputs": [
    {
     "name": "stdout",
     "output_type": "stream",
     "text": [
      "range(0, 10)\n",
      "[0, 1, 2, 3, 4, 5, 6, 7, 8, 9]\n",
      "range(0, 10)\n",
      "[0, 1, 2, 3, 4, 5, 6, 7, 8, 9]\n",
      "range(0, 10, 2)\n",
      "[0, 2, 4, 6, 8]\n",
      "range(1, 10, 2)\n",
      "[1, 3, 5, 7, 9]\n",
      "[9, 8, 7, 6, 5, 4, 3, 2, 1, 0]\n"
     ]
    }
   ],
   "source": [
    "# range() 함수는 초기치부터 증가치만큼 증가하며 최종치를 넘어가지 않는 숫자 리스트를 만든다.\n",
    "# range() 함수가 실행된 결과 리스트는 리스트 생성자 함수를 사용해서 확인한다.\n",
    "print(range(0,10,1))\n",
    "print(list(range(0,10,1)))\n",
    "print(range(10))\n",
    "print(list(range(10)))\n",
    "print(range(0,10,2))\n",
    "print(list(range(0,10,2)))\n",
    "print(range(1,10,2))\n",
    "print(list(range(1,10,2)))\n",
    "print(list(range(9,-1,-1)))"
   ]
  },
  {
   "cell_type": "markdown",
   "id": "7a4d4637",
   "metadata": {},
   "source": [
    "range() 함수와 같이 사용하는 for \n",
    "range() 함슈ㅜ를 실행해서 생성된 숫자 리스트의 0번째 인덱스의 값부터 마지막 인덱스의 값까지 차례대로 변수에 저장하며 반복한다.  \n",
    "\n",
    "for 변수 in range(&nbsp;):  \n",
    "&nbsp;&nbsp;반복 할 문장  \n",
    "&nbsp;&nbsp;...  "
   ]
  },
  {
   "cell_type": "code",
   "execution_count": 17,
   "id": "5a995dfb",
   "metadata": {},
   "outputs": [
    {
     "name": "stdout",
     "output_type": "stream",
     "text": [
      "[0, 1, 2, 3, 4]\n",
      "0\n",
      "1\n",
      "2\n",
      "3\n",
      "4\n"
     ]
    }
   ],
   "source": [
    "print(list(range(5)))\n",
    "for i in range(5):\n",
    "    print(i)"
   ]
  },
  {
   "cell_type": "code",
   "execution_count": 22,
   "id": "fe6fc314",
   "metadata": {},
   "outputs": [
    {
     "name": "stdout",
     "output_type": "stream",
     "text": [
      "55\n"
     ]
    }
   ],
   "source": [
    "# 1 ~ 10 합계 - for 사용 \n",
    "total = 0\n",
    "for i in range(1, 11):\n",
    "    total += i\n",
    "# ===== for i in range(1,11)\n",
    "print(total)"
   ]
  },
  {
   "cell_type": "markdown",
   "id": "34270092",
   "metadata": {},
   "source": [
    "주사위를 10번 굴려서 출현한 눈의 개수를 센다. => 변수 사용"
   ]
  },
  {
   "cell_type": "code",
   "execution_count": 69,
   "id": "5e5ff7d6",
   "metadata": {},
   "outputs": [
    {
     "name": "stdout",
     "output_type": "stream",
     "text": [
      "3\n",
      "1\n",
      "4\n",
      "5\n",
      "3\n",
      "6\n",
      "6\n",
      "1\n",
      "1\n",
      "1\n",
      "1의 개수는 4개, 2의 개수는 0개, 3의 개수는 2개 ,4의 개수는 1개 , 5의 개수는 1개 , 6의 개수는 2개 \n"
     ]
    }
   ],
   "source": [
    "import random\n",
    "# 1부터 6사이의 주사위 눈의 개수를 기억할 변수 6개를 선언하고 각각 0으로 초기화시킨다. \n",
    "diceNum1 = 0; diceNum2 = 0; diceNum3 = 0; diceNum4 = 0; diceNum5 = 0; diceNum6 = 0;\n",
    "\n",
    "# 주사위를 10번 굴린다.\n",
    "for i in range(10):\n",
    "    dice = random.randint(1, 6)\n",
    "    print(dice)\n",
    "    if dice == 1:\n",
    "        diceNum1 += 1\n",
    "    elif dice == 2:\n",
    "        diceNum2 += 1\n",
    "    elif dice == 3:\n",
    "        diceNum3 += 1\n",
    "    elif dice == 4:\n",
    "        diceNum4 += 1\n",
    "    elif dice == 5:\n",
    "        diceNum5 += 1 \n",
    "    else:\n",
    "        diceNum6 += 1 \n",
    "    # ====== if\n",
    "# ===== for\n",
    "print('1의 개수는 {}개, 2의 개수는 {}개, 3의 개수는 {}개 ,4의 개수는 {}개 , 5의 개수는 {}개 , 6의 개수는 {}개 '.format(diceNum1,diceNum2,diceNum3,diceNum4, diceNum5, diceNum6))"
   ]
  },
  {
   "cell_type": "code",
   "execution_count": 71,
   "id": "d1c09683",
   "metadata": {},
   "outputs": [
    {
     "name": "stdout",
     "output_type": "stream",
     "text": [
      "[0, 0, 0, 0, 0, 0]\n"
     ]
    }
   ],
   "source": [
    "import random\n",
    "# 1. 리스트를 선언하는 방법 \n",
    "count = [0] * 6\n",
    "print(count)"
   ]
  },
  {
   "cell_type": "code",
   "execution_count": 80,
   "id": "2e04f114",
   "metadata": {},
   "outputs": [
    {
     "name": "stdout",
     "output_type": "stream",
     "text": [
      "[1, 2, 3, 4, 5, 6]\n"
     ]
    }
   ],
   "source": [
    "# 1.1. 리스트를 선언하는 방법2\n",
    "a=[]\n",
    "for i in range(1,7):\n",
    "    a.append(i)\n",
    "print(a)"
   ]
  },
  {
   "cell_type": "code",
   "execution_count": 81,
   "id": "c244f887",
   "metadata": {},
   "outputs": [
    {
     "name": "stdout",
     "output_type": "stream",
     "text": [
      "[0, 1, 2, 3, 4, 5]\n"
     ]
    }
   ],
   "source": [
    "#  1.2 리스트를 선언하는 방법3 - 반복문 사용 \n",
    "a = [i for i in range(6)]\n",
    "print(a)"
   ]
  },
  {
   "cell_type": "code",
   "execution_count": 89,
   "id": "bac23179",
   "metadata": {},
   "outputs": [
    {
     "name": "stdout",
     "output_type": "stream",
     "text": [
      "1의 개수: 3개\n",
      "2의 개수: 2개\n",
      "3의 개수: 2개\n",
      "4의 개수: 3개\n",
      "5의 개수: 0개\n",
      "6의 개수: 0개\n"
     ]
    }
   ],
   "source": [
    "import random\n",
    "# 1부터 6사이의 주사위 눈의 개수를 기억할 변수 6개를 선언하고 각각 0으로 초기화시킨다. \n",
    "count = [0 for i in range(6)]\n",
    "\n",
    "# 주사위를 10번 굴린다.\n",
    "for i in range(10):\n",
    "    dice = random.randrange(1, 6)\n",
    "    count[dice - 1] += 1\n",
    "for i in range(6):\n",
    "    print('{}의 개수: {}개'.format(i+1, count[i]))"
   ]
  },
  {
   "cell_type": "code",
   "execution_count": null,
   "id": "07f6fbf6",
   "metadata": {},
   "outputs": [],
   "source": [
    "import random\n",
    "# 1부터 6사이의 주사위 눈의 개수를 기억할 변수 6개를 선언하고 각각 0으로 초기화시킨다. \n",
    "count = [0 for i in range(6)]\n",
    "\n",
    "# 주사위를 10번 굴린다.\n",
    "for i in range(10):\n",
    "    dice = random.randint(1, 6)\n",
    "    print(dice)\n",
    "    if dice == 1:\n",
    "        count[0] += 1\n",
    "    elif dice == 2:\n",
    "        count[1] += 1\n",
    "    elif dice == 3:\n",
    "        count[2] += 1\n",
    "    elif dice == 4:\n",
    "        count[3] += 1\n",
    "    elif dice == 5:\n",
    "        count[4] += 1 \n",
    "    else:\n",
    "        count[5] += 1 \n",
    "    # ====== if\n",
    "# ===== for\n",
    "print('1의 개수는 {}개, 2의 개수는 {}개, 3의 개수는 {}개 ,4의 개수는 {}개 , 5의 개수는 {}개 , 6의 개수는 {}개 '.format(count[0],count[1],count[2],count[3],count[4],count[5]))"
   ]
  }
 ],
 "metadata": {
  "kernelspec": {
   "display_name": "Python 3 (ipykernel)",
   "language": "python",
   "name": "python3"
  },
  "language_info": {
   "codemirror_mode": {
    "name": "ipython",
    "version": 3
   },
   "file_extension": ".py",
   "mimetype": "text/x-python",
   "name": "python",
   "nbconvert_exporter": "python",
   "pygments_lexer": "ipython3",
   "version": "3.10.4"
  }
 },
 "nbformat": 4,
 "nbformat_minor": 5
}
