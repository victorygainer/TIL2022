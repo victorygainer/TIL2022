{
 "cells": [
  {
   "cell_type": "code",
   "execution_count": 15,
   "id": "c2fd6663",
   "metadata": {},
   "outputs": [],
   "source": [
    "# import random\n",
    "# a = random.randint(1, 45)\n",
    "# b = random.randint(1, 45)\n",
    "# c = random.randint(1, 45)\n",
    "# d = random.randint(1, 45)\n",
    "# e = random.randint(1, 45)\n",
    "# f = random.randint(1, 45)\n",
    "\n",
    "# lottoNumber = [a, b, c, d, e, f]\n",
    "# print(lottoNumber)\n",
    "\n",
    "# inputNumber = input('숫자 6개를 입력하세요')\n",
    "# print(inputNumber)"
   ]
  },
  {
   "cell_type": "code",
   "execution_count": 18,
   "id": "848a0554",
   "metadata": {},
   "outputs": [
    {
     "name": "stdout",
     "output_type": "stream",
     "text": [
      "10\n",
      "4\n",
      "33\n",
      "9\n",
      "1\n",
      "31\n",
      "1등 번호: [1, 4, 9, 10, 31, 33]\n"
     ]
    }
   ],
   "source": [
    "lotto = list()\n",
    "\n",
    "while True:\n",
    "     number = random.randrange(1,46)\n",
    "     print(number)\n",
    "     # 리스트에 중복되는 번호가 없으면 발생된 난수를 리스트에 추가한다\n",
    "     if number not in lotto:\n",
    "        lotto.append(number)\n",
    "     # =====if\n",
    "     # 리스트에 숫자가 6개 저장되면 무한 루프를 탈출시킨다.\n",
    "     if len(lotto) == 6:\n",
    "        break\n",
    "#====== while\n",
    "lotto.sort()\n",
    "print('1등 번호: {}'.format(lotto))"
   ]
  },
  {
   "cell_type": "code",
   "execution_count": 20,
   "id": "ed5d21c3",
   "metadata": {},
   "outputs": [
    {
     "name": "stdout",
     "output_type": "stream",
     "text": [
      "11\n",
      "1등 번호: [1, 4, 9, 10, 31, 33], 보너스 번호: 11\n"
     ]
    }
   ],
   "source": [
    "# 보너스 번호 \n",
    "while True:\n",
    "    bonus = random.randrange(1,46)\n",
    "    print(bonus)\n",
    "    if bonus not in lotto:\n",
    "        break\n",
    "    #=====if\n",
    "#=====while\n",
    "print('1등 번호: {}, 보너스 번호: {}'.format(lotto, bonus))"
   ]
  },
  {
   "cell_type": "code",
   "execution_count": null,
   "id": "85fc0aeb",
   "metadata": {},
   "outputs": [],
   "source": []
  }
 ],
 "metadata": {
  "kernelspec": {
   "display_name": "Python 3 (ipykernel)",
   "language": "python",
   "name": "python3"
  },
  "language_info": {
   "codemirror_mode": {
    "name": "ipython",
    "version": 3
   },
   "file_extension": ".py",
   "mimetype": "text/x-python",
   "name": "python",
   "nbconvert_exporter": "python",
   "pygments_lexer": "ipython3",
   "version": "3.10.4"
  }
 },
 "nbformat": 4,
 "nbformat_minor": 5
}
