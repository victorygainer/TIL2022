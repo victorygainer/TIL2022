{
 "cells": [
  {
   "cell_type": "code",
   "execution_count": 117,
   "id": "09c7f282",
   "metadata": {},
   "outputs": [],
   "source": [
    "import warnings\n",
    "warnings.filterwarnings(action='ignore')\n",
    "import requests\n",
    "# from bs4 import BeautifulSoup # html 문서를 파싱할 때 사용하므로 json 형태로 넘어오는 데이터에는 사용하지 않는다.\n",
    "import json # json 형태의 문자열을 파이썬에서 처리하기 위해 import 한다."
   ]
  },
  {
   "cell_type": "markdown",
   "id": "1d483a37",
   "metadata": {},
   "source": [
    "<img src=\"./nateAjax.png\" width=\"700\" align=\"left\">"
   ]
  },
  {
   "cell_type": "markdown",
   "id": "71a8adcc",
   "metadata": {},
   "source": [
    "<img src=\"./nateAjax2.png\" width=\"700\" align=\"left\">"
   ]
  },
  {
   "cell_type": "code",
   "execution_count": 118,
   "id": "85b9fbfd",
   "metadata": {},
   "outputs": [
    {
     "name": "stdout",
     "output_type": "stream",
     "text": [
      "<Response [200]>\n"
     ]
    }
   ],
   "source": [
    "# 실시간 검색어가 웹 페이지에 전부 혹은 일부가 포함되어있지 않고 ajax를 이용해서 받아오는 방식이 사용된다.\n",
    "# Request Method가 GET이므로 requests 모듈의 get() 메소드를 사용해서 실시간 검색어를 받아온다.\n",
    "targetSite = 'https://www.nate.com/js/data/jsonLiveKeywordDataV1.js?v=202207131050'\n",
    "req = requests.get(targetSite)\n",
    "print(req)\n",
    "# 파이썬은 한글 encoding이 유니코드(utf-8)로 되어있기 때문에 'euc-kr'로 encoding 되어있는 사이트를 크롤링 할 때 한글이\n",
    "# 깨지면 아래와 같이 한글 encoding을 바꿔주면 된다.\n",
    "# req.encoding = 'euc-kr'"
   ]
  },
  {
   "cell_type": "code",
   "execution_count": 119,
   "id": "2746a7a0",
   "metadata": {},
   "outputs": [
    {
     "name": "stdout",
     "output_type": "stream",
     "text": [
      "[[\"1\",  \"확진 4만 266명\",  \"s\",  \"0\",  \"확진 4만 266명\"], [\"2\",  \"유튜버 누나 대통령실에\",  \"s\",  \"0\",  \"유튜버 누나 대통령실에\"], [\"3\",  \"나경원 김건희 팬클럽\",  \"s\",  \"0\",  \"나경원 김건희 팬클럽\"], [\"4\",  \"의무격리 7일 유지\",  \"+\",  \"1\",  \"의무격리 7일 유지\"], [\"5\",  \"조유나 수면제 검출\",  \"+\",  \"1\",  \"조유나 수면제 검출\"], [\"6\",  \"오징어 게임 에미상\",  \"+\",  \"1\",  \"오징어 게임 에미상\"], [\"7\",  \"강재준 이은형 無\",  \"+\",  \"1\",  \"강재준 이은형 無\"], [\"8\",  \"중대본 1단계 가동\",  \"+\",  \"1\",  \"중대본 1단계 가동\"], [\"9\",  \"윤지 다문화 가정\",  \"+\",  \"1\",  \"윤지 다문화 가정\"], [\"10\",  \"6월 취업자 84만\",  \"n\",  \"0\",  \"6월 취업자 84만\"]]\n",
      "<class 'str'>\n"
     ]
    }
   ],
   "source": [
    "issues = req.text\n",
    "print(issues)\n",
    "print(type(issues))"
   ]
  },
  {
   "cell_type": "code",
   "execution_count": 120,
   "id": "31a379a1",
   "metadata": {},
   "outputs": [
    {
     "name": "stdout",
     "output_type": "stream",
     "text": [
      "[['1', '확진 4만 266명', 's', '0', '확진 4만 266명'], ['2', '유튜버 누나 대통령실에', 's', '0', '유튜버 누나 대통령실에'], ['3', '나경원 김건희 팬클럽', 's', '0', '나경원 김건희 팬클럽'], ['4', '의무격리 7일 유지', '+', '1', '의무격리 7일 유지'], ['5', '조유나 수면제 검출', '+', '1', '조유나 수면제 검출'], ['6', '오징어 게임 에미상', '+', '1', '오징어 게임 에미상'], ['7', '강재준 이은형 無', '+', '1', '강재준 이은형 無'], ['8', '중대본 1단계 가동', '+', '1', '중대본 1단계 가동'], ['9', '윤지 다문화 가정', '+', '1', '윤지 다문화 가정'], ['10', '6월 취업자 84만', 'n', '0', '6월 취업자 84만']]\n",
      "<class 'list'>\n"
     ]
    }
   ],
   "source": [
    "# json 형태로 얻어온 실시간 이슈 키워드는 json 모듈의 loads() 메소드를 사용해서 파이썬에서 처리할 수 있는 데이터 타입으로\n",
    "# 변환시켜 처리한다.\n",
    "# loads() 메소드는 json 타입의 문자열이 {}를 포함하면 딕셔너리로 {}없이 []만 포함하면 리스트 형태로 자동 변환시킨다.\n",
    "ranks = json.loads(issues)\n",
    "print(ranks)\n",
    "print(type(ranks))"
   ]
  },
  {
   "cell_type": "code",
   "execution_count": 121,
   "id": "bb21fe7e",
   "metadata": {},
   "outputs": [
    {
     "name": "stdout",
     "output_type": "stream",
     "text": [
      " 1위: 확진 4만 266명[-]\n",
      " 2위: 유튜버 누나 대통령실에[-]\n",
      " 3위: 나경원 김건희 팬클럽[-]\n",
      " 4위: 의무격리 7일 유지[↑1]\n",
      " 5위: 조유나 수면제 검출[↑1]\n",
      " 6위: 오징어 게임 에미상[↑1]\n",
      " 7위: 강재준 이은형 無[↑1]\n",
      " 8위: 중대본 1단계 가동[↑1]\n",
      " 9위: 윤지 다문화 가정[↑1]\n",
      "10위: 6월 취업자 84만[new]\n"
     ]
    }
   ],
   "source": [
    "for rank in ranks:\n",
    "    print('{:>2s}위: {}'.format(rank[0], rank[1]), end='')\n",
    "    if rank[2] == '+':\n",
    "        print('[{}{}]'.format('↑', rank[3]))\n",
    "    elif rank[2] == '-':\n",
    "        print('[{}{}]'.format('↓', rank[3]))\n",
    "    elif rank[2] == 's':\n",
    "        print('[-]')\n",
    "    else:\n",
    "        print('[new]')"
   ]
  },
  {
   "cell_type": "code",
   "execution_count": null,
   "id": "0b925539",
   "metadata": {},
   "outputs": [],
   "source": []
  }
 ],
 "metadata": {
  "kernelspec": {
   "display_name": "Python 3 (ipykernel)",
   "language": "python",
   "name": "python3"
  },
  "language_info": {
   "codemirror_mode": {
    "name": "ipython",
    "version": 3
   },
   "file_extension": ".py",
   "mimetype": "text/x-python",
   "name": "python",
   "nbconvert_exporter": "python",
   "pygments_lexer": "ipython3",
   "version": "3.10.4"
  }
 },
 "nbformat": 4,
 "nbformat_minor": 5
}
