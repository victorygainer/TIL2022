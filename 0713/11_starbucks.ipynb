{
 "cells": [
  {
   "cell_type": "code",
   "execution_count": null,
   "id": "4db1f2b3",
   "metadata": {},
   "outputs": [],
   "source": [
    "import warnings\n",
    "warnings.filterwarnings(action='ignore')\n",
    "import requests\n",
    "import json"
   ]
  },
  {
   "cell_type": "markdown",
   "id": "262125b5",
   "metadata": {},
   "source": [
    "시도코드 크롤링"
   ]
  },
  {
   "cell_type": "code",
   "execution_count": null,
   "id": "4abbfffd",
   "metadata": {
    "scrolled": false
   },
   "outputs": [],
   "source": [
    "targetSite = 'https://www.starbucks.co.kr/store/getSidoList.do'\n",
    "# Request URL(https://www.starbucks.co.kr/store/getSidoList.do)을 요청하는 Request Method가 POST이므로 requests 모듈의\n",
    "# post() 메소드를 사용해서 서버에 정보를 요청한다.\n",
    "req = requests.post(targetSite)\n",
    "# print(req) # <Response [200]> => 요청 성공\n",
    "\n",
    "starbucks = req.text\n",
    "# print(type(starbucks)) # <class 'str'>\n",
    "# print(starbucks)\n",
    "\n",
    "# json 모듈의 loads() 메소드로 json 형태의 문자열을 파이썬에서 처리하기 위해 딕셔너리로 변환한다.\n",
    "sidoList = json.loads(starbucks)\n",
    "# print(type(sidoList)) # <class 'dict'>\n",
    "# print(len(sidoList)) # 1\n",
    "# print(sidoList.keys()) # dict_keys(['list'])\n",
    "# print(sidoList) # json 형태의 문자열이 {'list': [17개의 시도코드 데이터]} 형태로 변환된 딕셔너리가 출력된다.\n",
    "\n",
    "# 딕셔너리로 변환된 데이터에서 'list'라는 key에 할당된 시도 정보를 얻어온다.\n",
    "# print(type(sidoList.get('list'))) # <class 'list'>\n",
    "# print(sidoList.get('list'))\n",
    "# print(type(sidoList['list'])) # <class 'list'>\n",
    "# print(len(sidoList['list'])) # 17\n",
    "# json이 변환된 딕셔너리의 'list'라는 key에 할당된 value인 리스트에 저장된 딕셔너리 17개가 출력된다.\n",
    "# print(sidoList['list'])\n",
    "\n",
    "# 시도코드의 개수만큼 반복하며 시도코드('sido_cd')를 key로 하고 시도이름('sido_nm')을 value로 하는 딕셔너리를 만든다.\n",
    "sido_list = {}\n",
    "for sido in sidoList['list']:\n",
    "    # print(type(sido)) # <class 'dict'>\n",
    "    # print('{}: {}'.format(sido['sido_cd'], sido.get('sido_nm')))\n",
    "    sido_list[sido['sido_cd']] = sido.get('sido_nm')\n",
    "print(sido_list)"
   ]
  },
  {
   "cell_type": "code",
   "execution_count": 1,
   "id": "77353ce8",
   "metadata": {},
   "outputs": [],
   "source": [
    "import warnings\n",
    "warnings.filterwarnings(action='ignore')\n",
    "import requests"
   ]
  },
  {
   "cell_type": "code",
   "execution_count": 2,
   "id": "8a900eab",
   "metadata": {},
   "outputs": [
    {
     "name": "stdout",
     "output_type": "stream",
     "text": [
      "{'01': '서울', '08': '경기', '02': '광주', '03': '대구', '04': '대전', '05': '부산', '06': '울산', '07': '인천', '09': '강원', '10': '경남', '11': '경북', '12': '전남', '13': '전북', '14': '충남', '15': '충북', '16': '제주', '17': '세종'}\n"
     ]
    }
   ],
   "source": [
    "targetSite = 'https://www.starbucks.co.kr/store/getSidoList.do'\n",
    "req = requests.post(targetSite)\n",
    "# requests 모듈의 json() 메소드로 서버에 요청해서 응답받은 json 형태의 문자열을 파이썬에서 처리하기 위해 딕셔너리로 변환\n",
    "# 한다.\n",
    "starbucks = req.json()\n",
    "# print(type(starbucks)) # <class 'dict'>\n",
    "# print(starbucks)\n",
    "\n",
    "sido_list = {}\n",
    "for sido in starbucks['list']:\n",
    "    sido_list[sido['sido_cd']] = sido.get('sido_nm')\n",
    "print(sido_list)"
   ]
  },
  {
   "cell_type": "markdown",
   "id": "08904928",
   "metadata": {},
   "source": [
    "구군코드 크롤링"
   ]
  },
  {
   "cell_type": "code",
   "execution_count": 3,
   "id": "42ac813e",
   "metadata": {},
   "outputs": [
    {
     "name": "stdout",
     "output_type": "stream",
     "text": [
      "구군코드를 검색하려는 시도코드를 입력하세요: 01\n"
     ]
    }
   ],
   "source": [
    "sido_cd = input('구군코드를 검색하려는 시도코드를 입력하세요: ')\n",
    "\n",
    "targetSite = ''"
   ]
  },
  {
   "cell_type": "code",
   "execution_count": null,
   "id": "824daca6",
   "metadata": {},
   "outputs": [],
   "source": []
  }
 ],
 "metadata": {
  "kernelspec": {
   "display_name": "Python 3 (ipykernel)",
   "language": "python",
   "name": "python3"
  },
  "language_info": {
   "codemirror_mode": {
    "name": "ipython",
    "version": 3
   },
   "file_extension": ".py",
   "mimetype": "text/x-python",
   "name": "python",
   "nbconvert_exporter": "python",
   "pygments_lexer": "ipython3",
   "version": "3.10.4"
  }
 },
 "nbformat": 4,
 "nbformat_minor": 5
}
