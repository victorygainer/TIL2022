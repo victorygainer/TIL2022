{
 "cells": [
  {
   "cell_type": "code",
   "execution_count": 3,
   "id": "c645b30c",
   "metadata": {},
   "outputs": [
    {
     "name": "stdout",
     "output_type": "stream",
     "text": [
      "data.txt 파일에서 읽기 완료!!!\n",
      "['꺄아~~~~~~~~', '꺄아~~~~~~~~', '꺄아~~~~~~~~', '꺄아~~~~~~~~', '꺄아~~~~~~~~', '꺄아~~~~~~~~', '꺄아~~~~~~~~', '꺄아~~~~~~~~', '꺄아~~~~~~~~', '꺄아~~~~~~~~']\n"
     ]
    }
   ],
   "source": [
    "try:\n",
    "    file = open('./data/data.txt', 'r')\n",
    "    lines = []\n",
    "    # 텍스트 파일에 저장된 데이터가 몇 줄인지 알 수 없으므로 무한 루프를 돌려서 읽는다.\n",
    "    while True:\n",
    "        # readline() 메소드로 텍스트 파일의 데이터를 1줄씩 읽어들일 수 있다.\n",
    "        line = file.readline()\n",
    "        # readline() 메소드로 텍스트 파일에서 읽어들인 데이터가 없으면 무한 루프를 탈출한다.\n",
    "        if not line: # 텍스트 파일에서 읽어들인 데이터가 없으면\n",
    "            break\n",
    "        # readline() 메소드로 데이터를 읽어들인 후 strip() 메소드로 문자열 앞, 뒤의 불필요한 공백은 제거하는 것이 좋다.\n",
    "        line = line.strip()\n",
    "        # readline() 메소드로 읽어들인 데이터가 모두 공백이면 strip() 메소드로 불필요한 공백을 제거할 경우 내용이 하나도\n",
    "        # 없으므로 저장할 필요가 없다.\n",
    "        if len(line) != 0: # 읽어들인 데이터가 있으면\n",
    "            lines.append(line)\n",
    "    # =====\n",
    "    file.close()\n",
    "    print('data.txt 파일에서 읽기 완료!!!')\n",
    "    print(lines)\n",
    "except FileNotFoundError:\n",
    "    print('디스크에 파일이 존재하지 않습니다.')"
   ]
  },
  {
   "cell_type": "code",
   "execution_count": 5,
   "id": "3a260f56",
   "metadata": {},
   "outputs": [
    {
     "name": "stdout",
     "output_type": "stream",
     "text": [
      "<class 'list'>\n",
      "data.txt 파일에서 읽기 완료!!!\n",
      "['꺄아~~~~~~~~\\n', '꺄아~~~~~~~~\\n', '꺄아~~~~~~~~\\n', '꺄아~~~~~~~~\\n', '꺄아~~~~~~~~\\n', '꺄아~~~~~~~~\\n', '꺄아~~~~~~~~\\n', '꺄아~~~~~~~~\\n', '꺄아~~~~~~~~\\n', '꺄아~~~~~~~~\\n']\n"
     ]
    }
   ],
   "source": [
    "try:\n",
    "    file = open('./data/data.txt', 'r')\n",
    "    # readlines() 메소드는 텍스트 파일의 데이터 전체를 한꺼번에 읽어서 리스트로 얻어온다.\n",
    "    lines = file.readlines()\n",
    "    print(type(lines))\n",
    "    file.close()\n",
    "    print('data.txt 파일에서 읽기 완료!!!')\n",
    "    print(lines)\n",
    "except FileNotFoundError:\n",
    "    print('디스크에 파일이 존재하지 않습니다.')"
   ]
  }
 ],
 "metadata": {
  "kernelspec": {
   "display_name": "Python 3 (ipykernel)",
   "language": "python",
   "name": "python3"
  },
  "language_info": {
   "codemirror_mode": {
    "name": "ipython",
    "version": 3
   },
   "file_extension": ".py",
   "mimetype": "text/x-python",
   "name": "python",
   "nbconvert_exporter": "python",
   "pygments_lexer": "ipython3",
   "version": "3.10.4"
  }
 },
 "nbformat": 4,
 "nbformat_minor": 5
}
