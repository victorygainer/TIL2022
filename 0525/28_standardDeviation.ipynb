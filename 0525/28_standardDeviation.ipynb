{
 "cells": [
  {
   "cell_type": "markdown",
   "id": "c04a34d6",
   "metadata": {},
   "source": [
    "# 분산, 표준편차\n",
    "n개의 데이터(999가 입력되기 전까지)를 입력받아 최대값과 최소값을 제외한 나머지 데이터의 표준편차를 계산하는 프로그램\n",
    "***\n",
    "$$\\sqrt{\\frac{\\sum_{i=1}^{N-2} (x_i - \\bar{x})^2}{n-2}}$$"
   ]
  },
  {
   "cell_type": "code",
   "execution_count": 7,
   "id": "493b4dfa",
   "metadata": {},
   "outputs": [
    {
     "name": "stdout",
     "output_type": "stream",
     "text": [
      "최소값: 35\n",
      "최대값: 91\n"
     ]
    }
   ],
   "source": [
    "# 최대값, 최소값 판단하기 - 1\n",
    "data = [35, 91, 75, 62, 84]\n",
    "print('최소값: ', end='')\n",
    "print(min(data))\n",
    "print('최대값: ', end='')\n",
    "print(max(data))"
   ]
  },
  {
   "cell_type": "code",
   "execution_count": null,
   "id": "09718d5e",
   "metadata": {},
   "outputs": [],
   "source": []
  }
 ],
 "metadata": {
  "kernelspec": {
   "display_name": "Python 3 (ipykernel)",
   "language": "python",
   "name": "python3"
  },
  "language_info": {
   "codemirror_mode": {
    "name": "ipython",
    "version": 3
   },
   "file_extension": ".py",
   "mimetype": "text/x-python",
   "name": "python",
   "nbconvert_exporter": "python",
   "pygments_lexer": "ipython3",
   "version": "3.10.4"
  }
 },
 "nbformat": 4,
 "nbformat_minor": 5
}
