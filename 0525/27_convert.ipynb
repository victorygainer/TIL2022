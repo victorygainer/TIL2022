{
 "cells": [
  {
   "cell_type": "code",
   "execution_count": 5,
   "id": "5199037a",
   "metadata": {},
   "outputs": [
    {
     "name": "stdout",
     "output_type": "stream",
     "text": [
      "10진수를 입력하시오: 5\n",
      "101\n"
     ]
    }
   ],
   "source": [
    "dec = int(input('10진수를 입력하시오: '))\n",
    "convert = []\n",
    "while True:\n",
    "    m = dec // 2\n",
    "    r = dec % 2\n",
    "    convert.append(r)\n",
    "    if m == 0:\n",
    "        break\n",
    "    # ===== if\n",
    "    dec = m\n",
    "# ===== while\n",
    "for i in range(len(convert) -1, -1, -1):\n",
    "    print(convert[i], end='')\n",
    "print()"
   ]
  },
  {
   "cell_type": "code",
   "execution_count": null,
   "id": "ca9b6ffc",
   "metadata": {},
   "outputs": [],
   "source": []
  },
  {
   "cell_type": "code",
   "execution_count": null,
   "id": "a670dd63",
   "metadata": {},
   "outputs": [],
   "source": []
  }
 ],
 "metadata": {
  "kernelspec": {
   "display_name": "Python 3 (ipykernel)",
   "language": "python",
   "name": "python3"
  },
  "language_info": {
   "codemirror_mode": {
    "name": "ipython",
    "version": 3
   },
   "file_extension": ".py",
   "mimetype": "text/x-python",
   "name": "python",
   "nbconvert_exporter": "python",
   "pygments_lexer": "ipython3",
   "version": "3.10.4"
  }
 },
 "nbformat": 4,
 "nbformat_minor": 5
}
