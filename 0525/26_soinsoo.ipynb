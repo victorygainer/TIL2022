{
 "cells": [
  {
   "cell_type": "code",
   "execution_count": 16,
   "id": "df0be746",
   "metadata": {},
   "outputs": [
    {
     "name": "stdout",
     "output_type": "stream",
     "text": [
      "n: 2\n",
      "n: 3\n",
      "n: 4\n",
      "n: 5\n",
      "n: 6\n",
      "n: 6\n",
      "n: 1\n",
      "2보다 작은 숫자가 입력되어 프로그램을 종료합니다.\n"
     ]
    }
   ],
   "source": [
    "# 소인수 분해가 불가능한 숫자가 입력될 때까지 실행해야 하기 때문에 무한 루프를 돌린다. \n",
    "s = 20\n",
    "while True:\n",
    "    n = int(input('n: '))\n",
    "    if n < 2:\n",
    "        print('2보다 작은 숫자가 입력되어 프로그램을 종료합니다.')\n",
    "        break;\n",
    "    # ===== if\n",
    "    # 2이상의 수가 입력되었으므로 소인수분해를 시작한다.\n",
    "    s=[] 분해된 소인수를 기억할 빈 리스트를 선언한다.\n",
    "    c = 0 # 소인수의 개수를 기억할 변수를 선언하고 초기화 시킨다.\n",
    "    number = n # 소인수 분해 결과를 출력하기 위해서 입력받는 숫자를 number라는 변수에 보관한다 \n",
    "    \n",
    "    # 소인수 분해를 시작한다. \n",
    "    # 소인수 분해를 하기 위해 입력하는 숫자(n)의 크기\n",
    "# ===== while\n",
    "        \n",
    "        "
   ]
  },
  {
   "cell_type": "code",
   "execution_count": null,
   "id": "4a030384",
   "metadata": {},
   "outputs": [],
   "source": []
  }
 ],
 "metadata": {
  "kernelspec": {
   "display_name": "Python 3 (ipykernel)",
   "language": "python",
   "name": "python3"
  },
  "language_info": {
   "codemirror_mode": {
    "name": "ipython",
    "version": 3
   },
   "file_extension": ".py",
   "mimetype": "text/x-python",
   "name": "python",
   "nbconvert_exporter": "python",
   "pygments_lexer": "ipython3",
   "version": "3.10.4"
  }
 },
 "nbformat": 4,
 "nbformat_minor": 5
}
