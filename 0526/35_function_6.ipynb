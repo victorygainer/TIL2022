{
 "cells": [
  {
   "cell_type": "code",
   "execution_count": 1,
   "id": "334621cf",
   "metadata": {},
   "outputs": [],
   "source": [
    "# 넘겨받은 인수를 딕셔너리 형태로 변환하는 함수 => **변수이름 \n",
    "def func8(**args):\n",
    "    print(type(args))\n",
    "    print(args)"
   ]
  },
  {
   "cell_type": "code",
   "execution_count": 2,
   "id": "d61ece13",
   "metadata": {},
   "outputs": [
    {
     "name": "stdout",
     "output_type": "stream",
     "text": [
      "<class 'dict'>\n",
      "{}\n"
     ]
    }
   ],
   "source": [
    "func8()"
   ]
  },
  {
   "cell_type": "code",
   "execution_count": 3,
   "id": "ffccd985",
   "metadata": {},
   "outputs": [
    {
     "name": "stdout",
     "output_type": "stream",
     "text": [
      "<class 'dict'>\n",
      "{'apple': 1000}\n"
     ]
    }
   ],
   "source": [
    "# '**변수이름' 형태로 인수를 사용하는 함수에는 key와 key에 할당할 value를 'key = value' 형ㄴ태로 전달한다. \n",
    "# func8(1000) # 'key = value' 형태로 전달하지 않아서 에러가 발생된다. \n",
    "func8(apple = 1000)"
   ]
  },
  {
   "cell_type": "code",
   "execution_count": 4,
   "id": "e537e4da",
   "metadata": {},
   "outputs": [
    {
     "name": "stdout",
     "output_type": "stream",
     "text": [
      "<class 'dict'>\n",
      "{'melon': 10000, 'watermelon': 100000}\n"
     ]
    }
   ],
   "source": [
    "func8(melon = 10000, watermelon = 100000)"
   ]
  },
  {
   "cell_type": "code",
   "execution_count": null,
   "id": "c43453f0",
   "metadata": {},
   "outputs": [],
   "source": []
  }
 ],
 "metadata": {
  "kernelspec": {
   "display_name": "Python 3 (ipykernel)",
   "language": "python",
   "name": "python3"
  },
  "language_info": {
   "codemirror_mode": {
    "name": "ipython",
    "version": 3
   },
   "file_extension": ".py",
   "mimetype": "text/x-python",
   "name": "python",
   "nbconvert_exporter": "python",
   "pygments_lexer": "ipython3",
   "version": "3.10.4"
  }
 },
 "nbformat": 4,
 "nbformat_minor": 5
}
