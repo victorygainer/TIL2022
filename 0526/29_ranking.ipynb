{
 "cells": [
  {
   "cell_type": "code",
   "execution_count": 40,
   "id": "bf1897f8",
   "metadata": {},
   "outputs": [
    {
     "name": "stdout",
     "output_type": "stream",
     "text": [
      " 70점은 5등 입니다.*******\n",
      "100점은 1등 입니다.**********\n",
      " 80점은 4등 입니다.********\n",
      "100점은 1등 입니다.**********\n",
      " 90점은 3등 입니다.*********\n",
      " 50점은 6등 입니다.*****\n"
     ]
    }
   ],
   "source": [
    "score = [70, 100, 80, 100, 90, 50]\n",
    "# 석차를  기억할  리스트를  만든다. => 석차를 기억할 기억 장소는 초기치를 무조건 1로 지정한다. \n",
    "rank = [1 for i in range(len(score))]\n",
    "#print(rank)\n",
    "\n",
    "for i in range(len(score)):\n",
    "    for j in range(len(score)):\n",
    "        # print('[i = {}, j = {}]'.format(i,j), end='')\n",
    "        if score[i] < score[j]:\n",
    "            rank[i] += 1\n",
    "    # ===== for j\n",
    "# ===== for i\n",
    "\n",
    "for i in range(len(score)):\n",
    "    print('{:3d}점은 {}등 입니다.'.format(score[i], rank[i]),end='')\n",
    "    # 10점당 '*'을 1개씩 출력한다.\n",
    "    # for j in range(score[i] // 10):\n",
    "        # print('*', end='')\n",
    "    # ===== for j\n",
    "    print('*' * (int(score[i])//10))"
   ]
  },
  {
   "cell_type": "code",
   "execution_count": null,
   "id": "20a83f24",
   "metadata": {},
   "outputs": [],
   "source": []
  },
  {
   "cell_type": "code",
   "execution_count": null,
   "id": "4070171c",
   "metadata": {},
   "outputs": [],
   "source": []
  }
 ],
 "metadata": {
  "kernelspec": {
   "display_name": "Python 3 (ipykernel)",
   "language": "python",
   "name": "python3"
  },
  "language_info": {
   "codemirror_mode": {
    "name": "ipython",
    "version": 3
   },
   "file_extension": ".py",
   "mimetype": "text/x-python",
   "name": "python",
   "nbconvert_exporter": "python",
   "pygments_lexer": "ipython3",
   "version": "3.10.4"
  }
 },
 "nbformat": 4,
 "nbformat_minor": 5
}
