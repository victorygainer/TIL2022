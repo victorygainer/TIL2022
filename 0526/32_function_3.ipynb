{
 "cells": [
  {
   "cell_type": "code",
   "execution_count": 1,
   "id": "39004d93",
   "metadata": {},
   "outputs": [],
   "source": [
    "# 함수로 데이터를 전달할 때 데이터가 전달될 인수를 지정할 수 있다.\n",
    "def func3(a, b, c):\n",
    "    print('{} + {} + {} = {}'.format(a, b, c, a + b + c))"
   ]
  },
  {
   "cell_type": "code",
   "execution_count": 2,
   "id": "560d8dfd",
   "metadata": {},
   "outputs": [
    {
     "name": "stdout",
     "output_type": "stream",
     "text": [
      "100 + 200 + 300 = 600\n"
     ]
    }
   ],
   "source": [
    "# 데이터가 전달될 때 인수를 지정하지 않으면 처음부터 차례대로 데이터가 함수로 전달된다.\n",
    "func3(100, 200, 300)"
   ]
  },
  {
   "cell_type": "code",
   "execution_count": 3,
   "id": "66dce6b0",
   "metadata": {},
   "outputs": [
    {
     "name": "stdout",
     "output_type": "stream",
     "text": [
      "200 + 300 + 100 = 600\n"
     ]
    }
   ],
   "source": [
    "# 인수를 지정해서 함수를 호출하면 가인수의 순서와 관계없이 사용할 수 있다. \n",
    "func3(c=100, a=200, b=300)"
   ]
  },
  {
   "cell_type": "code",
   "execution_count": 4,
   "id": "33ac61ae",
   "metadata": {},
   "outputs": [
    {
     "ename": "TypeError",
     "evalue": "func3() got an unexpected keyword argument 'd'",
     "output_type": "error",
     "traceback": [
      "\u001b[0;31m---------------------------------------------------------------------------\u001b[0m",
      "\u001b[0;31mTypeError\u001b[0m                                 Traceback (most recent call last)",
      "Input \u001b[0;32mIn [4]\u001b[0m, in \u001b[0;36m<cell line: 2>\u001b[0;34m()\u001b[0m\n\u001b[1;32m      1\u001b[0m \u001b[38;5;66;03m# 인수를 지정해서 함수를 호출할 때 가인수 목록에 있는 인수를 지정해야 하고 가인수 목록에 없으면 에러가 발생된다.\u001b[39;00m\n\u001b[0;32m----> 2\u001b[0m \u001b[43mfunc3\u001b[49m\u001b[43m(\u001b[49m\u001b[43ma\u001b[49m\u001b[38;5;241;43m=\u001b[39;49m\u001b[38;5;241;43m100\u001b[39;49m\u001b[43m,\u001b[49m\u001b[43m \u001b[49m\u001b[43mb\u001b[49m\u001b[38;5;241;43m=\u001b[39;49m\u001b[38;5;241;43m200\u001b[39;49m\u001b[43m,\u001b[49m\u001b[43m \u001b[49m\u001b[43md\u001b[49m\u001b[38;5;241;43m=\u001b[39;49m\u001b[38;5;241;43m300\u001b[39;49m\u001b[43m)\u001b[49m\n",
      "\u001b[0;31mTypeError\u001b[0m: func3() got an unexpected keyword argument 'd'"
     ]
    }
   ],
   "source": [
    "# 인수를 지정해서 함수를 호출할 때 가인수 목록에 있는 인수를 지정해야 하고 가인수 목록에 없으면 에러가 발생된다.\n",
    "func3(a=100, b=200, d=300) #d가 가인수 목록에 없기 때문에 에러가 발생된다."
   ]
  },
  {
   "cell_type": "code",
   "execution_count": 5,
   "id": "a590be33",
   "metadata": {},
   "outputs": [
    {
     "ename": "SyntaxError",
     "evalue": "positional argument follows keyword argument (1588714477.py, line 2)",
     "output_type": "error",
     "traceback": [
      "\u001b[0;36m  Input \u001b[0;32mIn [5]\u001b[0;36m\u001b[0m\n\u001b[0;31m    func3(c=100, a=200, 300)\u001b[0m\n\u001b[0m                           ^\u001b[0m\n\u001b[0;31mSyntaxError\u001b[0m\u001b[0;31m:\u001b[0m positional argument follows keyword argument\n"
     ]
    }
   ],
   "source": [
    "# 인수를 지정해서 함수를 호출할 때 인수를 부분적으로 지정하면 에러가 발생된다. \n",
    "func3(c=100, a=200, 300)"
   ]
  },
  {
   "cell_type": "code",
   "execution_count": null,
   "id": "3fb30f3f",
   "metadata": {},
   "outputs": [],
   "source": []
  }
 ],
 "metadata": {
  "kernelspec": {
   "display_name": "Python 3 (ipykernel)",
   "language": "python",
   "name": "python3"
  },
  "language_info": {
   "codemirror_mode": {
    "name": "ipython",
    "version": 3
   },
   "file_extension": ".py",
   "mimetype": "text/x-python",
   "name": "python",
   "nbconvert_exporter": "python",
   "pygments_lexer": "ipython3",
   "version": "3.10.4"
  }
 },
 "nbformat": 4,
 "nbformat_minor": 5
}
