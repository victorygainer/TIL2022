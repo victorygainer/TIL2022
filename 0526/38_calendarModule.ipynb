{
 "cells": [
  {
   "cell_type": "code",
   "execution_count": 2,
   "id": "0aa26c19",
   "metadata": {},
   "outputs": [],
   "source": [
    "# 인수로 년을 넘겨받아 윤년, 평년을 판단해 윤년이면 True, 평년이면 False를 리턴하는 isLeapYear(year) 함수를 만든다.\n",
    "# 논리값을 기억하는 변수나 논리값을 return 하는 함수는 이름을 'is'로 시작하는 것이 관행이다. \n",
    "def isLeapYear(year):\n",
    "    return year % 4 == 0 and year % 100 != 0 or year % 400 == 0"
   ]
  },
  {
   "cell_type": "code",
   "execution_count": 3,
   "id": "fb1583b6",
   "metadata": {},
   "outputs": [],
   "source": [
    "# 인수로 년, 월을 넘겨받아 그 달의 마지막 날짜를 리턴하는 lastDay(year, month) 함수를 만든다. \n",
    "def lastDay(year, month):\n",
    "    m = [31, 0, 31, 30, 31, 30, 31, 31, 30, 31, 30, 31]\n",
    "    m[1] = 29 if isLeapYear(year) else 28;\n",
    "    return m[month -1];"
   ]
  },
  {
   "cell_type": "code",
   "execution_count": 4,
   "id": "36a28729",
   "metadata": {},
   "outputs": [],
   "source": [
    "# 인수로 년, 월, 일을 넘겨받아 1년 1월 1일 부터 지난 날짜의 합계를 리턴하는 totalDay(year, month, day) 함수를 만든다. \n",
    "def totalDay(year, month, day):\n",
    "    sum = (year - 1) * 365 + (year - 1) // 4 - (year - 1) // 100 + (year - 1) // 400\n",
    "    for i in range(1, month):\n",
    "        sum += lastDay(year, i)\n",
    "    return sum + day"
   ]
  },
  {
   "cell_type": "code",
   "execution_count": 5,
   "id": "9ecee234",
   "metadata": {},
   "outputs": [],
   "source": [
    "# 인수로 년, 월, 일을 넘겨받아 요일을 계산해서 숫자로 리턴하는 weekDay(year, month, day) 함수를 만든다. \n",
    "# 일요일(0), 월요일(1), 화요일(2), 수요일(3), 목요일(4), 금요일(5), 토요일(6)\n",
    "def weekDay(year, month, day):\n",
    "    dayOfWeek = totalDay(year, month, day) % 7\n",
    "    if dayOfWeek == 1:\n",
    "        print('월요일')\n",
    "    elif dayOfWeek == 2:\n",
    "        print('화요일')\n",
    "    elif dayOfWeek == 3:\n",
    "        print('수요일')\n",
    "    elif dayOfWeek == 4:\n",
    "        print('목요일')\n",
    "    elif dayOfWeek == 5:\n",
    "        print('금요일')\n",
    "    elif dayOfWeek == 6:\n",
    "        print('토요일')\n",
    "    elif dayOfWeek == 0:\n",
    "        print('일요일')\n",
    "    return dayOfWeek"
   ]
  },
  {
   "cell_type": "code",
   "execution_count": 6,
   "id": "fe467bf2",
   "metadata": {},
   "outputs": [
    {
     "name": "stdout",
     "output_type": "stream",
     "text": [
      "False\n",
      "31\n",
      "738301\n",
      "목요일\n",
      "4\n"
     ]
    }
   ],
   "source": [
    "if __name__ == '__main__':\n",
    "    print(isLeapYear(2022))\n",
    "    print(lastDay(2022, 5))\n",
    "    print(totalDay(2022, 5, 26))\n",
    "    print(weekDay(2022, 5, 26))"
   ]
  },
  {
   "cell_type": "code",
   "execution_count": null,
   "id": "196e17fe",
   "metadata": {},
   "outputs": [],
   "source": []
  }
 ],
 "metadata": {
  "kernelspec": {
   "display_name": "Python 3 (ipykernel)",
   "language": "python",
   "name": "python3"
  },
  "language_info": {
   "codemirror_mode": {
    "name": "ipython",
    "version": 3
   },
   "file_extension": ".py",
   "mimetype": "text/x-python",
   "name": "python",
   "nbconvert_exporter": "python",
   "pygments_lexer": "ipython3",
   "version": "3.10.4"
  }
 },
 "nbformat": 4,
 "nbformat_minor": 5
}
