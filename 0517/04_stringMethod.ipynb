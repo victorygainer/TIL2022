{
 "cells": [
  {
   "cell_type": "code",
   "execution_count": 5,
   "id": "5f053f50",
   "metadata": {},
   "outputs": [
    {
     "name": "stdout",
     "output_type": "stream",
     "text": [
      "33\n",
      "!\n",
      "!\n",
      "!\n"
     ]
    }
   ],
   "source": [
    "string = 'We are the champions, My friends!'\n",
    "# len() ㅎ맘수는 인수로 지정한 문자열을 구성하는 문자의 개수를 얻어온다.\n",
    "print(len(string))\n",
    "print(string[32])\n",
    "print(string[-1])\n",
    "print(string[len(string) -1])"
   ]
  },
  {
   "cell_type": "code",
   "execution_count": 7,
   "id": "545465e6",
   "metadata": {},
   "outputs": [
    {
     "name": "stdout",
     "output_type": "stream",
     "text": [
      "4\n",
      "1\n",
      "0\n"
     ]
    }
   ],
   "source": [
    "# count() 메소드는 인수로 지정한 문자열의 전체 출현 횟수를 얻어온다.\n",
    "# count() 메소드의 인수로 지정한 문자열이 특정 문자열에 포함되어있나 알아낼 수 있다.\n",
    "# 실행한 결과가 0이면 불포함, 1이상이면 포함, 2이상이면 중복해서 포함\n",
    "print(string.count('e'))\n",
    "print(string.count('We'))\n",
    "print(string.count('we'))"
   ]
  },
  {
   "cell_type": "code",
   "execution_count": 9,
   "id": "a9f151fc",
   "metadata": {},
   "outputs": [
    {
     "name": "stdout",
     "output_type": "stream",
     "text": [
      "1\n",
      "0\n"
     ]
    },
    {
     "ename": "ValueError",
     "evalue": "substring not found",
     "output_type": "error",
     "traceback": [
      "\u001b[0;31m---------------------------------------------------------------------------\u001b[0m",
      "\u001b[0;31mValueError\u001b[0m                                Traceback (most recent call last)",
      "Input \u001b[0;32mIn [9]\u001b[0m, in \u001b[0;36m<cell line: 5>\u001b[0;34m()\u001b[0m\n\u001b[1;32m      3\u001b[0m \u001b[38;5;28mprint\u001b[39m(string\u001b[38;5;241m.\u001b[39mindex(\u001b[38;5;124m'\u001b[39m\u001b[38;5;124me\u001b[39m\u001b[38;5;124m'\u001b[39m))\n\u001b[1;32m      4\u001b[0m \u001b[38;5;28mprint\u001b[39m(string\u001b[38;5;241m.\u001b[39mindex(\u001b[38;5;124m'\u001b[39m\u001b[38;5;124mWe\u001b[39m\u001b[38;5;124m'\u001b[39m))\n\u001b[0;32m----> 5\u001b[0m \u001b[38;5;28mprint\u001b[39m(\u001b[43mstring\u001b[49m\u001b[38;5;241;43m.\u001b[39;49m\u001b[43mindex\u001b[49m\u001b[43m(\u001b[49m\u001b[38;5;124;43m'\u001b[39;49m\u001b[38;5;124;43mwe\u001b[39;49m\u001b[38;5;124;43m'\u001b[39;49m\u001b[43m)\u001b[49m)\n",
      "\u001b[0;31mValueError\u001b[0m: substring not found"
     ]
    }
   ],
   "source": [
    "string = 'We are the champions, My friends!'\n",
    "#index() 메소드는 인수로 지정한 문자열이 최초로 출한하는 인덱스를 얻어온다. \n",
    "print(string.index('e'))\n",
    "print(string.index('We'))\n",
    "print(string.index('we')) # 인수로 지정한 문자열이 없으면 에러가 발생된다."
   ]
  },
  {
   "cell_type": "code",
   "execution_count": 10,
   "id": "c71c7e21",
   "metadata": {},
   "outputs": [
    {
     "name": "stdout",
     "output_type": "stream",
     "text": [
      "1\n",
      "0\n",
      "-1\n"
     ]
    }
   ],
   "source": [
    "string = 'We are the champions, My friends!'\n",
    "#index() 메소드는 인수로 지정한 문자열이 최초로 출한하는 인덱스를 얻어온다. \n",
    "print(string.find('e'))\n",
    "print(string.find('We'))\n",
    "print(string.find('we')) # 인수로 지정한 문자열이 없으면 에러가 발생된다."
   ]
  },
  {
   "cell_type": "code",
   "execution_count": 15,
   "id": "9cf70b34",
   "metadata": {},
   "outputs": [
    {
     "name": "stdout",
     "output_type": "stream",
     "text": [
      "T/j/o/e/u/n/I/T\n",
      "T j o e u n I T\n",
      "T\n",
      "j\n",
      "o\n",
      "e\n",
      "u\n",
      "n\n",
      "I\n",
      "T\n",
      "T!(^^~)j!(^^~)o!(^^~)e!(^^~)u!(^^~)n!(^^~)I!(^^~)T\n"
     ]
    }
   ],
   "source": [
    "string = 'TjoeunIT'\n",
    "# join() 메소드는 인수로 지정된 문자열을 구성하는 문자 사이사이에 특정 문자열을 삽입한다. \n",
    "print('/'.join(string))\n",
    "print(' '.join(string))\n",
    "print('\\n'.join(string))\n",
    "print('!(^^~)'.join(string))"
   ]
  },
  {
   "cell_type": "code",
   "execution_count": 21,
   "id": "5669a53c",
   "metadata": {},
   "outputs": [
    {
     "name": "stdout",
     "output_type": "stream",
     "text": [
      "TJOEUNIT\n",
      "tjoeunit\n",
      "Tjoeunit\n"
     ]
    }
   ],
   "source": [
    "string = 'TjoeunIT'\n",
    "# upper() 메소드는 문자열을 무조건 대문자로 변환한다.\n",
    "print(string.upper())\n",
    "# lower() 메소드는 문자열을 무조건 소문자로 변환한다.\n",
    "print(string.lower())\n",
    "# title() 메소드는 문자열을 구성하는 각 단어의 첫 문자만 대문자로 변환한다. \n",
    "print(string.title())"
   ]
  },
  {
   "cell_type": "code",
   "execution_count": 31,
   "id": "ce51ec8a",
   "metadata": {},
   "outputs": [
    {
     "name": "stdout",
     "output_type": "stream",
     "text": [
      "        TjoeunIT       \n",
      "23\n",
      "TjoeunIT       \n",
      "        TjoeunIT\n",
      "TjoeunIT\n",
      "8\n"
     ]
    }
   ],
   "source": [
    "string='        TjoeunIT       '\n",
    "print(string)\n",
    "print(len(string))\n",
    "# lstrip 메소드는 문자열 왼쪽(앞)의 불필요한 공백을 제거한다. \n",
    "print(string.lstrip())\n",
    "# rstrip 메소드는 문자열 오른쪽(뒤)의 불필요한 공백을 제거한다. \n",
    "print(string.rstrip())\n",
    "# strip 메소드는 문자열 앞, 뒤의 불필요한 공백을 제거한다. \n",
    "print(string.strip())\n",
    "print(len(string.strip()))"
   ]
  },
  {
   "cell_type": "code",
   "execution_count": 35,
   "id": "6156fca1",
   "metadata": {},
   "outputs": [
    {
     "name": "stdout",
     "output_type": "stream",
     "text": [
      "We are the champions, My friends!\n",
      "We R the champions, My friends!\n"
     ]
    }
   ],
   "source": [
    "string = 'We are the champions, My friends!'\n",
    "# replace() 메소드는 특정 문자열을 지정한 문자열로 치환한다.\n",
    "print(string)\n",
    "print(string.replace('are', 'R'))"
   ]
  },
  {
   "cell_type": "markdown",
   "id": "bc44e753",
   "metadata": {},
   "source": [
    "# 문자열 메소드 응용"
   ]
  },
  {
   "cell_type": "code",
   "execution_count": 36,
   "id": "7245c9f9",
   "metadata": {},
   "outputs": [
    {
     "name": "stdout",
     "output_type": "stream",
     "text": [
      "tjoeunit\n"
     ]
    }
   ],
   "source": [
    "# strip() 메소드의 새로운 발견 => strip() 메소드가 꼭 공백만 제거하는 것이 아니다.\n",
    "# strip() 메소드의 인수로 아무것도 지정하지 않으면 공백이 기본값으로 사용되서 공백이 제거되지만 \n",
    "# 인수를 지정하면 인수로 지정한 문자가 문자열 앞, 뒤에 나타나지 않을 때 까지 제거한다. \n",
    "# 인수를 입력한 문자열 순서와 제거하는 순서는 아무런 상관이 없다. \n",
    "print('www.tjoeunit.com'.strip('w.com'))"
   ]
  },
  {
   "cell_type": "code",
   "execution_count": 7,
   "id": "834efb57",
   "metadata": {},
   "outputs": [
    {
     "name": "stdout",
     "output_type": "stream",
     "text": [
      "주민등록번호를 입력하세요: 8802091709815\n",
      "880209-1******\n"
     ]
    }
   ],
   "source": [
    "# 주민등록번호를 입력받아 성별 뒤의 모든 문자를 '*'이 출력되게 한다\n",
    "jumin = input('주민등록번호를 입력하세요: ')\n",
    "print(jumin[0:6] + '-' + jumin[6:7] + '*'*6)"
   ]
  },
  {
   "cell_type": "code",
   "execution_count": 51,
   "id": "a8bb44a7",
   "metadata": {},
   "outputs": [
    {
     "name": "stdout",
     "output_type": "stream",
     "text": [
      "코드: 123-456-789\n",
      "123-\n",
      "456-789\n",
      "-789\n",
      "123-***-789\n"
     ]
    }
   ],
   "source": [
    "# 코드를 입력받아서 '-'와 '-' 사이의 모든 문자의 개수만큼 '*'이 출력되게 한다. \n",
    "# 1234-****-7890\n",
    "# 12-***-567890\n",
    "# 123456-*-1245\n",
    "# num = input('-를 두개 포함하여 숫자를 구성하시오: ')  \n",
    "# front = num.find('-')\n",
    "# back = (int(num[len(num) -1]) - 1)\n",
    "# star = '*'*(int(back) - int(front))\n",
    "# print(num[0:int(front)]+ '-' + star + '-' + num[int(back):])\n",
    "\n",
    "code = input('코드: ')\n",
    "count = len(code)\n",
    "start = code[:code.find('-') + 1]\n",
    "print(start)\n",
    "code = code[code.find('-') + 1:]\n",
    "print(code)\n",
    "end = code[code.find('-'):]\n",
    "print(end)\n",
    "print(start + '*' * (count - len(start) - len(end)) + end)"
   ]
  },
  {
   "cell_type": "code",
   "execution_count": 8,
   "id": "1e6bb7d1",
   "metadata": {},
   "outputs": [
    {
     "name": "stdout",
     "output_type": "stream",
     "text": [
      "코드: 1230-123-123\n",
      "1230-\n",
      "-123\n",
      "1230-***-123\n",
      "1-2-3-0---1-2-3---1-2-3\n"
     ]
    }
   ],
   "source": [
    "# index() 메소드와 find() 메소드는 앞에서부터 찾지만 rindex() 메소드와 rfind()는 뒤에서 부터 찾는다.\n",
    "code = input('코드: ')\n",
    "count = len(code)\n",
    "start = code[:code.find('-') + 1]\n",
    "print(start)\n",
    "end = code[code.rfind('-'):]\n",
    "print(end)\n",
    "print(start + '*' * (count - len(start) - len(end)) + end)\n"
   ]
  },
  {
   "cell_type": "code",
   "execution_count": 9,
   "id": "bac3e151",
   "metadata": {},
   "outputs": [
    {
     "name": "stdout",
     "output_type": "stream",
     "text": [
      "코드: 123-123-123\n",
      "<class 'list'>\n",
      "123\n",
      "123***123\n",
      "123-***-123\n"
     ]
    }
   ],
   "source": [
    "code = input('코드: ')\n",
    "code = code.split('-')\n",
    "print(type(code))\n",
    "print(code[1])\n",
    "code[1] = '*' * len(code[1])\n",
    "print(code[0] + code[1] + code[2])\n",
    "print('-'.join(code))"
   ]
  },
  {
   "cell_type": "code",
   "execution_count": null,
   "id": "07f6c099",
   "metadata": {},
   "outputs": [],
   "source": []
  }
 ],
 "metadata": {
  "kernelspec": {
   "display_name": "Python 3 (ipykernel)",
   "language": "python",
   "name": "python3"
  },
  "language_info": {
   "codemirror_mode": {
    "name": "ipython",
    "version": 3
   },
   "file_extension": ".py",
   "mimetype": "text/x-python",
   "name": "python",
   "nbconvert_exporter": "python",
   "pygments_lexer": "ipython3",
   "version": "3.10.4"
  }
 },
 "nbformat": 4,
 "nbformat_minor": 5
}
