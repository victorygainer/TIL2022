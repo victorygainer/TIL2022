{
 "cells": [
  {
   "cell_type": "code",
   "execution_count": 2,
   "id": "93fba6c7",
   "metadata": {},
   "outputs": [
    {
     "name": "stdout",
     "output_type": "stream",
     "text": [
      "Hello\n",
      "World\n",
      "Python is good\n"
     ]
    }
   ],
   "source": [
    "# 큰따옴표나 작은따옴표로 묶어주면 문자열 데이터로 취급된다.\n",
    "memo = 'Hello\\nWorld'\n",
    "print(memo)\n",
    "memo = \"Python is good\"\n",
    "print(memo)"
   ]
  },
  {
   "cell_type": "code",
   "execution_count": 5,
   "id": "7330a12e",
   "metadata": {},
   "outputs": [
    {
     "name": "stdout",
     "output_type": "stream",
     "text": [
      "a\n",
      "b\n",
      "c\n",
      "d\n",
      "e\n",
      "\n"
     ]
    }
   ],
   "source": [
    "# 큰따옴표 3개를 연속해서 사용하면 개행문자(/n)를 사용하지 않고 여러줄 문자열을 만들 수 있다.\n",
    "memo = \"\"\"a\n",
    "b\n",
    "c\n",
    "d\n",
    "e\n",
    "\"\"\"\n",
    "print(memo)"
   ]
  },
  {
   "cell_type": "markdown",
   "id": "231ec37f",
   "metadata": {},
   "source": [
    "# 인덱싱과 슬라이싱\n",
    "인덱스는 0부터 시작된다. \n",
    "인덱싱: 문자열에서 특정 위치의 문자 1개를 얻어온다. => []에 인덱스를 지정하면 된다. => charAt()  \n",
    "슬라이싱: 문자열에서 지정된 범위의 문자열을 얻어온다. => [시작위치:끝위치] 형태로 범위를 지정하면 된다. => substring()  "
   ]
  },
  {
   "cell_type": "code",
   "execution_count": 14,
   "id": "f5a61ea6",
   "metadata": {},
   "outputs": [
    {
     "name": "stdout",
     "output_type": "stream",
     "text": [
      "We are the champions, My friends!\n",
      "W\n",
      "c\n",
      "!\n",
      "33\n",
      "!\n",
      "!\n"
     ]
    }
   ],
   "source": [
    "string = 'We are the champions, My friends!'\n",
    "print(string)\n",
    "print(string[0])\n",
    "print(string[11])\n",
    "print(string[32])\n",
    "# len() 함수로 문자열을 구성하는 문자의 개수를 얻어올 수 있다. \n",
    "print(len(string))\n",
    "print(string[len(string) -1])\n",
    "# 파이썬은 음수 인덱싱이 가능하다. => 인덱스를 지정할 때 '-'를 붙이면 맨 뒤부터 인덱싱 할 수 있다.\n",
    "print(string[-1])"
   ]
  },
  {
   "cell_type": "code",
   "execution_count": 23,
   "id": "4bcabe00",
   "metadata": {},
   "outputs": [
    {
     "name": "stdout",
     "output_type": "stream",
     "text": [
      "We\n",
      "champions\n",
      "We are the champions\n",
      "My friends!\n",
      "\n",
      "!sdneirf yM ,snoipmahc eht era eW\n"
     ]
    }
   ],
   "source": [
    "string = 'We are the champions, My friends!'\n",
    "# 슬라이싱 범위는 [시작위치:끝위치] 형태로 지정하며 시작 위치부터 끝 위치 - 1번째 문자까지 얻어온다.\n",
    "print(string[0:2])\n",
    "print(string[11:20])\n",
    "# 시작 위치를 생략하면 처음부터 슬라이싱하고 끝 위치를 생략하면 마지막까지 슬라이싱 한다. \n",
    "print(string[0:20])\n",
    "print(string[22:])\n",
    "# 슬라이싱은 왼쪽에서 오른쪽으로 실행되므로 시작 위치가 끝 위치보다 크면 안된다.\n",
    "print(string[22:0]) # 에러는 발생되지 않지만 얻어온 문자열이 없으므로 공백이 출력된다.\n",
    "print(string[::-1])"
   ]
  },
  {
   "cell_type": "code",
   "execution_count": null,
   "id": "c21850dd",
   "metadata": {},
   "outputs": [],
   "source": []
  }
 ],
 "metadata": {
  "kernelspec": {
   "display_name": "Python 3 (ipykernel)",
   "language": "python",
   "name": "python3"
  },
  "language_info": {
   "codemirror_mode": {
    "name": "ipython",
    "version": 3
   },
   "file_extension": ".py",
   "mimetype": "text/x-python",
   "name": "python",
   "nbconvert_exporter": "python",
   "pygments_lexer": "ipython3",
   "version": "3.10.4"
  }
 },
 "nbformat": 4,
 "nbformat_minor": 5
}
