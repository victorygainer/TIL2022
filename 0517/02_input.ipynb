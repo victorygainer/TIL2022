{
 "cells": [
  {
   "cell_type": "markdown",
   "id": "fe49700d",
   "metadata": {},
   "source": [
    "# 변수(variable)\n",
    "변수는 처리할 데이터(상수, constant)를 저장하는 기억 장소를 말한다. \n",
    "## 변수명 작성방법  \n",
    "영문자(대소문자를 구분한다), 숫자, 특수문자('_'만 가능)를 사용할 수 있으며 반드시 문자로 시작해야하고 예약어(파이썬과 약속된 단어 => 명령어, 함수 등)는 사용할 수 없다."
   ]
  },
  {
   "cell_type": "markdown",
   "id": "b93f5e10",
   "metadata": {},
   "source": [
    "파이썬은 c/c++이나 java와 같이 변수 선언시 변수의 자료형을 지정하지 않는다.\n",
    "파이썬은 변수에 저장되는 데이터 타입에 따라 자동으로 변수의 자료형이 결정된다. \n",
    "'='는 같다라는 의미로 사용되지 않고 '=' 오른쪽의 데이터를 '=' 왼쪽의 기억장소에 저장하라는 의미로 사용된다. => 대입문, 할당문, 배정문\n",
    "'=='와 같이 2개를 연속해서 사용해야 같다로 인식한다.  "
   ]
  },
  {
   "cell_type": "code",
   "execution_count": 15,
   "id": "6256a5c7",
   "metadata": {},
   "outputs": [
    {
     "name": "stdout",
     "output_type": "stream",
     "text": [
      "홍길동\n",
      "<class 'str'>\n",
      "100\n",
      "<class 'int'>\n",
      "3.141592\n",
      "<class 'float'>\n",
      "True\n",
      "<class 'bool'>\n"
     ]
    }
   ],
   "source": [
    "a = '홍길동'\n",
    "print(a) \n",
    "# type() 함수는 인수로 지정된 기억장소의 자료형을 얻어온다.\n",
    "print(type(a)) # <class 'str'> => 문자열\n",
    "a = 100\n",
    "print(a)\n",
    "print(type(a)) # <class 'int'> => 정수\n",
    "a = 3.141592\n",
    "print(a)\n",
    "print(type(a)) # <class 'float'> => 실수\n",
    "# True => 참, False => 거짓, 반드시 첫 문자만 대문자로 나머지는 소문자로 작성해야 한다.\n",
    "a = True\n",
    "print(a)\n",
    "print(type(a)) # <class 'bool'> => 논리값"
   ]
  },
  {
   "cell_type": "code",
   "execution_count": 8,
   "id": "5ac9af67",
   "metadata": {},
   "outputs": [
    {
     "ename": "NameError",
     "evalue": "name 'a' is not defined",
     "output_type": "error",
     "traceback": [
      "\u001b[0;31m---------------------------------------------------------------------------\u001b[0m",
      "\u001b[0;31mNameError\u001b[0m                                 Traceback (most recent call last)",
      "Input \u001b[0;32mIn [8]\u001b[0m, in \u001b[0;36m<cell line: 2>\u001b[0;34m()\u001b[0m\n\u001b[1;32m      1\u001b[0m \u001b[38;5;66;03m# 더이상 사용할 필요가 없는 기억장소는 del 명령으로 메모리에서 삭제할 수 있다.\u001b[39;00m\n\u001b[0;32m----> 2\u001b[0m \u001b[38;5;28mprint\u001b[39m(\u001b[43ma\u001b[49m)\n",
      "\u001b[0;31mNameError\u001b[0m: name 'a' is not defined"
     ]
    }
   ],
   "source": [
    "# 더이상 사용할 필요가 없는 기억장소는 del 명령으로 메모리에서 삭제할 수 있다.\n",
    "print(a)\n",
    "# del a\n",
    "# print(a)"
   ]
  },
  {
   "cell_type": "markdown",
   "id": "11ff10b0",
   "metadata": {},
   "source": [
    "# input( ) 함수\n",
    "키보드로 입력하는 데이터를 입력받을 수 있다. => 무조건 문자열 형태로 받는다.\n",
    "변수 = input('메시지')"
   ]
  },
  {
   "cell_type": "code",
   "execution_count": 4,
   "id": "0c893c2f",
   "metadata": {},
   "outputs": [
    {
     "name": "stdout",
     "output_type": "stream",
     "text": [
      "이름을 입력하세요: 조영재\n",
      "<class 'str'>\n",
      "조영재님 안녕하세요\n",
      "조영재님 안녕하세요\n",
      "조영재님 안녕하세요\n"
     ]
    }
   ],
   "source": [
    "name = input('이름을 입력하세요: ')\n",
    "print(type(name))\n",
    "print('%s님 안녕하세요' % name)\n",
    "print('{}님 안녕하세요'.format(name))\n",
    "print(f'{name}님 안녕하세요')"
   ]
  },
  {
   "cell_type": "markdown",
   "id": "473b900b",
   "metadata": {},
   "source": [
    "input() 함수는 무조건 문자열 형태로 데이터를 입력받기 때문에 정수나 실수 형태의 데이터를 입력 받으려면 입력받은 데이터를 int() 함수나 float()함수를 사용해서 숫자로 변환하면 된다."
   ]
  },
  {
   "cell_type": "code",
   "execution_count": 16,
   "id": "d6ad9f9e",
   "metadata": {},
   "outputs": [
    {
     "name": "stdout",
     "output_type": "stream",
     "text": [
      "나이를 입력하세요: 23\n",
      "<class 'str'>\n"
     ]
    },
    {
     "ename": "TypeError",
     "evalue": "%d format: a real number is required, not str",
     "output_type": "error",
     "traceback": [
      "\u001b[0;31m---------------------------------------------------------------------------\u001b[0m",
      "\u001b[0;31mTypeError\u001b[0m                                 Traceback (most recent call last)",
      "Input \u001b[0;32mIn [16]\u001b[0m, in \u001b[0;36m<cell line: 4>\u001b[0;34m()\u001b[0m\n\u001b[1;32m      2\u001b[0m age \u001b[38;5;241m=\u001b[39m \u001b[38;5;28minput\u001b[39m(\u001b[38;5;124m'\u001b[39m\u001b[38;5;124m나이를 입력하세요: \u001b[39m\u001b[38;5;124m'\u001b[39m)\n\u001b[1;32m      3\u001b[0m \u001b[38;5;28mprint\u001b[39m(\u001b[38;5;28mtype\u001b[39m(age))\n\u001b[0;32m----> 4\u001b[0m \u001b[38;5;28mprint\u001b[39m(\u001b[38;5;124;43m'\u001b[39;49m\u001b[38;5;132;43;01m%s\u001b[39;49;00m\u001b[38;5;124;43m님은 \u001b[39;49m\u001b[38;5;132;43;01m%d\u001b[39;49;00m\u001b[38;5;124;43m살 입니다.\u001b[39;49m\u001b[38;5;124;43m'\u001b[39;49m\u001b[43m \u001b[49m\u001b[38;5;241;43m%\u001b[39;49m\u001b[43m \u001b[49m\u001b[43m(\u001b[49m\u001b[43mname\u001b[49m\u001b[43m,\u001b[49m\u001b[43m \u001b[49m\u001b[43mage\u001b[49m\u001b[43m)\u001b[49m)\n\u001b[1;32m      5\u001b[0m \u001b[38;5;28mprint\u001b[39m(\u001b[38;5;124m'\u001b[39m\u001b[38;5;132;01m{}\u001b[39;00m\u001b[38;5;124m님은 \u001b[39m\u001b[38;5;132;01m{}\u001b[39;00m\u001b[38;5;124m살 입니다.\u001b[39m\u001b[38;5;124m'\u001b[39m\u001b[38;5;241m.\u001b[39mformat(name,age))\n\u001b[1;32m      6\u001b[0m \u001b[38;5;66;03m# '+' 연산자는 문자열과 문자열, 숫자와 숫자의 연산만 가능하다. => 문자열과 숫자를 연산하면 에러가 발생된다. \u001b[39;00m\n\u001b[1;32m      7\u001b[0m \u001b[38;5;66;03m# 문자열과 문자열에 '+' 연산자를 사용하면 두 문자열을 하나로 이어주는 기능이 실행되고 숫자와 숫자 사이에 '+' 연산자를 사용하면 덧셈이 실행된다. \u001b[39;00m\n",
      "\u001b[0;31mTypeError\u001b[0m: %d format: a real number is required, not str"
     ]
    }
   ],
   "source": [
    "age = input('나이를 입력하세요: ')\n",
    "print(type(age))\n",
    "print('%s님은 %d살 입니다.' % (name, age))\n",
    "print('{}님은 {}살 입니다.'.format(name,age))\n",
    "# '+' 연산자는 문자열과 문자열, 숫자와 숫자의 연산만 가능하다. => 문자열과 숫자를 연산하면 에러가 발생된다. \n",
    "# 문자열과 문자열에 '+' 연산자를 사용하면 두 문자열을 하나로 이어주는 기능이 실행되고 숫자와 숫자 사이에 '+' 연산자를 사용하면 덧셈이 실행된다. \n",
    "print('{}님은 내년에 {}살 입니다.'.format(name, age + 1))"
   ]
  },
  {
   "cell_type": "code",
   "execution_count": 18,
   "id": "49bf7170",
   "metadata": {},
   "outputs": [
    {
     "name": "stdout",
     "output_type": "stream",
     "text": [
      "나이를 입력하세요: 23\n",
      "<class 'str'>\n",
      "홍길동님은 내년에 24살 입니다.\n"
     ]
    }
   ],
   "source": [
    "age = input('나이를 입력하세요: ')\n",
    "print(type(age))\n",
    "print('{}님은 내년에 {}살 입니다.'.format(name, int(age) + 1))"
   ]
  },
  {
   "cell_type": "markdown",
   "id": "a20b714e",
   "metadata": {},
   "source": [
    "split() 메소드를 사용하면 1개의 input() 함수로 여러개의 데이터를 입력받을 수 있다.   \n",
    "split() 메소드는 인수로 지정된 구분자를 사용해서 문자열을 나눠준다"
   ]
  },
  {
   "cell_type": "code",
   "execution_count": 24,
   "id": "ff86434c",
   "metadata": {},
   "outputs": [
    {
     "name": "stdout",
     "output_type": "stream",
     "text": [
      "이름과 나이를 입력하세요: 정승구, 31\n",
      "정승구,님은 31살 입니다.\n",
      "정승구,님은 내년에 32살 입니다.\n"
     ]
    }
   ],
   "source": [
    "name, age = input('이름과 나이를 입력하세요: ').split()\n",
    "print('{}님은 {}살 입니다.'.format(name,age))\n",
    "print('{}님은 내년에 {}살 입니다.'.format(name, int(age) + 1))"
   ]
  },
  {
   "cell_type": "code",
   "execution_count": 27,
   "id": "2d817a05",
   "metadata": {},
   "outputs": [
    {
     "name": "stdout",
     "output_type": "stream",
     "text": [
      "세 과목 점수를 입력하세요: 90 91 92\n",
      "총점: 273, 평균: 91\n"
     ]
    }
   ],
   "source": [
    "python, java, jsp = input('세 과목 점수를 입력하세요: ').split()\n",
    "total = int(python) + int(java) + int(jsp)\n",
    "print('총점: {}, 평균: {}'.format(total, total // 3))"
   ]
  },
  {
   "cell_type": "markdown",
   "id": "5a453ef6",
   "metadata": {},
   "source": [
    "map() 함수를 사용하면 입력받은 데이터를 split() 메소드로 구분한 후 일괄적으로 숫자로 변환 시킬 수 있다.   \n",
    "map(자료형, input('메시지').split())"
   ]
  },
  {
   "cell_type": "code",
   "execution_count": 30,
   "id": "66c6c41d",
   "metadata": {},
   "outputs": [
    {
     "name": "stdout",
     "output_type": "stream",
     "text": [
      "세 과목 점수를 입력하세요: 92.2 93.4 95.2\n",
      "총점: 280.8, 평균: 93.0\n"
     ]
    }
   ],
   "source": [
    "python, java, jsp = map(float, input('세 과목 점수를 입력하세요: ').split())\n",
    "total = python + java + jsp\n",
    "print('총점: {}, 평균: {}'.format(total, total // 3))"
   ]
  },
  {
   "cell_type": "code",
   "execution_count": null,
   "id": "01c69407",
   "metadata": {},
   "outputs": [],
   "source": []
  }
 ],
 "metadata": {
  "kernelspec": {
   "display_name": "Python 3 (ipykernel)",
   "language": "python",
   "name": "python3"
  },
  "language_info": {
   "codemirror_mode": {
    "name": "ipython",
    "version": 3
   },
   "file_extension": ".py",
   "mimetype": "text/x-python",
   "name": "python",
   "nbconvert_exporter": "python",
   "pygments_lexer": "ipython3",
   "version": "3.10.4"
  }
 },
 "nbformat": 4,
 "nbformat_minor": 5
}
