{
 "cells": [
  {
   "cell_type": "markdown",
   "id": "75403111",
   "metadata": {},
   "source": [
    "튜플은 리스트와 거의 비슷하지만 리스트는 []로 감싸고 튜플은 ()로 감싼다.   \n",
    "리스트는 데이터의 수정 및 삭ㄷ제가 가능하지만 튜플은 불가능하다. "
   ]
  },
  {
   "cell_type": "code",
   "execution_count": 2,
   "id": "c6cd707e",
   "metadata": {},
   "outputs": [],
   "source": [
    "# 빈 튜플 만들기 "
   ]
  },
  {
   "cell_type": "code",
   "execution_count": 7,
   "id": "cce48e78",
   "metadata": {},
   "outputs": [
    {
     "name": "stdout",
     "output_type": "stream",
     "text": [
      "<class 'list'>\n",
      "[1]\n",
      "<class 'tuple'>\n",
      "(1,)\n"
     ]
    }
   ],
   "source": [
    "# 데이터가 1개인 리스트\n",
    "a = [1]\n",
    "print(type(a))\n",
    "print(a)\n",
    "\n",
    "# 데이터가 1개인 튜플\n",
    "a = (1,)\n",
    "print(type(a))\n",
    "print(a)"
   ]
  },
  {
   "cell_type": "code",
   "execution_count": null,
   "id": "b093ecfc",
   "metadata": {},
   "outputs": [],
   "source": []
  }
 ],
 "metadata": {
  "kernelspec": {
   "display_name": "Python 3 (ipykernel)",
   "language": "python",
   "name": "python3"
  },
  "language_info": {
   "codemirror_mode": {
    "name": "ipython",
    "version": 3
   },
   "file_extension": ".py",
   "mimetype": "text/x-python",
   "name": "python",
   "nbconvert_exporter": "python",
   "pygments_lexer": "ipython3",
   "version": "3.10.4"
  }
 },
 "nbformat": 4,
 "nbformat_minor": 5
}
