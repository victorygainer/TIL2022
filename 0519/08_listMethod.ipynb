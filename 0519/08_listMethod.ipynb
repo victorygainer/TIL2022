{
 "cells": [
  {
   "cell_type": "markdown",
   "id": "ffe12738",
   "metadata": {},
   "source": [
    "리스트 메소드 "
   ]
  },
  {
   "cell_type": "code",
   "execution_count": 13,
   "id": "b00a8154",
   "metadata": {},
   "outputs": [
    {
     "name": "stdout",
     "output_type": "stream",
     "text": [
      "3\n",
      "[1, 2, 3]\n",
      "[1, 2, 3, 4]\n",
      "[1, 5, 2, 3, 4]\n",
      "[1, 5, 2, 3, 4, 999]\n"
     ]
    }
   ],
   "source": [
    "a = [1,2,3]\n",
    "\n",
    "# len() 함수로 리스트에 저장된 데이터의 개수를 얻어온다\n",
    "print(len(a))\n",
    "\n",
    "# append() 메소드로 리스트 맨 뒤에 데이터를 추가한다.\n",
    "print(a)\n",
    "a.append(4)\n",
    "print(a)\n",
    "\n",
    "# insert() 메소드로 리스트의 특정 인덱스 위치에 데이터를 삽입한다.\n",
    "a.insert(1, 5)\n",
    "print(a)\n",
    "\n",
    "# insert() 메소드와 len() 함수를 사용해서 append() 메소드 효과내기\n",
    "a.insert(len(a), 999)\n",
    "print(a)"
   ]
  },
  {
   "cell_type": "code",
   "execution_count": 21,
   "id": "3bc40bef",
   "metadata": {},
   "outputs": [
    {
     "name": "stdout",
     "output_type": "stream",
     "text": [
      "[1, 5, 2, 3, 6, 4]\n",
      "[1, 2, 3, 4, 5, 6]\n",
      "['1', '010', '999', '50']\n",
      "['010', '1', '50', '999']\n",
      "['d', 'b', 'a', 'c']\n",
      "['a', 'b', 'c', 'd']\n",
      "['홍길동', '임꺽정', '장낄산', '일지매']\n",
      "['일지매', '임꺽정', '장낄산', '홍길동']\n"
     ]
    }
   ],
   "source": [
    "# sort() 메소드로 리스트에 저장된 데이터를 별도의 설정이 없으면 오름차순(문자열은 가나다순) 으로 정렬한다.\n",
    "a = [1,5,2,3,6,4]\n",
    "print(a)\n",
    "a.sort()\n",
    "print(a)\n",
    "\n",
    "b = ['1', '010', '999', '50']\n",
    "print(b)\n",
    "b.sort()\n",
    "print(b)\n",
    "\n",
    "c = ['d', 'b', 'a', 'c']\n",
    "print(c)\n",
    "c.sort()\n",
    "print(c)\n",
    "\n",
    "d = ['홍길동', '임꺽정', '장낄산', '일지매']\n",
    "print(d)\n",
    "d.sort()\n",
    "print(d)"
   ]
  },
  {
   "cell_type": "code",
   "execution_count": 25,
   "id": "96d13351",
   "metadata": {},
   "outputs": [
    {
     "name": "stdout",
     "output_type": "stream",
     "text": [
      "[6, 5, 4, 3, 2, 1]\n",
      "[6, 5, 4, 3, 2, 1]\n",
      "['999', '50', '1', '010']\n",
      "['d', 'c', 'b', 'a']\n",
      "['홍길동', '장낄산', '임꺽정', '일지매']\n"
     ]
    }
   ],
   "source": [
    "# sort() 메소드의 reverse 옵션을 True로 지정하면 내림차순(문자는 가나다순)으로 정렬된다. \n",
    "print(a)\n",
    "a.sort(reverse=True)\n",
    "print(a)\n",
    "b.sort(reverse=True)\n",
    "print(b)\n",
    "c.sort(reverse=True)\n",
    "print(c)\n",
    "d.sort(reverse=True)\n",
    "print(d)"
   ]
  },
  {
   "cell_type": "code",
   "execution_count": null,
   "id": "b975c5cc",
   "metadata": {},
   "outputs": [],
   "source": []
  }
 ],
 "metadata": {
  "kernelspec": {
   "display_name": "Python 3 (ipykernel)",
   "language": "python",
   "name": "python3"
  },
  "language_info": {
   "codemirror_mode": {
    "name": "ipython",
    "version": 3
   },
   "file_extension": ".py",
   "mimetype": "text/x-python",
   "name": "python",
   "nbconvert_exporter": "python",
   "pygments_lexer": "ipython3",
   "version": "3.10.4"
  }
 },
 "nbformat": 4,
 "nbformat_minor": 5
}
