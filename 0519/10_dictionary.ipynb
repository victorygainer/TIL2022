{
 "cells": [
  {
   "cell_type": "markdown",
   "id": "d7234a57",
   "metadata": {},
   "source": [
    "# 딕셔너리 만들기\n",
    "\n",
    "딕셔너리는 key와 value가 1:1로 대응되는 관계를 나타내는 자료형으로 key와 key에 할당되는 데이터(value)가 한쌍이 되는 자료형이다.   \n",
    "딕셔너리는 {}로 감싸주고 내부에는 {key: value, key: value, ...}와 같은 형태를 가진다.   \n",
    "일반적으로 key는 string 타입을 사용하고 value는 저장할 데이터를 적는다.  "
   ]
  },
  {
   "cell_type": "code",
   "execution_count": 2,
   "id": "c042e5ee",
   "metadata": {},
   "outputs": [
    {
     "name": "stdout",
     "output_type": "stream",
     "text": [
      "<class 'dict'>\n",
      "{}\n",
      "<class 'dict'>\n",
      "{}\n"
     ]
    }
   ],
   "source": [
    "# 빈 딕셔너리 만들기 \n",
    "a = {}\n",
    "print(type(a))\n",
    "print(a)\n",
    "# 빈 딕셔너리는 생성자 함수를 사용해서도 만들 수 있다.\n",
    "b = dict() \n",
    "print(type(b))\n",
    "print(b)"
   ]
  },
  {
   "cell_type": "code",
   "execution_count": null,
   "id": "b2c4501c",
   "metadata": {},
   "outputs": [],
   "source": []
  }
 ],
 "metadata": {
  "kernelspec": {
   "display_name": "Python 3 (ipykernel)",
   "language": "python",
   "name": "python3"
  },
  "language_info": {
   "codemirror_mode": {
    "name": "ipython",
    "version": 3
   },
   "file_extension": ".py",
   "mimetype": "text/x-python",
   "name": "python",
   "nbconvert_exporter": "python",
   "pygments_lexer": "ipython3",
   "version": "3.10.4"
  }
 },
 "nbformat": 4,
 "nbformat_minor": 5
}
