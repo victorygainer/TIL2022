{
 "cells": [
  {
   "cell_type": "code",
   "execution_count": 9,
   "id": "9e044652",
   "metadata": {},
   "outputs": [
    {
     "name": "stdout",
     "output_type": "stream",
     "text": [
      "set()\n",
      "{'홍길동'}\n",
      "{'홍길동', '임꺽정'}\n",
      "{'장길산', '홍길동', '임꺽정'}\n",
      "{'장길산', '홍길동', '일지매', '임꺽정'}\n",
      "{'장길산', '홍길동', '일지매', '임꺽정'}\n"
     ]
    }
   ],
   "source": [
    "#add() 메소드로 데이터를 1건식 추가할 수 있따.\n",
    "a = set()\n",
    "print(a)\n",
    "a.add('홍길동')\n",
    "print(a)\n",
    "a.add('임꺽정')\n",
    "print(a)\n",
    "a.add('장길산')\n",
    "print(a)\n",
    "a.add('일지매')\n",
    "print(a)\n",
    "a.add('홍길동')\n",
    "print(a)"
   ]
  },
  {
   "cell_type": "code",
   "execution_count": 26,
   "id": "b8518660",
   "metadata": {},
   "outputs": [
    {
     "name": "stdout",
     "output_type": "stream",
     "text": [
      "{'장길산', '홍길동', '일지매', '임꺽정'}\n",
      "['손오공', '저팔계', '사오정', '삼장법사']\n",
      "{'사오정', '삼장법사', '저팔계', '일지매', '임꺽정', '손오공', '장길산', '홍길동'}\n",
      "<class 'tuple'>\n",
      "{'사오정', '삼장법사', '저팔계', '피콜로', '일지매', '임꺽정', '마인부우', '베지터', '손오공', '장길산', '홍길동', '프리저'}\n"
     ]
    }
   ],
   "source": [
    "# update() 메소드로 리스트나 튜플에 저장된 데이터를 set에 일괄적으로 추가할 수 있다.\n",
    "a = {'장길산', '홍길동', '일지매', '임꺽정'}\n",
    "print(a)\n",
    "\n",
    "b = ['손오공', '저팔계', '사오정', '삼장법사']\n",
    "print(b)\n",
    "a.update(b)\n",
    "print(a)\n",
    "\n",
    "c = '피콜로', '마인부우', '베지터', '프리저'\n",
    "print(type(c))\n",
    "a.update(c)\n",
    "print(a)"
   ]
  },
  {
   "cell_type": "code",
   "execution_count": 31,
   "id": "a680b467",
   "metadata": {},
   "outputs": [
    {
     "name": "stdout",
     "output_type": "stream",
     "text": [
      "{'장길산', '홍길동', '일지매', '임꺽정'}\n",
      "{'홍길동', '일지매', '임꺽정'}\n",
      "{'홍길동', '일지매', '임꺽정'}\n"
     ]
    }
   ],
   "source": [
    "# remove() 메소드의 인수로 지정된 데이터를 set에서 제거한다. \n",
    "a = {'홍길동', '임꺽정', '장길산', '일지매'}\n",
    "print(a)\n",
    "\n",
    "a.discard('장길산')\n",
    "print(a)\n",
    "a.discard('장길산')\n",
    "print(a)"
   ]
  },
  {
   "cell_type": "code",
   "execution_count": 33,
   "id": "ee88966b",
   "metadata": {},
   "outputs": [
    {
     "name": "stdout",
     "output_type": "stream",
     "text": [
      "{'장길산', '홍길동', '일지매', '임꺽정'}\n"
     ]
    },
    {
     "ename": "NameError",
     "evalue": "name 'a' is not defined",
     "output_type": "error",
     "traceback": [
      "\u001b[0;31m---------------------------------------------------------------------------\u001b[0m",
      "\u001b[0;31mNameError\u001b[0m                                 Traceback (most recent call last)",
      "Input \u001b[0;32mIn [33]\u001b[0m, in \u001b[0;36m<cell line: 7>\u001b[0;34m()\u001b[0m\n\u001b[1;32m      5\u001b[0m \u001b[38;5;66;03m#del 명령을 사용해서 set 자체를 메모리에서 제거할 수 있다. \u001b[39;00m\n\u001b[1;32m      6\u001b[0m \u001b[38;5;28;01mdel\u001b[39;00m a \n\u001b[0;32m----> 7\u001b[0m \u001b[38;5;28mprint\u001b[39m(\u001b[43ma\u001b[49m)\n",
      "\u001b[0;31mNameError\u001b[0m: name 'a' is not defined"
     ]
    }
   ],
   "source": [
    "# clear() 메소드로 set에 저장된 모든데이터를 제거할 수 있다.\n",
    "a = {'홍길동', '임꺽정', '장길산', '일지매'}\n",
    "print(a)\n",
    "\n",
    "#del 명령을 사용해서 set 자체를 메모리에서 제거할 수 있다. \n",
    "del a \n",
    "print(a)"
   ]
  },
  {
   "cell_type": "markdown",
   "id": "9f188851",
   "metadata": {},
   "source": [
    "집합연산"
   ]
  },
  {
   "cell_type": "code",
   "execution_count": 43,
   "id": "2d5e4b21",
   "metadata": {},
   "outputs": [
    {
     "name": "stdout",
     "output_type": "stream",
     "text": [
      "{1, 2, 3, 4, 5, 6, 7}\n",
      "{1, 2, 3, 4, 5, 6, 7}\n",
      "{3, 4, 5}\n",
      "{3, 4, 5}\n",
      "{1, 2}\n",
      "{1, 2}\n",
      "{1, 2, 6, 7}\n",
      "{1, 2, 6, 7}\n",
      "{1, 2, 6, 7}\n"
     ]
    }
   ],
   "source": [
    "a = {1,2,3,4,5}\n",
    "b = {3,4,5,6,7}\n",
    "\n",
    "# 합집합 => union(), |\n",
    "print(a.union(b))\n",
    "print(a | b)\n",
    "\n",
    "# 교집합 \n",
    "print(a.intersection(b))\n",
    "print(a&b)\n",
    "\n",
    "# 차집합\n",
    "print(a.difference(b))\n",
    "print(a-b)\n",
    "\n",
    "# 대칭차집합: 합집합 - 교집합\n",
    "print((a|b) - (a&b))\n",
    "print(a.symmetric_difference(b))\n",
    "print(a^b)\n"
   ]
  },
  {
   "cell_type": "code",
   "execution_count": null,
   "id": "ebd3ad06",
   "metadata": {},
   "outputs": [],
   "source": [
    "\n"
   ]
  }
 ],
 "metadata": {
  "kernelspec": {
   "display_name": "Python 3 (ipykernel)",
   "language": "python",
   "name": "python3"
  },
  "language_info": {
   "codemirror_mode": {
    "name": "ipython",
    "version": 3
   },
   "file_extension": ".py",
   "mimetype": "text/x-python",
   "name": "python",
   "nbconvert_exporter": "python",
   "pygments_lexer": "ipython3",
   "version": "3.10.4"
  }
 },
 "nbformat": 4,
 "nbformat_minor": 5
}
