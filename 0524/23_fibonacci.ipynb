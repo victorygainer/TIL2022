{
 "cells": [
  {
   "cell_type": "code",
   "execution_count": 4,
   "id": "e88cefd6",
   "metadata": {},
   "outputs": [
    {
     "name": "stdout",
     "output_type": "stream",
     "text": [
      "피보나치 수열의 합계를 계산할 항을 입력하세요: 10\n",
      "피보나치 수열 10번째 항 까지의 합계: 143\n"
     ]
    }
   ],
   "source": [
    "a = 1 # 1번째 항의 값 초기화, 피보나치 수열의 n-2 번째 항의 값\n",
    "b = 1 # 2번째 항의 값 초기화, 피보나치 수열의 n-1 번째 항의 값\n",
    "y = 2 # 1번째 항과 2번째 항의 값을 더한 합계 => n번째 항 까지의 피보나치 수열의 합계를 기억하는 변수\n",
    "\n",
    "# 피보나치 수열의 합계를 계산할 항(n)을 입력받는다. \n",
    "n = int(input('피보나치 수열의 합계를 계산할 항을 입력하세요: '))\n",
    "\n",
    "# 1번째 항과 2번째 항은 이미 계산이 되어있다는 가정 하에 작업을 시작하므로 3번째 항 부터 n번째 항까지 반복하며 합계를 계산한다. \n",
    "\n",
    "for k in range(3, n + 1):\n",
    "    c = a + b # k번째 항의 피보나치 수열 값을 계산한다.\n",
    "    y += c # 피보나칫 수열의 합계를 계산한다. \n",
    "    # 다음 항의 값을 계산하기 위해 n-2 번째 항의 값(a)을 n-1 번째 항의 값(b)으로 넣어주고 n-1 번째 항의 값(b)을 n번째 항의 값(c)에 넣어준다.\n",
    "    a = b\n",
    "    b = c \n",
    "#===== for \n",
    "print('피보나치 수열 {}번째 항 까지의 합계: {}'.format(n,y))"
   ]
  },
  {
   "cell_type": "code",
   "execution_count": 11,
   "id": "bf0e9e77",
   "metadata": {},
   "outputs": [
    {
     "name": "stdout",
     "output_type": "stream",
     "text": [
      "n: 10\n",
      "[1, 1, 2, 3, 5, 8, 13, 21, 34, 55] 143\n",
      "======================================================================\n",
      "피보나치 수열의 10번째 항 까지의 합계: 143 =1 + 1 + 2 + 3 + 5 + 8 + 13 + 21 + 34 + 55\n",
      "======================================================================\n",
      "피보나치 수열의 10번째 항 까지의 합계: 143 ="
     ]
    }
   ],
   "source": [
    "# 피보나치 수열의 1번째 항과 2번째 항의 값으로 초기화된 리스트를 만든다. => 3번째 항 부터의 값을 추가한다. \n",
    "f = [1,1]\n",
    "total = 2\n",
    "b = ''\n",
    "c = ''\n",
    "n = int(input('n: '))\n",
    "for k in range(3, n + 1):\n",
    "    f.append(f[k - 3] + f[k - 2])\n",
    "print(f, sum(f))\n",
    "print('=' * 70)\n",
    "print('피보나치 수열의 {}번째 항 까지의 합계: {} ='.format(n,sum(f)), end='')\n",
    "for i in range(len(f) -1):\n",
    "    print(f[i],end= ' + ')\n",
    "print(f[-1])\n",
    "print('=' * 70)\n",
    "print('피보나치 수열의 {}번째 항 까지의 합계: {} ='.format(n,sum(f)), end='')\n"
   ]
  },
  {
   "cell_type": "markdown",
   "id": "e57eff4d",
   "metadata": {},
   "source": []
  },
  {
   "cell_type": "code",
   "execution_count": null,
   "id": "688f900e",
   "metadata": {},
   "outputs": [],
   "source": []
  }
 ],
 "metadata": {
  "kernelspec": {
   "display_name": "Python 3 (ipykernel)",
   "language": "python",
   "name": "python3"
  },
  "language_info": {
   "codemirror_mode": {
    "name": "ipython",
    "version": 3
   },
   "file_extension": ".py",
   "mimetype": "text/x-python",
   "name": "python",
   "nbconvert_exporter": "python",
   "pygments_lexer": "ipython3",
   "version": "3.10.4"
  }
 },
 "nbformat": 4,
 "nbformat_minor": 5
}
