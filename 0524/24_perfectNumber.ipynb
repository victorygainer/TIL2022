{
 "cells": [
  {
   "cell_type": "code",
   "execution_count": 6,
   "id": "fa56a262",
   "metadata": {},
   "outputs": [
    {
     "name": "stdout",
     "output_type": "stream",
     "text": [
      "1번째 완전 수:    6\n",
      "2번째 완전 수:   28\n",
      "3번째 완전 수:  496\n",
      "4번째 완전 수: 8128\n",
      "완전수의 개수는 4개 입니다.\n"
     ]
    }
   ],
   "source": [
    "lm = 0 # 완전수의 개수를 세는 변수\n",
    "# 바깥 반복은 4 ~ 10000 사이의 완전수를 판별해야 하므로 완전수인가 판별할 수를 4부터 10000까지 1 씩 증가시키는 역할을 한다. \n",
    "for n in range(4, 10001):\n",
    "    # 완전수인가 판별할 숫자가 바뀔 때 마다 약수의 합계를 다시 계산해야 하므로 n이 바뀔 때마다 초기화 시켜야한다. \n",
    "    # n이 바뀔 때 마다 초기화 시키지 않으면 이전 숫자의 약수의 합에 현재 숫자의 약수의 합이 누적된다. \n",
    "    total = 0 # 완전수인가 판별할 수의 약수의 합계를 계산하는 변수 \n",
    "    # 어떤 숫자를 나눠서 떨어뜨릴 수 있는 가장 큰 숫자는 자신을 제외하면 자신의 절반을 넘어가지 않는다. \n",
    "    # 완전수는 자신을 젣외한 약수의 합이 자신과 같으면 되므로 자신으로 나눠야 할 필요가 없다. \n",
    "    k = n // 2 \n",
    "    # 안쪽 반복은 n이 완전수인가 판별하기 위해서 자신을 제외한 약수의 합계를 계산한다. \n",
    "    for j in range(1, k+1):\n",
    "        # 완전수인가 판별할 수의 약수를 계산하기 위해서 1 ~ k 사이의 숫자로 나눈 나머지를 계산한다. \n",
    "        r = n % j\n",
    "        # n을 j로 나눈 나머지가 0이면 j는 n의 약수이므로 약수의 합계를 계산한다. \n",
    "        if r == 0: # j가 n의 약수인가?\n",
    "            total += j\n",
    "        # ====== if\n",
    "    # ===== for\n",
    "    # n이 완전수인가 판단해서 완전수면 n을 출력하고 완전수의 개수를 1증가 시킨다. \n",
    "    if n == total: # 완전수인가?\n",
    "        lm += 1 # 완전수의 개수를 증가시킨다. \n",
    "        print('{}번째 완전 수: {:4d}'.format(lm, n))\n",
    "    # ===== if \n",
    "# ===== for n \n",
    "print('완전수의 개수는 {}개 입니다.'.format(lm)) # 완전수의 개수를 출력한다."
   ]
  },
  {
   "cell_type": "code",
   "execution_count": null,
   "id": "462ae9ee",
   "metadata": {},
   "outputs": [],
   "source": []
  }
 ],
 "metadata": {
  "kernelspec": {
   "display_name": "Python 3 (ipykernel)",
   "language": "python",
   "name": "python3"
  },
  "language_info": {
   "codemirror_mode": {
    "name": "ipython",
    "version": 3
   },
   "file_extension": ".py",
   "mimetype": "text/x-python",
   "name": "python",
   "nbconvert_exporter": "python",
   "pygments_lexer": "ipython3",
   "version": "3.10.4"
  }
 },
 "nbformat": 4,
 "nbformat_minor": 5
}
