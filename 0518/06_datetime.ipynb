{
 "cells": [
  {
   "cell_type": "markdown",
   "id": "e0014678",
   "metadata": {},
   "source": [
    "# datetime 모듈  \n",
    "  컴퓨터 시스템의 날짜와 시간을 얻어온다."
   ]
  },
  {
   "cell_type": "code",
   "execution_count": 4,
   "id": "acde59da",
   "metadata": {},
   "outputs": [
    {
     "name": "stdout",
     "output_type": "stream",
     "text": [
      "2022-05-18 14:35:46.056157\n"
     ]
    }
   ],
   "source": [
    "import datetime # datetime 모듈 전체를 import 한다.\n",
    "now = datetime.datetime.now()\n",
    "print(now)"
   ]
  },
  {
   "cell_type": "code",
   "execution_count": 5,
   "id": "d3dc1564",
   "metadata": {},
   "outputs": [
    {
     "name": "stdout",
     "output_type": "stream",
     "text": [
      "2022-05-18 14:35:46.064741\n"
     ]
    }
   ],
   "source": [
    "from datetime import datetime # datetime 모듈에서 datetime 클래스만 import 한다. \n",
    "now2 = datetime.now()\n",
    "print(now2)"
   ]
  },
  {
   "cell_type": "code",
   "execution_count": 6,
   "id": "6a8402d0",
   "metadata": {},
   "outputs": [
    {
     "name": "stdout",
     "output_type": "stream",
     "text": [
      "2022-05-18 14:35:46.070855\n"
     ]
    }
   ],
   "source": [
    "from datetime import datetime as dt # datetime 클래스의 별명을 dt로 지정한다. \n",
    "now3 = dt.now()\n",
    "print(now3)"
   ]
  },
  {
   "cell_type": "markdown",
   "id": "258ecde0",
   "metadata": {},
   "source": [
    "날짜, 시간 데이터에서 년, 월, 일, 시, 분, 초, 밀리초, 요일 추출하기"
   ]
  },
  {
   "cell_type": "code",
   "execution_count": 7,
   "id": "2c729f9a",
   "metadata": {
    "scrolled": true
   },
   "outputs": [
    {
     "name": "stdout",
     "output_type": "stream",
     "text": [
      "2022-05-18 14:35:46.078782\n",
      "년: 2022\n",
      "월: 5\n",
      "일: 18\n",
      "시: 14\n",
      "분: 35\n",
      "초: 46\n",
      "요일: 수\n"
     ]
    }
   ],
   "source": [
    "from datetime import datetime as dt \n",
    "today = dt.now()\n",
    "print(today)\n",
    "print('년: {}'.format(today.year))\n",
    "print('월: {}'.format(today.month))\n",
    "print('일: {}'.format(today.day))\n",
    "print('시: {}'.format(today.hour))\n",
    "print('분: {}'.format(today.minute))\n",
    "print('초: {}'.format(today.second))\n",
    "# 요일은 메소드를 사용해서 얻어온다. => 월(0), 화(1), 수(2), 목(3), 금(4), 토(5), 일(6)\n",
    "week = ['월', '화', '수', '목', '금', '토', '일']\n",
    "print('요일: {}'.format(week[today.weekday()])) \n"
   ]
  },
  {
   "cell_type": "markdown",
   "id": "9bb5f191",
   "metadata": {},
   "source": [
    "날짜, 시간 데이터 수정하기"
   ]
  },
  {
   "cell_type": "code",
   "execution_count": 8,
   "id": "b0fdd3c5",
   "metadata": {},
   "outputs": [
    {
     "name": "stdout",
     "output_type": "stream",
     "text": [
      "2022-05-18 14:35:46.084326\n",
      "2023-05-18 14:35:46.084326\n",
      "2022-12-18 14:35:46.084326\n",
      "2022-05-25 14:35:46.084326\n",
      "2022-05-18 18:35:46.084326\n",
      "2022-05-18 14:20:46.084326\n",
      "2022-05-18 14:35:30.084326\n"
     ]
    }
   ],
   "source": [
    "from datetime import datetime as dt \n",
    "today = dt.now()\n",
    "print(today)\n",
    "print(today.replace(year=2023))\n",
    "print(today.replace(month=12))\n",
    "print(today.replace(day=25))\n",
    "print(today.replace(hour=18))\n",
    "print(today.replace(minute=20))\n",
    "print(today.replace(second=30))\n"
   ]
  },
  {
   "cell_type": "markdown",
   "id": "9cc89425",
   "metadata": {},
   "source": [
    "날짜, 시간 데이터 만들기"
   ]
  },
  {
   "cell_type": "code",
   "execution_count": 9,
   "id": "a249e6ea",
   "metadata": {},
   "outputs": [
    {
     "name": "stdout",
     "output_type": "stream",
     "text": [
      "2022-07-15 00:00:00\n",
      "<class 'datetime.datetime'>\n",
      "2022-05-18 18:20:00\n"
     ]
    }
   ],
   "source": [
    "from dateutil.parser import parse\n",
    "date = parse('2022-7-15')\n",
    "print(date)\n",
    "print(type(date))\n",
    "time = parse('18:20:00')\n",
    "print(time)"
   ]
  },
  {
   "cell_type": "code",
   "execution_count": 10,
   "id": "b9d878a5",
   "metadata": {},
   "outputs": [
    {
     "name": "stdout",
     "output_type": "stream",
     "text": [
      "2022-05-18 14:35:46.090738\n"
     ]
    }
   ],
   "source": [
    "start = dt.now()\n",
    "print(start)"
   ]
  },
  {
   "cell_type": "code",
   "execution_count": 11,
   "id": "8013b34d",
   "metadata": {},
   "outputs": [
    {
     "name": "stdout",
     "output_type": "stream",
     "text": [
      "2022-05-18 14:35:46.094452\n"
     ]
    }
   ],
   "source": [
    "end = dt.now()\n",
    "print(end)"
   ]
  },
  {
   "cell_type": "code",
   "execution_count": 12,
   "id": "9e8b866a",
   "metadata": {},
   "outputs": [
    {
     "name": "stdout",
     "output_type": "stream",
     "text": [
      "0:00:00.003714\n",
      "0\n"
     ]
    }
   ],
   "source": [
    "t = end - start \n",
    "print(t)\n",
    "print(t.days)"
   ]
  },
  {
   "cell_type": "code",
   "execution_count": 25,
   "id": "b3f96ba7",
   "metadata": {},
   "outputs": [
    {
     "name": "stdout",
     "output_type": "stream",
     "text": [
      "2022-05-18 14:48:41.959740\n",
      "2022-05-18\n",
      "22-05-18\n",
      "2022-May-18\n",
      "2022-May-18\n",
      "May-18-2022\n",
      "2022년 05월 18일\n",
      "2022년 05월 18일\n"
     ]
    }
   ],
   "source": [
    "today = dt. now()\n",
    "print(today)\n",
    "# %Y: 년도 4자리, %y: 년도 2자리, %m: 월(숫자), %B: 월(영어 => 전체), %b: 월(영어 => 앞 3글자), %d: 일, %A: 요일(영어 => 전체)\n",
    "# %a: 요일(영어 => 앞 3글자)\n",
    "print(today.strftime('%Y-%m-%d'))\n",
    "print(today.strftime('%y-%m-%d'))\n",
    "print(today.strftime('%Y-%B-%d'))\n",
    "print(today.strftime('%Y-%b-%d'))\n",
    "print(today.strftime('%B-%d-%Y'))\n",
    "print(today.strftime('%Y년 %m월 %d일'))\n",
    "print(today.strftime('%Y년 %m월 %d일'.encode('unicode-escape').decode()).encode().decode('unicode-escape'))"
   ]
  },
  {
   "cell_type": "code",
   "execution_count": 31,
   "id": "12368ca6",
   "metadata": {},
   "outputs": [
    {
     "name": "stdout",
     "output_type": "stream",
     "text": [
      "2022-05-18 14:51:40.292546\n",
      "14:51:40\n",
      "14:51:40.292546\n",
      "PM 02:51:40\n",
      "14시 51분 40초\n"
     ]
    }
   ],
   "source": [
    "today = dt.now()\n",
    "print(today)\n",
    "# %H: 시간(24시각), %I: 시간(12시각), %M:분, %S:초, %f: 마이크로 초, %p: AM/PM\n",
    "print(today.strftime('%H:%M:%S'))\n",
    "print(today.strftime('%H:%M:%S.%f'))\n",
    "print(today.strftime('%p %I:%M:%S'))\n",
    "print(today.strftime('%H시 %M분 %S초'))"
   ]
  },
  {
   "cell_type": "code",
   "execution_count": null,
   "id": "120c414f",
   "metadata": {},
   "outputs": [],
   "source": []
  }
 ],
 "metadata": {
  "kernelspec": {
   "display_name": "Python 3 (ipykernel)",
   "language": "python",
   "name": "python3"
  },
  "language_info": {
   "codemirror_mode": {
    "name": "ipython",
    "version": 3
   },
   "file_extension": ".py",
   "mimetype": "text/x-python",
   "name": "python",
   "nbconvert_exporter": "python",
   "pygments_lexer": "ipython3",
   "version": "3.10.4"
  }
 },
 "nbformat": 4,
 "nbformat_minor": 5
}
