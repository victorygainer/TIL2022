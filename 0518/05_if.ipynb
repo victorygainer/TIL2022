{
 "cells": [
  {
   "cell_type": "code",
   "execution_count": 28,
   "id": "77bd1690",
   "metadata": {},
   "outputs": [],
   "source": []
  },
  {
   "cell_type": "markdown",
   "id": "d0b3db20",
   "metadata": {},
   "source": [
    "# if 명령의 형식 \n",
    "\n",
    "if 조건식:  \n",
    "&nbsp;&nbsp;&nbsp;&nbsp;조건식이 참일 경우 실행할 문장  \n",
    "&nbsp;&nbsp;&nbsp;&nbsp;&nbsp;....\n",
    "\n",
    "else:  \n",
    "&nbsp;&nbsp;&nbsp;&nbsp;조건식이 거짓일 경우 실행할 문장  \n",
    "&nbsp;&nbsp;&nbsp;&nbsp;&nbsp;....  \n",
    "\n",
    "조건식을 만족하지 않을 때 아무런 일도 할 필요가 없다면  else이하를 생략할 수 있다."
   ]
  },
  {
   "cell_type": "markdown",
   "id": "6a11f968",
   "metadata": {},
   "source": [
    "# 관계 연산자 \n",
    "&nbsp;<&nbsp;: 작다,ㅡ 미만  \n",
    "&nbsp;<=&nbsp;: 작거나 같다, 이하   \n",
    "&nbsp;>&nbsp; : 크다, 초과  \n",
    "&nbsp;>=&nbsp; : 작거나 같다, 미만  \n",
    "&nbsp;==&nbsp; : 같다  \n",
    "&nbsp;!=&nbsp; : 같지않다.  "
   ]
  },
  {
   "cell_type": "markdown",
   "id": "c5df0948",
   "metadata": {},
   "source": [
    "# 논리 연산자 \n",
    "&nbsp;and&nbsp; : 논리곱, 두 조건이 모두 참일 경우에만 참, ~이고, ~이면서, ~중에서  \n",
    "&nbsp;or&nbsp;: 논리합, 두 조건 중에서 한 개 이상 참일 경우에 참, ~또는, ~이거나    \n",
    "&nbsp;not&nbsp; : 논리부정  \n",
    "<img src=\"./andOrnot.png\">"
   ]
  },
  {
   "cell_type": "markdown",
   "id": "be0dd998",
   "metadata": {},
   "source": [
    "# 연산자 우선순위 \n",
    "\n",
    "단항 연산자 => 이항 연산자 => 삼항 연산자 => 대입 연산자 ('='와 같이 사용된다.)  \n",
    "이항 연산자: ** => *,/,//,% => +,- => 관계 연산자 => 논리 연산자(not => and => or)"
   ]
  },
  {
   "cell_type": "code",
   "execution_count": 6,
   "id": "7c012e17",
   "metadata": {},
   "outputs": [
    {
     "name": "stdout",
     "output_type": "stream",
     "text": [
      "나이를 입력하세요:12371928379\n",
      "투표하세요\n"
     ]
    }
   ],
   "source": [
    "# 나이를 입력받아 투표권이 있나 없나 판단한다.\n",
    "age = int(input('나이를 입력하세요:'))\n",
    "if age > 20 :\n",
    "    print('투표하세요')\n",
    "else :\n",
    "    print('더 크고 오세요')\n"
   ]
  },
  {
   "cell_type": "code",
   "execution_count": 24,
   "id": "9ab3bdba",
   "metadata": {},
   "outputs": [
    {
     "name": "stdout",
     "output_type": "stream",
     "text": [
      "주민등록번호를 입력하세요:8802091\n",
      "1\n",
      "남자입니다\n",
      "남자입니다\n",
      "남자입니다\n"
     ]
    }
   ],
   "source": [
    "# 주민등록번호를 입력받아 성별을 판단한다.\n",
    "jumin = input('주민등록번호를 입력하세요:')\n",
    "print(jumin[6])\n",
    "if int(jumin[6]) == 1 or 3 : # 2000년 이후 태어난 남자의 성별이 모두 여자로 출력된다.\n",
    "    print('남자입니다')\n",
    "else :\n",
    "    print('여자입니다')\n",
    "    \n",
    "if int(jumin[6]) in [1, 3, 5] : # 2000년 이후 태어난 남자의 성별이 모두 여자로 출력된다.\n",
    "    print('남자입니다')\n",
    "else :\n",
    "    print('여자입니다')\n",
    "    \n",
    "# 성별이 홀수면 남자, 짝수면 여자로 비교\n",
    "if int(jumin[6]) % 2 == 0:\n",
    "    print('여자입니다')\n",
    "else :\n",
    "    print('남자입니다')"
   ]
  },
  {
   "cell_type": "code",
   "execution_count": 9,
   "id": "ea381780",
   "metadata": {},
   "outputs": [
    {
     "name": "stdout",
     "output_type": "stream",
     "text": [
      "주민등록번호를 입력하세요:88020917\n",
      "당신의 출생년도는 1988년 이고 나이는 만 34세 입니다.\n"
     ]
    }
   ],
   "source": [
    "# 주민등록번호를 입력받아 만 나이를 출력한다. \n",
    "jumin = input('주민등록번호를 입력하세요:')\n",
    "year = int(jumin[0:2])\n",
    "month =int(jumin[3:4])\n",
    "day = int(jumin[5:6])\n",
    "\n",
    "# ageYear = 2022 - year \n",
    "# ageMonth = month - 5\n",
    "# ageDay = day - 18 \n",
    "\n",
    "# print(ageYear)\n",
    "\n",
    "# 성별이 2 이하이면 1900년대에 그렇지 않으면 2000년대에 태어났다. \n",
    "#if jumin[6] <= '2':\n",
    "    # year = year + 1900\n",
    "    # 대입 연산자\n",
    "    # '='와 같이 사용하는 연산자를 말하며 연산자 우선순위가 가장 늦다. => +=, -=, *=, /=, //=, %=\n",
    "#    year += 1900\n",
    "#else : \n",
    "#    year += 2000\n",
    "\n",
    "year += 1900 if jumin[6] <= '2' else 2000\n",
    "\n",
    "\n",
    "from datetime import datetime as dt\n",
    "now = dt.now()\n",
    "\n",
    "print('당신의 출생년도는 {}년 이고 나이는 만 {}세 입니다.'.format(year, now.year - year))\n"
   ]
  },
  {
   "cell_type": "code",
   "execution_count": 5,
   "id": "03c6072e",
   "metadata": {},
   "outputs": [
    {
     "name": "stdout",
     "output_type": "stream",
     "text": [
      "년도를 입력하세요: 2022\n",
      "2022년은 평년입니다.\n"
     ]
    }
   ],
   "source": [
    "# 윤년, 평년 판단하기\n",
    "# 년도가 4로 나눠 떨어지고(and) 100으로 나눠 떨어지지 않거나(or) 400으로 나눠 떨어지면 윤년\n",
    "# 그렇지 않으면 평년 \n",
    "\n",
    "year = int(input('년도를 입력하세요: '))\n",
    "# if year % 4 == 0 and year % 100 != 0 or year % 400 == 0 :\n",
    "#    print('윤년입니다.')\n",
    "#else : \n",
    "#    print('평년입니다.')\n",
    "\n",
    "print('{}년은 {}년입니다.'.format(year,'윤' if year % 4 == 0 and year % 100 != 0 or year % 400 == 0 else '평'))"
   ]
  },
  {
   "cell_type": "code",
   "execution_count": 20,
   "id": "e6d013ee",
   "metadata": {},
   "outputs": [
    {
     "name": "stdout",
     "output_type": "stream",
     "text": [
      "3과목 점수를 입력하세요: 70 80 90\n",
      "총점: 240점, 평균:  80.00점\n",
      "평균:  80.00점, 등급 B\n"
     ]
    }
   ],
   "source": [
    "# 세 과목 점수를 입력받아 평균 점수가 90점 이상이면 A, 80점 이상이면 B, 70점 이상이면 C, 60점 이상이면 D, 그 이외의 경우는 F 를 출력한다. \n",
    "# firstScore = int(input('첫번째 과목의 점수를 입력하세요: '))\n",
    "# secondScore = int(input('두번째 과목의 점수를 입력하세요: '))\n",
    "# thirdScore = int(input('세번째 과목의 점수를 입력하세요: '))\n",
    "# average = (firstScore + secondScore + thirdScore)/3\n",
    "# print(average)\n",
    "\n",
    "# if average > 90 :\n",
    "#    grade = 'A'\n",
    "# if 80 < average < 90 :\n",
    "#    grade = 'B'\n",
    "# if 70 < average < 80 :\n",
    "#    grade = 'C'\n",
    "# if 60 < average < 70 :\n",
    "#    grade = 'D'\n",
    "# else :\n",
    "#    grade = 'F'    \n",
    "# print('평균점수는 {}점이고 등급은 {}입니다.'.format(average, grade))\n",
    "\n",
    "python, java, spring = map(int, input('3과목 점수를 입력하세요: ').split())\n",
    "total = python + java + spring \n",
    "average = total / 3 \n",
    "print('총점: {}점, 평균: {:6.2f}점'.format(total, average))\n",
    "\n",
    "#if average > 90:\n",
    "#    print('평균: {:6.2f}점, 등급 A'.format(average))\n",
    "#if average < 90 and average >=80:\n",
    "#    print('평균: {:6.2f}점, 등급 B'.format(average))\n",
    "#if average < 80 and average >=70:\n",
    "#    print('평균: {:6.2f}점, 등급 C'.format(average))\n",
    "#if average < 70 and average >=60:\n",
    "#    print('평균: {:6.2f}점, 등급 D'.format(average))\n",
    "#if average < 60:\n",
    "#    print('평균: {:6.2f}점, 등급 F'.format(average))\n",
    "\n",
    "if average > 90:\n",
    "    print('평균: {:6.2f}점, 등급 A'.format(average))\n",
    "elif average < 90 and average >=80:\n",
    "    print('평균: {:6.2f}점, 등급 B'.format(average))\n",
    "elif average < 80 and average >=70:\n",
    "    print('평균: {:6.2f}점, 등급 C'.format(average))\n",
    "elif average < 70 and average >=60:\n",
    "    print('평균: {:6.2f}점, 등급 D'.format(average))\n",
    "else:\n",
    "    print('평균: {:6.2f}점, 등급 F'.format(average))"
   ]
  },
  {
   "cell_type": "code",
   "execution_count": 21,
   "id": "9632db26",
   "metadata": {},
   "outputs": [
    {
     "name": "stdout",
     "output_type": "stream",
     "text": [
      "0.31191513400059767\n",
      "32\n"
     ]
    }
   ],
   "source": [
    "import random # 난수를 발생시키는 모듈을 import 한다. \n",
    "# random() 메소드는 0이상이고 1미만인 난수를 발생시킨다.\n",
    "print(random.random())\n",
    "# randint(a, b) 메소드는 a 부터 b 사이의 난수를 정수로 발생시킨다. \n",
    "print(random.randint(1,46))\n",
    "# randrange(a, b) 메소드는 a 부터 b - 1 사이의 난수를 정수로 발생시킨다.\n",
    "print(random.randrange(1,46))"
   ]
  },
  {
   "cell_type": "code",
   "execution_count": 43,
   "id": "bdc5f12b",
   "metadata": {},
   "outputs": [
    {
     "name": "stdout",
     "output_type": "stream",
     "text": [
      "player2(3)가 player1(1)에게 이겼습니다.\n",
      "비겼습니다\n"
     ]
    }
   ],
   "source": [
    "#가위바위보\n",
    "player1 = random.randint(1,3)\n",
    "player2 = random.randint(1,3)\n",
    "\n",
    "scissor = 1\n",
    "rock = 2\n",
    "paper = 3\n",
    "\n",
    "if player1==1 and player2==2 or player1==2 and player2==3 or player1==3 and player2==1 :\n",
    "    print('player2({})가 player1({})에게 이겼습니다.'.format(player1,player2))\n",
    "if player1==1 and player2==3 or player1==2 and player2==1 or player1==3 and player2==2 :\n",
    "    print('player2({})가 player1({})에게 졌습니다.'.format(player1,player2))\n",
    "else: \n",
    "    print('비겼습니다')\n"
   ]
  },
  {
   "cell_type": "code",
   "execution_count": null,
   "id": "0845e885",
   "metadata": {},
   "outputs": [],
   "source": []
  },
  {
   "cell_type": "code",
   "execution_count": null,
   "id": "75f9c5b7",
   "metadata": {},
   "outputs": [],
   "source": []
  }
 ],
 "metadata": {
  "kernelspec": {
   "display_name": "Python 3 (ipykernel)",
   "language": "python",
   "name": "python3"
  },
  "language_info": {
   "codemirror_mode": {
    "name": "ipython",
    "version": 3
   },
   "file_extension": ".py",
   "mimetype": "text/x-python",
   "name": "python",
   "nbconvert_exporter": "python",
   "pygments_lexer": "ipython3",
   "version": "3.10.4"
  }
 },
 "nbformat": 4,
 "nbformat_minor": 5
}
