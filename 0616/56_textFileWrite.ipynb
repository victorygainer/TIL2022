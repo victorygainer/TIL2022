{
 "cells": [
  {
   "cell_type": "markdown",
   "id": "479386e6",
   "metadata": {},
   "source": [
    "파이썬을 이용해서 텍스트 파일을 처리할 경우 파일 탐색기에서 아래의 설정이 되어있나 확인한다.  \n",
    "windows 10: 파일 탐색기 => 보기 메뉴 => 파일 확장명 체크   \n",
    "wondows 7, 8: 파일 탐색기 => 보기 메뉴 => 폴더 검색 및 옵션 변경 => 보기 탭 => 알려진 파일 형식의 ~~~~~ 체크 해제"
   ]
  },
  {
   "cell_type": "markdown",
   "id": "c02a4e17",
   "metadata": {},
   "source": [
    "파일로 출력하거나 파일에서 읽어올 경우 반드시 파일을 open 시켜야 한다.\n",
    "# 파일 열기\n",
    "변수 = open('텍스트 파일 이름', '파일 열기 모드')  \n",
    "파일 열기 모드 => w(write, 쓰기(덮어쓰기)), a(append, 쓰기(추가)), r(read, 읽기)  \n",
    "w는 지정한 파일이 없으면 파일을 만든 후 저장하고 있으면 기존 내용을 지우고 저장한다. => 덮어쓰기  \n",
    "a는 지정한 파일이 없으면 파일을 만든 후 저장하고 있으면 기존 내용 뒤에 추가하고 저장한다. => 추가  \n",
    "r은 지정한 파일이 없으면 에러가 발생된다.  \n",
    "w, a 모드로 파일을 열어서 작업했으면 반드시 파일을 close() 메소드를 사용해서 닫아야 파일에 데이터가 저장된다.  \n",
    "r 모드로 파일을 열어서 작업했으면 파일을 닫지 않아도 상관없다."
   ]
  },
  {
   "cell_type": "code",
   "execution_count": 1,
   "id": "23c582a0",
   "metadata": {},
   "outputs": [
    {
     "name": "stdout",
     "output_type": "stream",
     "text": [
      "data.txt 파일에 쓰기 완료\n"
     ]
    }
   ],
   "source": [
    "# open() 함수에 파일 이름만 쓰면 현재 화면에 작업중인 프로그램이 위치한 경로에 위치한 파일이라는 의미이다.\n",
    "# open('data.txt', 'w') 형식을 사용해서 파일을 open할 때 'cp949'라는 메시지가 보이며 한글 인코딩 문제로 에러가 발생되면\n",
    "# open('data.txt', 'w', -1, 'utf-8') 형식을 사용해서 열어주면 된다.\n",
    "file = open('data.txt', 'w') # data.txt 파일을 출력(덮어쓰기)용으로 open 한다.\n",
    "for i in range(10):\n",
    "    # 화면에 출력할 때는 print()를 사용하고 파일로 출력할 때는 write()를 사용한다.\n",
    "    # 출력할 때 끝에 개행 문자('\\n')를 붙여야 텍스트 파일에 데이터가 저장될 때 줄이 바뀐다.\n",
    "    file.write('꺄아~~~~~~~~' + '\\n')\n",
    "file.close()\n",
    "print('data.txt 파일에 쓰기 완료')"
   ]
  },
  {
   "cell_type": "code",
   "execution_count": null,
   "id": "6194e9b1",
   "metadata": {},
   "outputs": [],
   "source": []
  },
  {
   "cell_type": "code",
   "execution_count": null,
   "id": "b66b4364",
   "metadata": {},
   "outputs": [],
   "source": []
  },
  {
   "cell_type": "code",
   "execution_count": null,
   "id": "3f532400",
   "metadata": {},
   "outputs": [],
   "source": []
  }
 ],
 "metadata": {
  "kernelspec": {
   "display_name": "Python 3 (ipykernel)",
   "language": "python",
   "name": "python3"
  },
  "language_info": {
   "codemirror_mode": {
    "name": "ipython",
    "version": 3
   },
   "file_extension": ".py",
   "mimetype": "text/x-python",
   "name": "python",
   "nbconvert_exporter": "python",
   "pygments_lexer": "ipython3",
   "version": "3.10.4"
  }
 },
 "nbformat": 4,
 "nbformat_minor": 5
}
