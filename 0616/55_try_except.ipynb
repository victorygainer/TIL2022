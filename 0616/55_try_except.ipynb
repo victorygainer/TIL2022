{
 "cells": [
  {
   "cell_type": "markdown",
   "id": "810fc699",
   "metadata": {},
   "source": [
    "# 오류 처리\n",
    "프로그램을 작성할 때 잘못 동작되는 것을 방지하기 위해 오류가 발생된다. => 오류가 발생되면 프로그램이 멈춘다.  \n",
    "try ~ except를 사용하면 오류가 발생되었을 때 별도의 처리를 하거나 오류를 무시하고 프로그램을 실행할 수 있다.  \n",
    "오류가 발생될것으로 예상되는 문장은 try 블록에 코딩하고 try 블록을 실행하다가 오류가 발생되면 더 이상 try 블록에 코딩된 내용을 실행하지 않고 해당 except 블록에 코딩된 내용을 실행한다.\n",
    "***\n",
    "try: # 필수  \n",
    "&nbsp;&nbsp;&nbsp;&nbsp;오류가 발생될것으로 예상되는 문장  \n",
    "&nbsp;&nbsp;&nbsp;&nbsp;...  \n",
    "except [오류 이름 [as 변수 이름]]: # 필수 => 오류 이름과 변수 이름은 생략할 수 있다.  \n",
    "&nbsp;&nbsp;&nbsp;&nbsp;오류가 발생되면 실행할 문장  \n",
    "&nbsp;&nbsp;&nbsp;&nbsp;...  \n",
    "finally: # 선택 => 필요할 경우 사용한다.  \n",
    "&nbsp;&nbsp;&nbsp;&nbsp;오류 발생 여부와 관계없이 실행할 문장  \n",
    "&nbsp;&nbsp;&nbsp;&nbsp;..."
   ]
  },
  {
   "cell_type": "code",
   "execution_count": 8,
   "id": "46c9130e",
   "metadata": {},
   "outputs": [
    {
     "name": "stdout",
     "output_type": "stream",
     "text": [
      "4.0\n",
      "나눗셈은 0으로 할 수 없습니다.\n",
      "꺄~~~~~~~~~~~~~~~~~\n"
     ]
    }
   ],
   "source": [
    "try:\n",
    "    print(4 / 1)\n",
    "    print(4 / 0) # ZeroDivisionError\n",
    "    print(4 / 4)\n",
    "except: # except 뒤에 오류 이름을 적지 않으면 모든 오류를 처리할 수 있다.\n",
    "    # pass # 오류 발생시 아무것도 하지않고 오류를 무시하려면 pass를 사용하면 된다.\n",
    "    print('나눗셈은 0으로 할 수 없습니다.')\n",
    "print('꺄~~~~~~~~~~~~~~~~~')"
   ]
  },
  {
   "cell_type": "code",
   "execution_count": 19,
   "id": "0701f76e",
   "metadata": {},
   "outputs": [
    {
     "name": "stdout",
     "output_type": "stream",
     "text": [
      "3\n",
      "리스트의 인덱스 지정이 올바르지 않습니다.\n"
     ]
    }
   ],
   "source": [
    "data = [1, 2, 3]\n",
    "try:\n",
    "    print(data[2])\n",
    "    print(data[3]) # IndexError\n",
    "    print(data[-1])\n",
    "except:\n",
    "    print('리스트의 인덱스 지정이 올바르지 않습니다.')"
   ]
  },
  {
   "cell_type": "code",
   "execution_count": 27,
   "id": "aa1cc28d",
   "metadata": {},
   "outputs": [
    {
     "name": "stdout",
     "output_type": "stream",
     "text": [
      "안녕~~~~~\n",
      "오류 발생 여부와 관계없이 무조건 실행할 문장이 있으면 이곳에 코딩한다.\n"
     ]
    }
   ],
   "source": [
    "data = [1, 2, 3]\n",
    "string = '안녕~~~~~'\n",
    "try:\n",
    "    #print(4 / 0) # ZeroDivisionError\n",
    "    #print(data[3]) # IndexError\n",
    "    print(string)\n",
    "    #print('%d' % string) # TypeError\n",
    "except ZeroDivisionError: # except 뒤에 오류 이름을 적으면 지정된 오류만 오류 처리를 할 수 있다.\n",
    "    print('나눗셈은 0으로 할 수 없습니다.')\n",
    "except IndexError as e: # except 뒤에 오류 이름을 쓰고 as 다음에 변수를 지정하면 오류 메시지가 변수에 저장된다.\n",
    "    print('리스트의 인덱스 지정이 올바르지 않습니다.')\n",
    "    print(e)\n",
    "except:\n",
    "    # except 뒤에 오류 이름을 지정하지 않으면 모든 오류를 처리하기 때문에 except 뒤에 코딩한 다른 except 문장이\n",
    "    # 실행되지 않기 때문에 SyntaxError가 발생된다. 따라서, except만 사용하는 경우 반드시 맨 마지막에 코딩해야 한다.\n",
    "    # ZeroDivisionError, IndexError를 제외한 모든 오류가 이곳에 코딩한 문장을 실행한다.\n",
    "    print('데이터 타입이 올바르지 않습니다.')\n",
    "finally:\n",
    "    # 오류 발생 여부와 관계없이 무조건 실행해야 할 문장이 있다면 finally 블록에 코딩한다.\n",
    "    print('오류 발생 여부와 관계없이 무조건 실행할 문장이 있으면 이곳에 코딩한다.')"
   ]
  },
  {
   "cell_type": "code",
   "execution_count": 28,
   "id": "d8ed9dfa",
   "metadata": {},
   "outputs": [
    {
     "ename": "TypeError",
     "evalue": "'<' not supported between instances of 'str' and 'int'",
     "output_type": "error",
     "traceback": [
      "\u001b[1;31m---------------------------------------------------------------------------\u001b[0m",
      "\u001b[1;31mTypeError\u001b[0m                                 Traceback (most recent call last)",
      "Input \u001b[1;32mIn [28]\u001b[0m, in \u001b[0;36m<cell line: 2>\u001b[1;34m()\u001b[0m\n\u001b[0;32m      1\u001b[0m a \u001b[38;5;241m=\u001b[39m [\u001b[38;5;241m100\u001b[39m, \u001b[38;5;124m'\u001b[39m\u001b[38;5;124m010\u001b[39m\u001b[38;5;124m'\u001b[39m, \u001b[38;5;241m55\u001b[39m, \u001b[38;5;124m'\u001b[39m\u001b[38;5;124m10\u001b[39m\u001b[38;5;124m'\u001b[39m]\n\u001b[1;32m----> 2\u001b[0m \u001b[43ma\u001b[49m\u001b[38;5;241;43m.\u001b[39;49m\u001b[43msort\u001b[49m\u001b[43m(\u001b[49m\u001b[43m)\u001b[49m\n",
      "\u001b[1;31mTypeError\u001b[0m: '<' not supported between instances of 'str' and 'int'"
     ]
    }
   ],
   "source": [
    "a = [100, '010', 55, '10']\n",
    "a.sort()"
   ]
  },
  {
   "cell_type": "code",
   "execution_count": 30,
   "id": "fc1bbc44",
   "metadata": {},
   "outputs": [
    {
     "name": "stdout",
     "output_type": "stream",
     "text": [
      "정렬할 데이터를 입력하세요(999가 입력되면 정렬을 시작합니다.): 111\n",
      "정렬할 데이터를 입력하세요(999가 입력되면 정렬을 시작합니다.): bbb\n",
      "정렬할 데이터를 입력하세요(999가 입력되면 정렬을 시작합니다.): 011\n",
      "정렬할 데이터를 입력하세요(999가 입력되면 정렬을 시작합니다.): aaa\n",
      "정렬할 데이터를 입력하세요(999가 입력되면 정렬을 시작합니다.): 999\n",
      "[11, 111, 'aaa', 'bbb']\n"
     ]
    }
   ],
   "source": [
    "# 숫자 데이터와 문자 데이터가 섞여서 입력되는 데이터를 정렬한다. 999가 입력되면 정렬을 시작한다.\n",
    "number = []\n",
    "alpha = []\n",
    "while True:\n",
    "    var = input('정렬할 데이터를 입력하세요(999가 입력되면 정렬을 시작합니다.): ')\n",
    "    if var == '999':\n",
    "        break\n",
    "    # 입력받은 데이터가 '0' ~ '9' 사이의 문자로만 구성된 경우와 그렇치 않은 경우를 각각 number, alpha 리스트에 저장한다.\n",
    "    try:\n",
    "        number.append(int(var))\n",
    "    except ValueError:\n",
    "        alpha.append(var)\n",
    "# ===== while\n",
    "\n",
    "number.sort()\n",
    "alpha.sort()\n",
    "print(number + alpha)"
   ]
  },
  {
   "cell_type": "code",
   "execution_count": null,
   "id": "cdad4fae",
   "metadata": {},
   "outputs": [],
   "source": []
  },
  {
   "cell_type": "code",
   "execution_count": null,
   "id": "d55b23f5",
   "metadata": {},
   "outputs": [],
   "source": []
  },
  {
   "cell_type": "code",
   "execution_count": null,
   "id": "554cd1a7",
   "metadata": {},
   "outputs": [],
   "source": []
  }
 ],
 "metadata": {
  "kernelspec": {
   "display_name": "Python 3 (ipykernel)",
   "language": "python",
   "name": "python3"
  },
  "language_info": {
   "codemirror_mode": {
    "name": "ipython",
    "version": 3
   },
   "file_extension": ".py",
   "mimetype": "text/x-python",
   "name": "python",
   "nbconvert_exporter": "python",
   "pygments_lexer": "ipython3",
   "version": "3.10.4"
  }
 },
 "nbformat": 4,
 "nbformat_minor": 5
}
