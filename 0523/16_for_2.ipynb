{
 "cells": [
  {
   "cell_type": "markdown",
   "id": "a85f86d7",
   "metadata": {},
   "source": [
    "리스트, 튜플, 딕셔너리, set과 함께 사용하는 for\n",
    "리스트, 튜플, 딕셔너리, set과 0번째 인덱스 값을 변수에 저장하고 반복을 시작하고 마지막 값을 변수에 저장하고 반복한 후 종료한다.\n",
    "***\n",
    "for 변수 in 리스트 or 튜플 or 딕셔너리 or set의 이름: # 인덱싱과 슬라이싱도 가능하다.   \n",
    "&nbsp;&nbsp;&nbsp;반복할 문장  \n",
    "&nbsp;&nbsp;...  "
   ]
  },
  {
   "cell_type": "code",
   "execution_count": 10,
   "id": "52673b17",
   "metadata": {},
   "outputs": [
    {
     "name": "stdout",
     "output_type": "stream",
     "text": [
      "['Life', 'is', 'too', 'Good']\n",
      "================================================================================\n",
      "Life\n",
      "is\n",
      "too\n",
      "Good\n",
      "================================================================================\n",
      "Life\n",
      "is\n",
      "too\n",
      "Good\n",
      "================================================================================\n",
      "================================================================================\n",
      "is\n",
      "too\n",
      "================================================================================\n"
     ]
    }
   ],
   "source": [
    "# 리스트와 함께 사용하는 for\n",
    "a = ['Life', 'is', 'too', 'Good']\n",
    "print(a)\n",
    "print('='* 80)\n",
    "\n",
    "for i in a:\n",
    "    print(i)\n",
    "print('='* 80)\n",
    "for i in range(len(a)):\n",
    "    print(a[i])\n",
    "print('='* 80)\n",
    "print('='* 80)\n",
    "for i in a[1:3]:\n",
    "    print(i)\n",
    "print('='* 80)"
   ]
  },
  {
   "cell_type": "code",
   "execution_count": 11,
   "id": "69d782db",
   "metadata": {},
   "outputs": [
    {
     "name": "stdout",
     "output_type": "stream",
     "text": [
      "('Life', 'is', 'too', 'Good')\n",
      "================================================================================\n",
      "Life\n",
      "is\n",
      "too\n",
      "Good\n",
      "================================================================================\n",
      "Life\n",
      "is\n",
      "too\n",
      "Good\n",
      "================================================================================\n",
      "================================================================================\n",
      "is\n",
      "too\n",
      "================================================================================\n"
     ]
    }
   ],
   "source": [
    "# 튜플와 함께 사용하는 for\n",
    "a = 'Life', 'is', 'too', 'Good'\n",
    "print(a)\n",
    "print('='* 80)\n",
    "\n",
    "for i in a:\n",
    "    print(i)\n",
    "print('='* 80)\n",
    "for i in range(len(a)):\n",
    "    print(a[i])\n",
    "print('='* 80)\n",
    "print('='* 80)\n",
    "for i in a[1:3]:\n",
    "    print(i)\n",
    "print('='* 80)"
   ]
  },
  {
   "cell_type": "code",
   "execution_count": 15,
   "id": "9fbb93ed",
   "metadata": {},
   "outputs": [
    {
     "name": "stdout",
     "output_type": "stream",
     "text": [
      "{'is', 'Good', 'too', 'Life'}\n",
      "================================================================================\n",
      "is\n",
      "Good\n",
      "too\n",
      "Life\n",
      "================================================================================\n"
     ]
    }
   ],
   "source": [
    "# 리스트와 함께 사용하는 for\n",
    "a = {'Life', 'is', 'too', 'Good'}\n",
    "print(a)\n",
    "print('='* 80)\n",
    "\n",
    "for i in a:\n",
    "    print(i)\n",
    "print('='* 80)\n",
    "\n",
    "'''\n",
    "for i in range(len(a)):\n",
    "    print(a[i]) # set은 입력되는 순서와 저장되는 순서가 달라서 인덱싱을 사용할 수 없으므로 에러가 발생된다.\n",
    "print('='* 80)\n",
    "\n",
    "for i in a[1:3]: # set은 입력되는 순서와 저장되는 순서가 달라서 인덱싱을 사용할 수 없으므로 에러가 발생된다.\n",
    "    print(i)\n",
    "print('='* 80)\n",
    "'''\n",
    "pass"
   ]
  },
  {
   "cell_type": "code",
   "execution_count": 21,
   "id": "1a6e0b75",
   "metadata": {},
   "outputs": [
    {
     "name": "stdout",
     "output_type": "stream",
     "text": [
      "{'apple': 100, 'banana': 3500, 'melon': 10000, 'mango': 5000}\n",
      "dict_keys(['apple', 'banana', 'melon', 'mango'])\n",
      "dict_values([100, 3500, 10000, 5000])\n",
      "dict_items([('apple', 100), ('banana', 3500), ('melon', 10000), ('mango', 5000)])\n"
     ]
    }
   ],
   "source": [
    "# 딕셔너리와 함께 사용하는 for\n",
    "a = {'apple': 100, 'banana': 3500, 'melon':10000, 'mango':5000}\n",
    "print(a)\n",
    "print(a.keys())\n",
    "print(a.values())\n",
    "print(a.items())"
   ]
  },
  {
   "cell_type": "code",
   "execution_count": 34,
   "id": "72cb8439",
   "metadata": {},
   "outputs": [
    {
     "name": "stdout",
     "output_type": "stream",
     "text": [
      "apple\n",
      "banana\n",
      "melon\n",
      "mango\n",
      "================================================================================\n",
      "apple\n",
      "banana\n",
      "melon\n",
      "mango\n",
      "================================================================================\n",
      "dict_keys(['apple', 'banana', 'melon', 'mango'])\n",
      "100\n",
      "dict_keys(['apple', 'banana', 'melon', 'mango'])\n",
      "3500\n",
      "dict_keys(['apple', 'banana', 'melon', 'mango'])\n",
      "10000\n",
      "dict_keys(['apple', 'banana', 'melon', 'mango'])\n",
      "5000\n",
      "================================================================================\n",
      "100\n",
      "3500\n",
      "10000\n",
      "5000\n"
     ]
    }
   ],
   "source": [
    "for key in a: #딕셔너리 이름만 쓰면\n",
    "    print(key)\n",
    "print('='* 80)\n",
    "\n",
    "for key in a.keys():\n",
    "    print(key)\n",
    "print('='* 80)\n",
    "\n",
    "# 딕셔너리의 key 값을 이용해서 value 얻어오기\n",
    "for key in a.keys():\n",
    "    print(a.keys())\n",
    "    print(a[key])\n",
    "print('='* 80)\n",
    "\n",
    "for key in a.values():\n",
    "    print(key)"
   ]
  },
  {
   "cell_type": "code",
   "execution_count": 70,
   "id": "71c67a05",
   "metadata": {
    "scrolled": true
   },
   "outputs": [
    {
     "name": "stdout",
     "output_type": "stream",
     "text": [
      "('apple', 100)\n",
      "('banana', 3500)\n",
      "('melon', 10000)\n",
      "('mango', 5000)\n",
      "================================================================================\n",
      "mango 5000\n",
      "apple은 100원 입니다\n",
      "banana은 3,500원 입니다\n",
      "melon은 10,000원 입니다\n",
      "mango은 5,000원 입니다\n"
     ]
    }
   ],
   "source": [
    "for item in a.items():\n",
    "    print(item)\n",
    "print('='* 80)\n",
    "\n",
    "# apple은 1,000원 입니다. \n",
    "print(item[0],item[1])\n",
    "\n",
    "for item in a.items():\n",
    "    print('{}은 {:,}원 입니다'.format(item[0],item[1]))"
   ]
  },
  {
   "cell_type": "code",
   "execution_count": null,
   "id": "6c77d46a",
   "metadata": {},
   "outputs": [],
   "source": []
  }
 ],
 "metadata": {
  "kernelspec": {
   "display_name": "Python 3 (ipykernel)",
   "language": "python",
   "name": "python3"
  },
  "language_info": {
   "codemirror_mode": {
    "name": "ipython",
    "version": 3
   },
   "file_extension": ".py",
   "mimetype": "text/x-python",
   "name": "python",
   "nbconvert_exporter": "python",
   "pygments_lexer": "ipython3",
   "version": "3.10.4"
  }
 },
 "nbformat": 4,
 "nbformat_minor": 5
}
