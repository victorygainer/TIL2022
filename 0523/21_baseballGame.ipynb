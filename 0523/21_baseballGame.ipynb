{
 "cells": [
  {
   "cell_type": "code",
   "execution_count": 13,
   "id": "f2a3f94d",
   "metadata": {},
   "outputs": [
    {
     "name": "stdout",
     "output_type": "stream",
     "text": [
      "========= 플레이 전 =========\n",
      "[1, 2, 3, 4, 5, 6, 7, 8, 9]\n",
      "===========================\n",
      "레벨을 입력하세요(1~9): 0\n",
      "[]\n",
      "user: 0\n",
      "게임을 종료합니다.\n"
     ]
    }
   ],
   "source": [
    "import random\n",
    "# 1 부터 9 까지의 리스트를 만들고 섞어라.\n",
    "baseball = [i for i in range(1,10)]\n",
    "print('=' * 9 + ' 플레이 전 ' + '=' * 9)\n",
    "print(baseball)\n",
    "print('=' * 27 )\n",
    "\n",
    "random.shuffle(baseball)\n",
    "level = int(input('레벨을 입력하세요(1~9): '))\n",
    "cpu = baseball[:level]\n",
    "print(cpu)\n",
    "\n",
    "# 몇번만에 맞출지 모르기 때문에 무한 루프를 돌려 처리한다.\n",
    "while True:\n",
    "    # 새 반복이 시작될 때 마다 스트라이크의 개수와 볼의 개수를 세는 변수를 0으로 초기화시킨다.\n",
    "    # 초기화 시키지 않으면 이전 반복의 스트라이크, 볼의 개수에 현재 반복의 스트라이크, 볼의 개수가 누적된다.\n",
    "    s = 0; b = 0\n",
    "    # 컴퓨터가 숨겨놓은 숫자를 맞추기 위해 유저에게 입력을받는다.\n",
    "    user = input('user: ')\n",
    "    # 레벨만큼 반복하며 스트라이크의 개수와 볼의개수를 센다.\n",
    "    # 2레벨 \n",
    "    if level == 0:\n",
    "        print('게임을 종료합니다.')\n",
    "        break;\n",
    "    for i in range(level): \n",
    "        # 스트라이크 => cpu와 user의 같은 인덱스에 위치한 데이터가 같다.\n",
    "        # str() 함수는 숫자를 문자열로 변환한다.\n",
    "        if str(cpu[i]) == user[i]:\n",
    "        # int() 함수는 문자열을 숫자로 변환한다.\n",
    "        # if cpu[i] == int(user[i]):\n",
    "            s += 1 \n",
    "        # 볼 => user[i]가 cpu 리스트에 포함되어 있다.\n",
    "        elif int(user[i]) in cpu:\n",
    "            b += 1\n",
    "    #==================for\n",
    "    if s == level:\n",
    "        break;\n",
    "    # 맞추지 못했으므로 힌트를 출력한다. \n",
    "    print('{} 스트라이크 {} 볼'.format(s,b))    \n",
    "#======= while  \n",
    "\n",
    "else: \n",
    "    print('맞췄다 => {}'.format(cpu))\n"
   ]
  },
  {
   "cell_type": "code",
   "execution_count": 18,
   "id": "2f3033ab",
   "metadata": {},
   "outputs": [
    {
     "name": "stdout",
     "output_type": "stream",
     "text": [
      "========= 플레이 전 =========\n",
      "[1, 2, 3, 4, 5, 6, 7, 8, 9]\n",
      "===========================\n",
      "레벨을 입력하세요(1~9): 3\n",
      "[2, 8, 9]\n",
      "user: 289\n",
      "1번 만에 맞췄습니다 => [2, 8, 9]\n"
     ]
    }
   ],
   "source": [
    "import random\n",
    "baseball = [i for i in range(1,10)]\n",
    "print('=' * 9 + ' 플레이 전 ' + '=' * 9)\n",
    "print(baseball)\n",
    "print('=' * 27 )\n",
    "random.shuffle(baseball)\n",
    "level = int(input('레벨을 입력하세요(1~9): '))\n",
    "cpu = baseball[:level]\n",
    "print(cpu)\n",
    "\n",
    "count = 0 # 유저가 맞추기 위해서 전체 몇번 입력했나 세야하므로 반복 전에 초기화시켜야 한다. \n",
    "while True:\n",
    "    s = 0; b = 0\n",
    "    user = input('user: ')\n",
    "    count += 1\n",
    "    if level == 0:\n",
    "        print('게임을 종료합니다.')\n",
    "        break;\n",
    "    for i in range(level): \n",
    "        if str(cpu[i]) == user[i]:\n",
    "            s += 1 \n",
    "        elif int(user[i]) in cpu:\n",
    "            b += 1\n",
    "    #==================for\n",
    "    if s == level:\n",
    "        break;\n",
    "    print('{} 스트라이크 {} 볼'.format(s,b))    \n",
    "else: \n",
    "    print('맞췄다 => {}'.format(cpu))\n",
    "    #======= while  \n",
    "print('{}번 만에 맞췄습니다 => {}'.format(count,cpu))\n"
   ]
  },
  {
   "cell_type": "code",
   "execution_count": 28,
   "id": "4955f9de",
   "metadata": {},
   "outputs": [
    {
     "name": "stdout",
     "output_type": "stream",
     "text": [
      "========= 플레이 전 =========\n",
      "[1, 2, 3, 4, 5, 6, 7, 8, 9]\n",
      "===========================\n",
      "레벨을 입력하세요(1~9): 3\n",
      "[6, 5, 4]\n",
      "user: 634\n",
      "2 스트라이크 0 볼\n",
      "user: 651\n",
      "2 스트라이크 0 볼\n",
      "user: 654\n",
      "3번 만에 맞췄습니다. 소요시간은 14.386944초입니다.  => [6, 5, 4]\n"
     ]
    }
   ],
   "source": [
    "from datetime import datetime as dt # 날짜 ,시간 관련 모듈을 import 한다. \n",
    "import random\n",
    "\n",
    "baseball = [i for i in range(1,10)]\n",
    "print('=' * 9 + ' 플레이 전 ' + '=' * 9)\n",
    "print(baseball)\n",
    "print('=' * 27 )\n",
    "random.shuffle(baseball)\n",
    "level = int(input('레벨을 입력하세요(1~9): '))\n",
    "cpu = baseball[:level]\n",
    "print(cpu)\n",
    "start = dt.now()\n",
    "\n",
    "count = 0 # 유저가 맞추기 위해서 전체 몇번 입력했나 세야하므로 반복 전에 초기화시켜야 한다. \n",
    "while True:\n",
    "    s = 0; b = 0\n",
    "    user = input('user: ')\n",
    "    count += 1\n",
    "    for i in range(level): \n",
    "        if str(cpu[i]) == user[i]:\n",
    "            s += 1 \n",
    "        elif int(user[i]) in cpu:\n",
    "            b += 1\n",
    "    #==================for\n",
    "    if s == level:\n",
    "        break;\n",
    "    print('{} 스트라이크 {} 볼'.format(s,b))    \n",
    "else: \n",
    "    print('맞췄다 => {}'.format(cpu))\n",
    "    #======= while  \n",
    "end = dt.now() # 게임 종료 시간을 저장한다. \n",
    "t = end - start # 게임시간 계산\n",
    "print('{}번 만에 맞췄습니다. 소요시간은 {}초입니다.  => {}'.format(count,t.total_seconds(), cpu))\n"
   ]
  },
  {
   "cell_type": "code",
   "execution_count": null,
   "id": "1da50023",
   "metadata": {},
   "outputs": [],
   "source": []
  },
  {
   "cell_type": "code",
   "execution_count": null,
   "id": "520ef7c8",
   "metadata": {},
   "outputs": [],
   "source": []
  }
 ],
 "metadata": {
  "kernelspec": {
   "display_name": "Python 3 (ipykernel)",
   "language": "python",
   "name": "python3"
  },
  "language_info": {
   "codemirror_mode": {
    "name": "ipython",
    "version": 3
   },
   "file_extension": ".py",
   "mimetype": "text/x-python",
   "name": "python",
   "nbconvert_exporter": "python",
   "pygments_lexer": "ipython3",
   "version": "3.10.4"
  }
 },
 "nbformat": 4,
 "nbformat_minor": 5
}
