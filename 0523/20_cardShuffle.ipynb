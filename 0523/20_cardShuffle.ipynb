{
 "cells": [
  {
   "cell_type": "code",
   "execution_count": 1,
   "id": "0b6b7b7b",
   "metadata": {},
   "outputs": [],
   "source": [
    "import random"
   ]
  },
  {
   "cell_type": "code",
   "execution_count": 37,
   "id": "003e6206",
   "metadata": {},
   "outputs": [],
   "source": [
    "# 카드 출력에 사용 할 숫자와 무늬를 기억하는 리스트를 만든다.\n",
    "number = ['A', '2', '3', '4', '5', '6', '7', '8', '9', '10', 'J', 'Q', 'K']\n",
    "symbol = ['♠️', '♦️', '♥️', '♣️']"
   ]
  },
  {
   "cell_type": "code",
   "execution_count": 42,
   "id": "20b02fc1",
   "metadata": {},
   "outputs": [
    {
     "name": "stdout",
     "output_type": "stream",
     "text": [
      "[0, 1, 2, 3, 4, 5, 6, 7, 8, 9, 10, 11, 12, 13, 14, 15, 16, 17, 18, 19, 20, 21, 22, 23, 24, 25, 26, 27, 28, 29, 30, 31, 32, 33, 34, 35, 36, 37, 38, 39, 40, 41, 42, 43, 44, 45, 46, 47, 48, 49, 50, 51]\n",
      "A   2   3   4   5   6   7   8   9   10  J   Q   K   \n",
      "A   2   3   4   5   6   7   8   9   10  J   Q   K   \n",
      "A   2   3   4   5   6   7   8   9   10  J   Q   K   \n",
      "A   2   3   4   5   6   7   8   9   10  J   Q   K   \n"
     ]
    }
   ],
   "source": [
    "# 0~51 사이의 숫자가 채워진 리스트를 만든다. => 카드 \n",
    "cards = [i for i in range(52)]\n",
    "print(cards)\n",
    "\n",
    "# 섞기 전 상태를 출력한다. => cards 리스트에 저장된 숫자를 1줄에 13개씩 출력한다. \n",
    "for i in range(len(cards)):\n",
    "    # print('{:4d}'.format(cards[i]), end='')\n",
    "    print('{:4s}'.format(number[cards[i] % 13]), end='')\n",
    "    if (i + 1) % 13 == 0:\n",
    "    \n",
    "        print()"
   ]
  },
  {
   "cell_type": "code",
   "execution_count": 47,
   "id": "a521c06a",
   "metadata": {},
   "outputs": [
    {
     "name": "stdout",
     "output_type": "stream",
     "text": [
      "♠️♠️♠️♠️♠️♠️♠️♠️♠️♠️♠️♠️♠️\n",
      "♦️♦️♦️♦️♦️♦️♦️♦️♦️♦️♦️♦️♦️\n",
      "♥️♥️♥️♥️♥️♥️♥️♥️♥️♥️♥️♥️♥️\n",
      "♣️♣️♣️♣️♣️♣️♣️♣️♣️♣️♣️♣️♣️\n"
     ]
    }
   ],
   "source": [
    "# 섞기 전 상태를 출력한다. => cards 리스트에 저장된 숫자를 1줄에 13개씩 출력한다. \n",
    "for i in range(len(cards)):\n",
    "    # print('{:4d}'.format(cards[i]), end='')\n",
    "    print('{:s}'.format(symbol[cards[i] // 13]), end='')\n",
    "    if (i + 1) % 13 == 0:\n",
    "        print()"
   ]
  },
  {
   "cell_type": "code",
   "execution_count": 62,
   "id": "c08b451c",
   "metadata": {},
   "outputs": [
    {
     "name": "stdout",
     "output_type": "stream",
     "text": [
      "♦️8   ♣️9   ♦️A   ♣️8   ♠️J   ♠️5   ♦️5   ♣️K   ♥️2   ♠️10  ♥️8   ♥️6   ♣️A   \n",
      "♠️Q   ♦️K   ♠️6   ♥️7   ♦️Q   ♥️10  ♣️7   ♦️2   ♦️4   ♣️J   ♠️9   ♠️4   ♦️6   \n",
      "♥️3   ♥️4   ♥️Q   ♦️3   ♥️J   ♣️4   ♦️7   ♦️9   ♣️5   ♥️A   ♣️Q   ♠️3   ♠️8   \n",
      "♠️A   ♣️6   ♦️J   ♦️10  ♠️2   ♥️5   ♥️9   ♥️K   ♠️7   ♣️2   ♣️3   ♣️10  ♠️K   \n",
      "========================== Before Shuffle ==========================\n",
      "♦️10  ♣️5   ♣️7   ♥️3   ♠️2   ♣️8   ♣️9   ♥️4   ♠️Q   ♥️6   ♥️7   ♥️A   ♠️9   \n",
      "♠️6   ♠️K   ♥️J   ♦️5   ♠️4   ♠️3   ♦️9   ♦️2   ♣️A   ♥️8   ♥️10  ♣️2   ♠️8   \n",
      "♠️A   ♦️A   ♦️J   ♥️K   ♦️Q   ♦️8   ♠️J   ♠️5   ♦️3   ♦️6   ♠️7   ♣️K   ♣️4   \n",
      "♣️6   ♥️9   ♦️K   ♦️4   ♥️5   ♥️2   ♥️Q   ♣️10  ♠️10  ♦️7   ♣️Q   ♣️3   ♣️J   \n",
      "==========================  After Shuffle ==========================\n"
     ]
    }
   ],
   "source": [
    "# 섞기 전 상태를 출력한다. => cards 리스트에 저장된 숫자를 1줄에 13개씩 출력한다. \n",
    "for i in range(len(cards)):\n",
    "    # print('{:4d}'.format(cards[i]), end='')\n",
    "    print('{}{:4s}'.format(symbol[cards[i]//13], number[cards[i] % 13]), end='')\n",
    "    if (i + 1) % 13 == 0:    \n",
    "        print()\n",
    "print('=' * 26 + ' Before Shuffle ' + '=' * 26)\n",
    "\n",
    "random.shuffle(cards)\n",
    "\n",
    "for i in range(len(cards)):\n",
    "    # print('{:4d}'.format(cards[i]), end='')\n",
    "    print('{}{:4s}'.format(symbol[cards[i]//13], number[cards[i] % 13]), end='')\n",
    "    if (i + 1) % 13 == 0:    \n",
    "        print()\n",
    "print('=' * 26 + '  After Shuffle ' + '=' * 26)"
   ]
  },
  {
   "cell_type": "code",
   "execution_count": null,
   "id": "38a3a166",
   "metadata": {},
   "outputs": [],
   "source": []
  }
 ],
 "metadata": {
  "kernelspec": {
   "display_name": "Python 3 (ipykernel)",
   "language": "python",
   "name": "python3"
  },
  "language_info": {
   "codemirror_mode": {
    "name": "ipython",
    "version": 3
   },
   "file_extension": ".py",
   "mimetype": "text/x-python",
   "name": "python",
   "nbconvert_exporter": "python",
   "pygments_lexer": "ipython3",
   "version": "3.10.4"
  }
 },
 "nbformat": 4,
 "nbformat_minor": 5
}
